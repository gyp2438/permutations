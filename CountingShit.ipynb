{
 "cells": [
  {
   "cell_type": "code",
   "execution_count": 249,
   "id": "17216baa-2e85-42fc-8ffa-e2a64bbd6d94",
   "metadata": {},
   "outputs": [],
   "source": [
    "n=3\n",
    "W = Permutations(n);"
   ]
  },
  {
   "cell_type": "code",
   "execution_count": 250,
   "id": "a455d4e7-775d-45d8-b9c6-3ceee95a0418",
   "metadata": {},
   "outputs": [],
   "source": [
    "def dominant_elements(W): \n",
    "    for u in W:\n",
    "        if u.avoids([1,3,2]): \n",
    "            yield u\n",
    "            \n",
    "def square (x, y, s, color = \"black\"):\n",
    "    return polygon([[x,y], [x+s,y],[x+s,y+s],[x,y+s]], color = color)\n",
    "\n",
    "def lehmer_diagram(w): \n",
    "    out = []\n",
    "    \n",
    "    for i in range(0, len(w)):\n",
    "        for j in range(i + 1, len(w)):\n",
    "            if w[i] > w[j]: \n",
    "                out.append((i, w[j] - 1))\n",
    "    \n",
    "    return out;\n",
    "\n",
    "def interval_diagram (u, v, color): \n",
    "    n = len(u)\n",
    "    out = [polygon([[0,0], [n,0],[n,n],[0,n]], color = \"#EEEEEE\", axes = False)];\n",
    "    \n",
    "    for (x, y) in lehmer_diagram(v):\n",
    "        out.append(square(x, n - y - 1, 1, color));\n",
    "\n",
    "    for i in range(0, len(u)):\n",
    "        out.append(circle((i + .5, n - (u[i] + .5) + 1),.1, color=\"grey\", thickness=3))\n",
    "        \n",
    "    for i in range(0, n):\n",
    "        out.append(circle((i + .5, n - (v[i] + .5) + 1), .08, color=color, fill= True))\n",
    "\n",
    "    for (x, y) in lehmer_diagram(u):\n",
    "        out.append(square(x, n - y - 1, 1, \"grey\")); \n",
    "    \n",
    "    return sum(out)\n",
    "\n",
    "\n",
    "colors = [\n",
    "    \"#819aff\",\n",
    "    \"#66d9ef\",\n",
    "    \"#a6e22e\",\n",
    "    \"#ae81ff\",\n",
    "    \"#f92672\",\n",
    "    \"#e2e22e\",\n",
    "    \"#56adbc\",\n",
    "    \"#86b42b\"\n",
    "]\n",
    "\n",
    "shifted_intervals = [];\n",
    "pairs_grouped_by_interval = {}\n",
    "\n",
    "def shifted_interval (u, v): \n",
    "    W = u.parent();\n",
    "    interval = set()\n",
    "    for x in W.bruhat_interval(u, W(v)):\n",
    "        interval.add(u^(-1)*x) \n",
    "    return frozenset(interval)"
   ]
  },
  {
   "cell_type": "code",
   "execution_count": 262,
   "id": "aab20d85-f398-45fa-84c5-852211e2652e",
   "metadata": {},
   "outputs": [],
   "source": [
    "def southeast_border_path(edges):\n",
    "    \"\"\"\n",
    "    Given permutation u, return the southeast border path of its Lehmer diagram\n",
    "    in the same coordinate system used for drawing in interval_diagram.\n",
    "    \"\"\"\n",
    "    #adding borders\n",
    "    edges[-1] = 0\n",
    "    path = ''\n",
    "\n",
    "    for row_step in range(n):\n",
    "        if row_step in edges.keys():\n",
    "            path = path + 'N'* (edges[row_step] - edges[row_step-1]) + 'E'\n",
    "        else: \n",
    "            leftover_N = n-path.count('N')\n",
    "            leftover_E = n-path.count('E')\n",
    "            path = path + 'N'*leftover_N +  'E'*leftover_E\n",
    "\n",
    "    return path\n",
    "\n",
    "def interval_diagram_w_lattice(u, v, color):\n",
    "    n = len(u)\n",
    "    assert u in dominant_elements(W), 'u is not dominant'\n",
    "    out = [polygon([[0,0], [n,0],[n,n],[0,n]], color=\"#EEEEEE\", axes=False)]\n",
    "    outer_edges = {}\n",
    "    s, t = 0,0\n",
    "    path = [(s,t)]\n",
    "    \n",
    "    # Squares for v's Lehmer diagram\n",
    "    for (x, y) in lehmer_diagram(v):\n",
    "        out.append(square(x, n - y - 1, 1, color))\n",
    "\n",
    "    # Grey circles for u\n",
    "    for i in range(len(u)):\n",
    "        out.append(circle((i + .5, n - (u[i] + .5) + 1), .1, color=\"grey\", thickness=3))\n",
    "        \n",
    "    # Filled circles for v\n",
    "    for i in range(n):\n",
    "        out.append(circle((i + .5, n - (v[i] + .5) + 1), .08, color=color, fill=True))\n",
    "\n",
    "    # Grey boxes for u's Lehmer diagram\n",
    "    for (x, y) in lehmer_diagram(u):\n",
    "        grey = {(x, n - y - 1)}\n",
    "        out.append(square(x, n - y - 1, 1, \"grey\"))  \n",
    "        if x not in outer_edges or n-y-1 < outer_edges[x]:\n",
    "            outer_edges[x] = n-y-1\n",
    "            \n",
    "   # === Add southeast border path ===\n",
    "    border = southeast_border_path(outer_edges)\n",
    "    #print(border)\n",
    "    pts = [(0,0)]\n",
    "    x,y = 0,0\n",
    "    for ch in border:\n",
    "        if ch == 'E':\n",
    "            x += 1\n",
    "        elif ch == 'N':\n",
    "            y += 1\n",
    "        pts.append((x,y))\n",
    "    \n",
    "    # We want the path to run along edges so it \"goes around\" the marked cells: in this\n",
    "    # example NENNEE already runs up along x=0 from y=0->1->2->3 etc and then right,\n",
    "    # skirting the left side of the marked cells.\n",
    "    # Draw segments (with arrows optional)\n",
    "    segments = []\n",
    "    label = []\n",
    "    for i in range(len(pts)-1):\n",
    "        a = pts[i]; b = pts[i+1]\n",
    "        mid_x = (a[0] + b[0]) / 2\n",
    "        mid_y = (a[1] + b[1]) / 2\n",
    "    \n",
    "        # Label with the step number\n",
    "        label.append(text(str(i), (mid_x, mid_y), color='blue', fontsize=10))\n",
    "        segments.append(line([a,b], thickness=2, color='red'))\n",
    "    \n",
    "    plot_elements = sum(out) + sum(segments) + sum(label)\n",
    "\n",
    "    return plot_elements"
   ]
  },
  {
   "cell_type": "code",
   "execution_count": 264,
   "id": "53543570-5819-44c6-9fdb-3a1d8eadbfab",
   "metadata": {},
   "outputs": [
    {
     "name": "stdout",
     "output_type": "stream",
     "text": [
      "NENENE\n"
     ]
    },
    {
     "data": {
      "image/png": "[encoded data removed]",
      "text/plain": [
       "Graphics object consisting of 25 graphics primitives"
      ]
     },
     "metadata": {},
     "output_type": "display_data"
    }
   ],
   "source": [
    "show(interval_diagram_w_lattice(u,v, colors[0]), figsize=[1,1])"
   ]
  },
  {
   "cell_type": "code",
   "execution_count": 263,
   "id": "54aa1947-cd62-4a23-a19c-192940bf2714",
   "metadata": {},
   "outputs": [
    {
     "name": "stdout",
     "output_type": "stream",
     "text": [
      "[1, 2, 3] [1, 2, 3]\n",
      "NNNEEE\n"
     ]
    },
    {
     "data": {
      "image/png": "[encoded data removed]",
      "text/plain": [
       "Graphics object consisting of 19 graphics primitives"
      ]
     },
     "metadata": {},
     "output_type": "display_data"
    },
    {
     "name": "stdout",
     "output_type": "stream",
     "text": [
      "[1, 2, 3] [1, 3, 2]\n",
      "NNNEEE\n"
     ]
    },
    {
     "data": {
      "image/png": "[encoded data removed]",
      "text/plain": [
       "Graphics object consisting of 20 graphics primitives"
      ]
     },
     "metadata": {},
     "output_type": "display_data"
    },
    {
     "name": "stdout",
     "output_type": "stream",
     "text": [
      "[1, 2, 3] [2, 1, 3]\n",
      "NNNEEE\n"
     ]
    },
    {
     "data": {
      "image/png": "[encoded data removed]",
      "text/plain": [
       "Graphics object consisting of 20 graphics primitives"
      ]
     },
     "metadata": {},
     "output_type": "display_data"
    },
    {
     "name": "stdout",
     "output_type": "stream",
     "text": [
      "[1, 2, 3] [2, 3, 1]\n",
      "NNNEEE\n"
     ]
    },
    {
     "data": {
      "image/png": "[encoded data removed]",
      "text/plain": [
       "Graphics object consisting of 21 graphics primitives"
      ]
     },
     "metadata": {},
     "output_type": "display_data"
    },
    {
     "name": "stdout",
     "output_type": "stream",
     "text": [
      "[1, 2, 3] [3, 1, 2]\n",
      "NNNEEE\n"
     ]
    },
    {
     "data": {
      "image/png": "[encoded data removed]",
      "text/plain": [
       "Graphics object consisting of 21 graphics primitives"
      ]
     },
     "metadata": {},
     "output_type": "display_data"
    },
    {
     "name": "stdout",
     "output_type": "stream",
     "text": [
      "[1, 2, 3] [3, 2, 1]\n",
      "NNNEEE\n"
     ]
    },
    {
     "data": {
      "image/png": "[encoded data removed]",
      "text/plain": [
       "Graphics object consisting of 22 graphics primitives"
      ]
     },
     "metadata": {},
     "output_type": "display_data"
    },
    {
     "name": "stdout",
     "output_type": "stream",
     "text": [
      "[2, 1, 3] [2, 1, 3]\n",
      "NNENEE\n"
     ]
    },
    {
     "data": {
      "image/png": "[encoded data removed]",
      "text/plain": [
       "Graphics object consisting of 21 graphics primitives"
      ]
     },
     "metadata": {},
     "output_type": "display_data"
    },
    {
     "name": "stdout",
     "output_type": "stream",
     "text": [
      "[2, 1, 3] [2, 3, 1]\n",
      "NNENEE\n"
     ]
    },
    {
     "data": {
      "image/png": "[encoded data removed]",
      "text/plain": [
       "Graphics object consisting of 22 graphics primitives"
      ]
     },
     "metadata": {},
     "output_type": "display_data"
    },
    {
     "name": "stdout",
     "output_type": "stream",
     "text": [
      "[2, 1, 3] [3, 1, 2]\n",
      "NNENEE\n"
     ]
    },
    {
     "data": {
      "image/png": "[encoded data removed]",
      "text/plain": [
       "Graphics object consisting of 22 graphics primitives"
      ]
     },
     "metadata": {},
     "output_type": "display_data"
    },
    {
     "name": "stdout",
     "output_type": "stream",
     "text": [
      "[2, 1, 3] [3, 2, 1]\n",
      "NNENEE\n"
     ]
    },
    {
     "data": {
      "image/png": "[encoded data removed]",
      "text/plain": [
       "Graphics object consisting of 23 graphics primitives"
      ]
     },
     "metadata": {},
     "output_type": "display_data"
    },
    {
     "name": "stdout",
     "output_type": "stream",
     "text": [
      "[2, 3, 1] [2, 3, 1]\n",
      "NNEENE\n"
     ]
    },
    {
     "data": {
      "image/png": "[encoded data removed]",
      "text/plain": [
       "Graphics object consisting of 23 graphics primitives"
      ]
     },
     "metadata": {},
     "output_type": "display_data"
    },
    {
     "name": "stdout",
     "output_type": "stream",
     "text": [
      "[2, 3, 1] [3, 2, 1]\n",
      "NNEENE\n"
     ]
    },
    {
     "data": {
      "image/png": "[encoded data removed]",
      "text/plain": [
       "Graphics object consisting of 24 graphics primitives"
      ]
     },
     "metadata": {},
     "output_type": "display_data"
    },
    {
     "name": "stdout",
     "output_type": "stream",
     "text": [
      "[3, 1, 2] [3, 1, 2]\n",
      "NENNEE\n"
     ]
    },
    {
     "data": {
      "image/png": "[encoded data removed]",
      "text/plain": [
       "Graphics object consisting of 23 graphics primitives"
      ]
     },
     "metadata": {},
     "output_type": "display_data"
    },
    {
     "name": "stdout",
     "output_type": "stream",
     "text": [
      "[3, 1, 2] [3, 2, 1]\n",
      "NENNEE\n"
     ]
    },
    {
     "data": {
      "image/png": "[encoded data removed]",
      "text/plain": [
       "Graphics object consisting of 24 graphics primitives"
      ]
     },
     "metadata": {},
     "output_type": "display_data"
    },
    {
     "name": "stdout",
     "output_type": "stream",
     "text": [
      "[3, 2, 1] [3, 2, 1]\n",
      "NENENE\n"
     ]
    },
    {
     "data": {
      "image/png": "[encoded data removed]",
      "text/plain": [
       "Graphics object consisting of 25 graphics primitives"
      ]
     },
     "metadata": {},
     "output_type": "display_data"
    }
   ],
   "source": [
    "#greys are u, blues are v\n",
    "for u in dominant_elements(W):\n",
    "    for v in u.bruhat_greater():\n",
    "        print(u,v)\n",
    "        show(interval_diagram_w_lattice(u,v, colors[0]), figsize=[1,1])"
   ]
  },
  {
   "cell_type": "code",
   "execution_count": 259,
   "id": "53ab2ae9-b021-4563-8a5d-0816eb78d4db",
   "metadata": {},
   "outputs": [
    {
     "name": "stdout",
     "output_type": "stream",
     "text": [
      "O O . \n",
      "O . . \n",
      ". . . \n"
     ]
    }
   ],
   "source": [
    "D.pp()"
   ]
  },
  {
   "cell_type": "code",
   "execution_count": 50,
   "id": "956ee52d-2007-4cd5-ab2e-04bb7b941588",
   "metadata": {},
   "outputs": [
    {
     "data": {
      "image/png": "[encoded data removed]",
      "text/plain": [
       "Graphics object consisting of 17 graphics primitives"
      ]
     },
     "metadata": {},
     "output_type": "display_data"
    }
   ],
   "source": [
    "\n",
    "# path as steps N and E (up and right)\n",
    "path = \"NENNEE\"   # moves along grid edges from (0,0) to (3,3)\n",
    "assert len(path) == 2*n and path.count('E') == n and path.count('N') == n\n",
    "\n",
    "# Square and grid\n",
    "square = polygon([[0,0],[n,0],[n,n],[0,n]], color='white', edgecolor='black')\n",
    "grid_lines = []\n",
    "for i in range(1, n):\n",
    "    grid_lines.append(line([(i,0),(i,n)], color='lightgray'))\n",
    "    grid_lines.append(line([(0,i),(n,i)], color='lightgray'))\n",
    "\n",
    "# Which cells contain the marked points?\n",
    "# We'll treat cells by their lower-left corner coordinates (cx,cy) with 0<=cx,cy<=n-1\n",
    "marked_cells = [(0,1), (0,2)]   # as you said: cells in column 0 rows 1 and 2\n",
    "# highlight those cells\n",
    "cell_patches = []\n",
    "for (cx,cy) in marked_cells:\n",
    "    # draw a semi-transparent rectangle for the whole unit cell\n",
    "    cell_patches.append(polygon([[cx,cy],[cx+1,cy],[cx+1,cy+1],[cx,cy+1]], color='yellow', alpha=0.35))\n",
    "\n",
    "# Place the actual marked interior points somewhere inside the cells (e.g., center)\n",
    "marked_points = [ (cx+0.5, cy+0.5) for (cx,cy) in marked_cells ]\n",
    "marks = [point(p, size=40, color='green') for p in marked_points]\n",
    "mark_labels = [text(\"p%d\" % (i+1), (p[0]+0.05, p[1]-0.05), fontsize=10, color='green') for i,p in enumerate(marked_points)]\n",
    "\n",
    "# Build the lattice path vertices starting at (0,0) walking on grid vertices\n",
    "pts = [(0,0)]\n",
    "x,y = 0,0\n",
    "for ch in path:\n",
    "    if ch == 'E':\n",
    "        x += 1\n",
    "    elif ch == 'N':\n",
    "        y += 1\n",
    "    pts.append((x,y))\n",
    "\n",
    "# We want the path to run along edges so it \"goes around\" the marked cells: in this\n",
    "# example NENNEE already runs up along x=0 from y=0->1->2->3 etc and then right,\n",
    "# skirting the left side of the marked cells.\n",
    "# Draw segments (with arrows optional)\n",
    "segments = []\n",
    "for i in range(len(pts)-1):\n",
    "    a = pts[i]; b = pts[i+1]\n",
    "    segments.append(line([a,b], thickness=4, color='red'))\n",
    "\n",
    "\n",
    "\n",
    "plot_elements = square + sum(grid_lines) + sum(cell_patches) + sum(segments) + sum(marks) + sum(mark_labels)\n",
    "show(plot_elements, figsize=[2,2])"
   ]
  },
  {
   "cell_type": "code",
   "execution_count": 51,
   "id": "f697c953-72ff-46bf-8b42-dd7cb0b0c875",
   "metadata": {},
   "outputs": [
    {
     "ename": "NameError",
     "evalue": "name 'v' is not defined",
     "output_type": "error",
     "traceback": [
      "\u001b[31m---------------------------------------------------------------------------\u001b[39m",
      "\u001b[31mNameError\u001b[39m                                 Traceback (most recent call last)",
      "\u001b[36mCell\u001b[39m\u001b[36m \u001b[39m\u001b[32mIn[51]\u001b[39m\u001b[32m, line 1\u001b[39m\n\u001b[32m----> \u001b[39m\u001b[32m1\u001b[39m interval_diagram([Integer(\u001b[32m2\u001b[39m),Integer(\u001b[32m3\u001b[39m),Integer(\u001b[32m1\u001b[39m)],\u001b[43mv\u001b[49m, colors[Integer(\u001b[32m0\u001b[39m)])\n",
      "\u001b[31mNameError\u001b[39m: name 'v' is not defined"
     ]
    }
   ],
   "source": [
    "interval_diagram([2,3,1],v, colors[0])"
   ]
  },
  {
   "cell_type": "code",
   "execution_count": 58,
   "id": "1e5b4808-2422-4fcd-bd8a-1acba6426786",
   "metadata": {},
   "outputs": [
    {
     "name": "stdout",
     "output_type": "stream",
     "text": [
      "[1, 2, 3] [1, 2, 3]\n"
     ]
    },
    {
     "data": {
      "image/png": "[encoded data removed]",
      "text/plain": [
       "Graphics object consisting of 7 graphics primitives"
      ]
     },
     "metadata": {},
     "output_type": "display_data"
    },
    {
     "name": "stdout",
     "output_type": "stream",
     "text": [
      "[1, 2, 3] [1, 3, 2]\n"
     ]
    },
    {
     "data": {
      "image/png": "[encoded data removed]",
      "text/plain": [
       "Graphics object consisting of 8 graphics primitives"
      ]
     },
     "metadata": {},
     "output_type": "display_data"
    },
    {
     "name": "stdout",
     "output_type": "stream",
     "text": [
      "[1, 2, 3] [2, 1, 3]\n"
     ]
    },
    {
     "data": {
      "image/png": "[encoded data removed]",
      "text/plain": [
       "Graphics object consisting of 8 graphics primitives"
      ]
     },
     "metadata": {},
     "output_type": "display_data"
    },
    {
     "name": "stdout",
     "output_type": "stream",
     "text": [
      "[1, 2, 3] [2, 3, 1]\n"
     ]
    },
    {
     "data": {
      "image/png": "[encoded data removed]",
      "text/plain": [
       "Graphics object consisting of 9 graphics primitives"
      ]
     },
     "metadata": {},
     "output_type": "display_data"
    },
    {
     "name": "stdout",
     "output_type": "stream",
     "text": [
      "[1, 2, 3] [3, 1, 2]\n"
     ]
    },
    {
     "data": {
      "image/png": "[encoded data removed]",
      "text/plain": [
       "Graphics object consisting of 9 graphics primitives"
      ]
     },
     "metadata": {},
     "output_type": "display_data"
    },
    {
     "name": "stdout",
     "output_type": "stream",
     "text": [
      "[1, 2, 3] [3, 2, 1]\n"
     ]
    },
    {
     "data": {
      "image/png": "[encoded data removed]",
      "text/plain": [
       "Graphics object consisting of 10 graphics primitives"
      ]
     },
     "metadata": {},
     "output_type": "display_data"
    },
    {
     "name": "stdout",
     "output_type": "stream",
     "text": [
      "[2, 1, 3] [2, 1, 3]\n"
     ]
    },
    {
     "data": {
      "image/png": "[encoded data removed]",
      "text/plain": [
       "Graphics object consisting of 9 graphics primitives"
      ]
     },
     "metadata": {},
     "output_type": "display_data"
    },
    {
     "name": "stdout",
     "output_type": "stream",
     "text": [
      "[2, 1, 3] [2, 3, 1]\n"
     ]
    },
    {
     "data": {
      "image/png": "[encoded data removed]",
      "text/plain": [
       "Graphics object consisting of 10 graphics primitives"
      ]
     },
     "metadata": {},
     "output_type": "display_data"
    },
    {
     "name": "stdout",
     "output_type": "stream",
     "text": [
      "[2, 1, 3] [3, 1, 2]\n"
     ]
    },
    {
     "data": {
      "image/png": "[encoded data removed]",
      "text/plain": [
       "Graphics object consisting of 10 graphics primitives"
      ]
     },
     "metadata": {},
     "output_type": "display_data"
    },
    {
     "name": "stdout",
     "output_type": "stream",
     "text": [
      "[2, 1, 3] [3, 2, 1]\n"
     ]
    },
    {
     "data": {
      "image/png": "[encoded data removed]",
      "text/plain": [
       "Graphics object consisting of 11 graphics primitives"
      ]
     },
     "metadata": {},
     "output_type": "display_data"
    },
    {
     "name": "stdout",
     "output_type": "stream",
     "text": [
      "[2, 3, 1] [2, 3, 1]\n"
     ]
    },
    {
     "data": {
      "image/png": "[encoded data removed]",
      "text/plain": [
       "Graphics object consisting of 11 graphics primitives"
      ]
     },
     "metadata": {},
     "output_type": "display_data"
    },
    {
     "name": "stdout",
     "output_type": "stream",
     "text": [
      "[2, 3, 1] [3, 2, 1]\n"
     ]
    },
    {
     "data": {
      "image/png": "[encoded data removed]",
      "text/plain": [
       "Graphics object consisting of 12 graphics primitives"
      ]
     },
     "metadata": {},
     "output_type": "display_data"
    },
    {
     "name": "stdout",
     "output_type": "stream",
     "text": [
      "[3, 1, 2] [3, 1, 2]\n"
     ]
    },
    {
     "data": {
      "image/png": "[encoded data removed]",
      "text/plain": [
       "Graphics object consisting of 11 graphics primitives"
      ]
     },
     "metadata": {},
     "output_type": "display_data"
    },
    {
     "name": "stdout",
     "output_type": "stream",
     "text": [
      "[3, 1, 2] [3, 2, 1]\n"
     ]
    },
    {
     "data": {
      "image/png": "[encoded data removed]",
      "text/plain": [
       "Graphics object consisting of 12 graphics primitives"
      ]
     },
     "metadata": {},
     "output_type": "display_data"
    },
    {
     "name": "stdout",
     "output_type": "stream",
     "text": [
      "[3, 2, 1] [3, 2, 1]\n"
     ]
    },
    {
     "data": {
      "image/png": "[encoded data removed]",
      "text/plain": [
       "Graphics object consisting of 13 graphics primitives"
      ]
     },
     "metadata": {},
     "output_type": "display_data"
    }
   ],
   "source": [
    "#greys are u, blues are v\n",
    "for u in dominant_elements(W):\n",
    "    for v in u.bruhat_greater():\n",
    "        print(u,v)\n",
    "        show(interval_diagram(u,v, colors[0]), figsize=[1,1])"
   ]
  },
  {
   "cell_type": "code",
   "execution_count": 53,
   "id": "e5017891-42d7-4fd7-b393-e6417470184a",
   "metadata": {},
   "outputs": [
    {
     "name": "stdout",
     "output_type": "stream",
     "text": [
      "frozenset({[1, 2, 3, 4], [1, 2, 4, 3]})\n"
     ]
    },
    {
     "data": {
      "image/png": "[encoded data removed]",
      "text/plain": [
       "Graphics object consisting of 10 graphics primitives"
      ]
     },
     "metadata": {},
     "output_type": "display_data"
    },
    {
     "data": {
      "image/png": "[encoded data removed]",
      "text/plain": [
       "Graphics object consisting of 12 graphics primitives"
      ]
     },
     "metadata": {},
     "output_type": "display_data"
    },
    {
     "data": {
      "image/png": "[encoded data removed]",
      "text/plain": [
       "Graphics object consisting of 14 graphics primitives"
      ]
     },
     "metadata": {},
     "output_type": "display_data"
    },
    {
     "data": {
      "image/png": "[encoded data removed]",
      "text/plain": [
       "Graphics object consisting of 16 graphics primitives"
      ]
     },
     "metadata": {},
     "output_type": "display_data"
    },
    {
     "data": {
      "image/png": "[encoded data removed]",
      "text/plain": [
       "Graphics object consisting of 14 graphics primitives"
      ]
     },
     "metadata": {},
     "output_type": "display_data"
    },
    {
     "data": {
      "image/png": "[encoded data removed]",
      "text/plain": [
       "Graphics object consisting of 16 graphics primitives"
      ]
     },
     "metadata": {},
     "output_type": "display_data"
    },
    {
     "data": {
      "image/png": "[encoded data removed]",
      "text/plain": [
       "Graphics object consisting of 18 graphics primitives"
      ]
     },
     "metadata": {},
     "output_type": "display_data"
    },
    {
     "data": {
      "image/png": "[encoded data removed]",
      "text/plain": [
       "Graphics object consisting of 18 graphics primitives"
      ]
     },
     "metadata": {},
     "output_type": "display_data"
    },
    {
     "data": {
      "image/png": "[encoded data removed]",
      "text/plain": [
       "Graphics object consisting of 20 graphics primitives"
      ]
     },
     "metadata": {},
     "output_type": "display_data"
    },
    {
     "name": "stdout",
     "output_type": "stream",
     "text": [
      "---\n",
      "frozenset({[1, 2, 3, 4], [1, 3, 2, 4]})\n"
     ]
    },
    {
     "data": {
      "image/png": "[encoded data removed]",
      "text/plain": [
       "Graphics object consisting of 10 graphics primitives"
      ]
     },
     "metadata": {},
     "output_type": "display_data"
    },
    {
     "data": {
      "image/png": "[encoded data removed]",
      "text/plain": [
       "Graphics object consisting of 12 graphics primitives"
      ]
     },
     "metadata": {},
     "output_type": "display_data"
    },
    {
     "data": {
      "image/png": "[encoded data removed]",
      "text/plain": [
       "Graphics object consisting of 14 graphics primitives"
      ]
     },
     "metadata": {},
     "output_type": "display_data"
    },
    {
     "data": {
      "image/png": "[encoded data removed]",
      "text/plain": [
       "Graphics object consisting of 16 graphics primitives"
      ]
     },
     "metadata": {},
     "output_type": "display_data"
    },
    {
     "data": {
      "image/png": "[encoded data removed]",
      "text/plain": [
       "Graphics object consisting of 16 graphics primitives"
      ]
     },
     "metadata": {},
     "output_type": "display_data"
    },
    {
     "data": {
      "image/png": "[encoded data removed]",
      "text/plain": [
       "Graphics object consisting of 18 graphics primitives"
      ]
     },
     "metadata": {},
     "output_type": "display_data"
    },
    {
     "data": {
      "image/png": "[encoded data removed]",
      "text/plain": [
       "Graphics object consisting of 20 graphics primitives"
      ]
     },
     "metadata": {},
     "output_type": "display_data"
    },
    {
     "name": "stdout",
     "output_type": "stream",
     "text": [
      "---\n",
      "frozenset({[1, 2, 3, 4], [1, 2, 4, 3], [1, 3, 2, 4], [1, 3, 4, 2]})\n"
     ]
    },
    {
     "data": {
      "image/png": "[encoded data removed]",
      "text/plain": [
       "Graphics object consisting of 11 graphics primitives"
      ]
     },
     "metadata": {},
     "output_type": "display_data"
    },
    {
     "data": {
      "image/png": "[encoded data removed]",
      "text/plain": [
       "Graphics object consisting of 13 graphics primitives"
      ]
     },
     "metadata": {},
     "output_type": "display_data"
    },
    {
     "data": {
      "image/png": "[encoded data removed]",
      "text/plain": [
       "Graphics object consisting of 15 graphics primitives"
      ]
     },
     "metadata": {},
     "output_type": "display_data"
    },
    {
     "data": {
      "image/png": "[encoded data removed]",
      "text/plain": [
       "Graphics object consisting of 17 graphics primitives"
      ]
     },
     "metadata": {},
     "output_type": "display_data"
    },
    {
     "name": "stdout",
     "output_type": "stream",
     "text": [
      "---\n",
      "frozenset({[1, 2, 3, 4], [1, 4, 2, 3], [1, 2, 4, 3], [1, 3, 2, 4]})\n"
     ]
    },
    {
     "data": {
      "image/png": "[encoded data removed]",
      "text/plain": [
       "Graphics object consisting of 11 graphics primitives"
      ]
     },
     "metadata": {},
     "output_type": "display_data"
    },
    {
     "data": {
      "image/png": "[encoded data removed]",
      "text/plain": [
       "Graphics object consisting of 13 graphics primitives"
      ]
     },
     "metadata": {},
     "output_type": "display_data"
    },
    {
     "data": {
      "image/png": "[encoded data removed]",
      "text/plain": [
       "Graphics object consisting of 15 graphics primitives"
      ]
     },
     "metadata": {},
     "output_type": "display_data"
    },
    {
     "data": {
      "image/png": "[encoded data removed]",
      "text/plain": [
       "Graphics object consisting of 17 graphics primitives"
      ]
     },
     "metadata": {},
     "output_type": "display_data"
    },
    {
     "name": "stdout",
     "output_type": "stream",
     "text": [
      "---\n",
      "frozenset({[1, 2, 3, 4], [1, 4, 2, 3], [1, 2, 4, 3], [1, 3, 4, 2], [1, 4, 3, 2], [1, 3, 2, 4]})\n"
     ]
    },
    {
     "data": {
      "image/png": "[encoded data removed]",
      "text/plain": [
       "Graphics object consisting of 12 graphics primitives"
      ]
     },
     "metadata": {},
     "output_type": "display_data"
    },
    {
     "data": {
      "image/png": "[encoded data removed]",
      "text/plain": [
       "Graphics object consisting of 14 graphics primitives"
      ]
     },
     "metadata": {},
     "output_type": "display_data"
    },
    {
     "data": {
      "image/png": "[encoded data removed]",
      "text/plain": [
       "Graphics object consisting of 16 graphics primitives"
      ]
     },
     "metadata": {},
     "output_type": "display_data"
    },
    {
     "data": {
      "image/png": "[encoded data removed]",
      "text/plain": [
       "Graphics object consisting of 18 graphics primitives"
      ]
     },
     "metadata": {},
     "output_type": "display_data"
    },
    {
     "name": "stdout",
     "output_type": "stream",
     "text": [
      "---\n",
      "frozenset({[1, 2, 3, 4], [2, 1, 3, 4]})\n"
     ]
    },
    {
     "data": {
      "image/png": "[encoded data removed]",
      "text/plain": [
       "Graphics object consisting of 10 graphics primitives"
      ]
     },
     "metadata": {},
     "output_type": "display_data"
    },
    {
     "data": {
      "image/png": "[encoded data removed]",
      "text/plain": [
       "Graphics object consisting of 14 graphics primitives"
      ]
     },
     "metadata": {},
     "output_type": "display_data"
    },
    {
     "data": {
      "image/png": "[encoded data removed]",
      "text/plain": [
       "Graphics object consisting of 18 graphics primitives"
      ]
     },
     "metadata": {},
     "output_type": "display_data"
    },
    {
     "data": {
      "image/png": "[encoded data removed]",
      "text/plain": [
       "Graphics object consisting of 16 graphics primitives"
      ]
     },
     "metadata": {},
     "output_type": "display_data"
    },
    {
     "data": {
      "image/png": "[encoded data removed]",
      "text/plain": [
       "Graphics object consisting of 20 graphics primitives"
      ]
     },
     "metadata": {},
     "output_type": "display_data"
    },
    {
     "name": "stdout",
     "output_type": "stream",
     "text": [
      "---\n",
      "frozenset({[1, 2, 3, 4], [2, 1, 3, 4], [1, 2, 4, 3], [2, 1, 4, 3]})\n"
     ]
    },
    {
     "data": {
      "image/png": "[encoded data removed]",
      "text/plain": [
       "Graphics object consisting of 11 graphics primitives"
      ]
     },
     "metadata": {},
     "output_type": "display_data"
    },
    {
     "data": {
      "image/png": "[encoded data removed]",
      "text/plain": [
       "Graphics object consisting of 15 graphics primitives"
      ]
     },
     "metadata": {},
     "output_type": "display_data"
    },
    {
     "data": {
      "image/png": "[encoded data removed]",
      "text/plain": [
       "Graphics object consisting of 19 graphics primitives"
      ]
     },
     "metadata": {},
     "output_type": "display_data"
    },
    {
     "name": "stdout",
     "output_type": "stream",
     "text": [
      "---\n",
      "frozenset({[1, 3, 2, 4], [2, 1, 3, 4], [2, 3, 1, 4], [1, 2, 3, 4]})\n"
     ]
    },
    {
     "data": {
      "image/png": "[encoded data removed]",
      "text/plain": [
       "Graphics object consisting of 11 graphics primitives"
      ]
     },
     "metadata": {},
     "output_type": "display_data"
    },
    {
     "data": {
      "image/png": "[encoded data removed]",
      "text/plain": [
       "Graphics object consisting of 17 graphics primitives"
      ]
     },
     "metadata": {},
     "output_type": "display_data"
    },
    {
     "name": "stdout",
     "output_type": "stream",
     "text": [
      "---\n",
      "frozenset({[2, 3, 4, 1], [1, 3, 4, 2], [2, 3, 1, 4], [1, 3, 2, 4], [1, 2, 3, 4], [1, 2, 4, 3], [2, 1, 4, 3], [2, 1, 3, 4]})\n"
     ]
    },
    {
     "data": {
      "image/png": "[encoded data removed]",
      "text/plain": [
       "Graphics object consisting of 12 graphics primitives"
      ]
     },
     "metadata": {},
     "output_type": "display_data"
    },
    {
     "name": "stdout",
     "output_type": "stream",
     "text": [
      "---\n",
      "frozenset({[1, 4, 2, 3], [2, 4, 1, 3], [1, 3, 2, 4], [2, 3, 1, 4], [1, 2, 3, 4], [1, 2, 4, 3], [2, 1, 4, 3], [2, 1, 3, 4]})\n"
     ]
    },
    {
     "data": {
      "image/png": "[encoded data removed]",
      "text/plain": [
       "Graphics object consisting of 12 graphics primitives"
      ]
     },
     "metadata": {},
     "output_type": "display_data"
    },
    {
     "name": "stdout",
     "output_type": "stream",
     "text": [
      "---\n",
      "frozenset({[2, 3, 4, 1], [1, 4, 2, 3], [1, 3, 4, 2], [2, 4, 1, 3], [2, 1, 3, 4], [2, 3, 1, 4], [1, 3, 2, 4], [1, 2, 3, 4], [1, 2, 4, 3], [2, 4, 3, 1], [2, 1, 4, 3], [1, 4, 3, 2]})\n"
     ]
    },
    {
     "data": {
      "image/png": "[encoded data removed]",
      "text/plain": [
       "Graphics object consisting of 13 graphics primitives"
      ]
     },
     "metadata": {},
     "output_type": "display_data"
    },
    {
     "name": "stdout",
     "output_type": "stream",
     "text": [
      "---\n",
      "frozenset({[1, 2, 3, 4], [2, 1, 3, 4], [3, 1, 2, 4], [1, 3, 2, 4]})\n"
     ]
    },
    {
     "data": {
      "image/png": "[encoded data removed]",
      "text/plain": [
       "Graphics object consisting of 11 graphics primitives"
      ]
     },
     "metadata": {},
     "output_type": "display_data"
    },
    {
     "data": {
      "image/png": "[encoded data removed]",
      "text/plain": [
       "Graphics object consisting of 17 graphics primitives"
      ]
     },
     "metadata": {},
     "output_type": "display_data"
    },
    {
     "name": "stdout",
     "output_type": "stream",
     "text": [
      "---\n",
      "frozenset({[1, 3, 4, 2], [1, 3, 2, 4], [1, 2, 3, 4], [3, 1, 2, 4], [1, 2, 4, 3], [2, 1, 4, 3], [2, 1, 3, 4], [3, 1, 4, 2]})\n"
     ]
    },
    {
     "data": {
      "image/png": "[encoded data removed]",
      "text/plain": [
       "Graphics object consisting of 12 graphics primitives"
      ]
     },
     "metadata": {},
     "output_type": "display_data"
    },
    {
     "name": "stdout",
     "output_type": "stream",
     "text": [
      "---\n",
      "frozenset({[1, 2, 3, 4], [3, 2, 1, 4], [3, 1, 2, 4], [2, 1, 3, 4], [1, 3, 2, 4], [2, 3, 1, 4]})\n"
     ]
    },
    {
     "data": {
      "image/png": "[encoded data removed]",
      "text/plain": [
       "Graphics object consisting of 12 graphics primitives"
      ]
     },
     "metadata": {},
     "output_type": "display_data"
    },
    {
     "data": {
      "image/png": "[encoded data removed]",
      "text/plain": [
       "Graphics object consisting of 18 graphics primitives"
      ]
     },
     "metadata": {},
     "output_type": "display_data"
    },
    {
     "name": "stdout",
     "output_type": "stream",
     "text": [
      "---\n",
      "frozenset({[2, 3, 4, 1], [1, 3, 4, 2], [2, 3, 1, 4], [1, 3, 2, 4], [1, 2, 3, 4], [3, 1, 2, 4], [3, 2, 4, 1], [2, 1, 4, 3], [1, 2, 4, 3], [2, 1, 3, 4], [3, 2, 1, 4], [3, 1, 4, 2]})\n"
     ]
    },
    {
     "data": {
      "image/png": "[encoded data removed]",
      "text/plain": [
       "Graphics object consisting of 13 graphics primitives"
      ]
     },
     "metadata": {},
     "output_type": "display_data"
    },
    {
     "name": "stdout",
     "output_type": "stream",
     "text": [
      "---\n",
      "frozenset({[1, 4, 2, 3], [1, 3, 4, 2], [2, 4, 1, 3], [2, 1, 3, 4], [2, 3, 1, 4], [1, 3, 2, 4], [1, 2, 3, 4], [3, 1, 2, 4], [1, 2, 4, 3], [2, 1, 4, 3], [1, 4, 3, 2], [3, 2, 1, 4], [3, 1, 4, 2], [3, 4, 1, 2]})\n"
     ]
    },
    {
     "data": {
      "image/png": "[encoded data removed]",
      "text/plain": [
       "Graphics object consisting of 13 graphics primitives"
      ]
     },
     "metadata": {},
     "output_type": "display_data"
    },
    {
     "name": "stdout",
     "output_type": "stream",
     "text": [
      "---\n",
      "frozenset({[1, 3, 4, 2], [2, 3, 1, 4], [1, 2, 3, 4], [3, 1, 2, 4], [1, 2, 4, 3], [2, 4, 3, 1], [1, 4, 3, 2], [3, 2, 1, 4], [2, 3, 4, 1], [1, 4, 2, 3], [2, 4, 1, 3], [1, 3, 2, 4], [3, 4, 2, 1], [3, 2, 4, 1], [2, 1, 4, 3], [2, 1, 3, 4], [3, 1, 4, 2], [3, 4, 1, 2]})\n"
     ]
    },
    {
     "data": {
      "image/png": "[encoded data removed]",
      "text/plain": [
       "Graphics object consisting of 14 graphics primitives"
      ]
     },
     "metadata": {},
     "output_type": "display_data"
    },
    {
     "name": "stdout",
     "output_type": "stream",
     "text": [
      "---\n",
      "frozenset({[1, 4, 2, 3], [1, 3, 2, 4], [1, 2, 3, 4], [3, 1, 2, 4], [1, 2, 4, 3], [4, 1, 2, 3], [2, 1, 4, 3], [2, 1, 3, 4]})\n"
     ]
    },
    {
     "data": {
      "image/png": "[encoded data removed]",
      "text/plain": [
       "Graphics object consisting of 12 graphics primitives"
      ]
     },
     "metadata": {},
     "output_type": "display_data"
    },
    {
     "name": "stdout",
     "output_type": "stream",
     "text": [
      "---\n",
      "frozenset({[1, 4, 2, 3], [1, 3, 4, 2], [2, 1, 3, 4], [1, 3, 2, 4], [4, 1, 3, 2], [1, 2, 3, 4], [3, 1, 2, 4], [1, 2, 4, 3], [4, 1, 2, 3], [2, 1, 4, 3], [1, 4, 3, 2], [3, 1, 4, 2]})\n"
     ]
    },
    {
     "data": {
      "image/png": "[encoded data removed]",
      "text/plain": [
       "Graphics object consisting of 13 graphics primitives"
      ]
     },
     "metadata": {},
     "output_type": "display_data"
    },
    {
     "name": "stdout",
     "output_type": "stream",
     "text": [
      "---\n",
      "frozenset({[1, 4, 2, 3], [4, 2, 1, 3], [2, 4, 1, 3], [2, 3, 1, 4], [1, 3, 2, 4], [1, 2, 3, 4], [3, 1, 2, 4], [1, 2, 4, 3], [4, 1, 2, 3], [2, 1, 4, 3], [2, 1, 3, 4], [3, 2, 1, 4]})\n"
     ]
    },
    {
     "data": {
      "image/png": "[encoded data removed]",
      "text/plain": [
       "Graphics object consisting of 13 graphics primitives"
      ]
     },
     "metadata": {},
     "output_type": "display_data"
    },
    {
     "name": "stdout",
     "output_type": "stream",
     "text": [
      "---\n",
      "frozenset({[1, 3, 4, 2], [2, 3, 1, 4], [1, 2, 3, 4], [3, 1, 2, 4], [1, 2, 4, 3], [2, 4, 3, 1], [1, 4, 3, 2], [3, 2, 1, 4], [4, 1, 3, 2], [1, 4, 2, 3], [2, 3, 4, 1], [4, 2, 1, 3], [2, 4, 1, 3], [1, 3, 2, 4], [3, 2, 4, 1], [4, 1, 2, 3], [2, 1, 4, 3], [4, 2, 3, 1], [2, 1, 3, 4], [3, 1, 4, 2]})\n"
     ]
    },
    {
     "data": {
      "image/png": "[encoded data removed]",
      "text/plain": [
       "Graphics object consisting of 14 graphics primitives"
      ]
     },
     "metadata": {},
     "output_type": "display_data"
    },
    {
     "name": "stdout",
     "output_type": "stream",
     "text": [
      "---\n",
      "frozenset({[1, 3, 4, 2], [2, 3, 1, 4], [1, 2, 3, 4], [3, 1, 2, 4], [1, 2, 4, 3], [1, 4, 3, 2], [3, 2, 1, 4], [4, 1, 3, 2], [1, 4, 2, 3], [4, 2, 1, 3], [2, 4, 1, 3], [4, 3, 1, 2], [1, 3, 2, 4], [4, 1, 2, 3], [2, 1, 4, 3], [2, 1, 3, 4], [3, 1, 4, 2], [3, 4, 1, 2]})\n"
     ]
    },
    {
     "data": {
      "image/png": "[encoded data removed]",
      "text/plain": [
       "Graphics object consisting of 14 graphics primitives"
      ]
     },
     "metadata": {},
     "output_type": "display_data"
    },
    {
     "name": "stdout",
     "output_type": "stream",
     "text": [
      "---\n",
      "frozenset({[1, 3, 4, 2], [2, 3, 1, 4], [1, 2, 3, 4], [3, 1, 2, 4], [1, 2, 4, 3], [2, 4, 3, 1], [4, 3, 2, 1], [1, 4, 3, 2], [3, 2, 1, 4], [4, 1, 3, 2], [1, 4, 2, 3], [2, 3, 4, 1], [4, 2, 1, 3], [2, 4, 1, 3], [4, 3, 1, 2], [1, 3, 2, 4], [3, 4, 2, 1], [3, 2, 4, 1], [4, 1, 2, 3], [2, 1, 4, 3], [4, 2, 3, 1], [2, 1, 3, 4], [3, 1, 4, 2], [3, 4, 1, 2]})\n"
     ]
    },
    {
     "data": {
      "image/png": "[encoded data removed]",
      "text/plain": [
       "Graphics object consisting of 15 graphics primitives"
      ]
     },
     "metadata": {},
     "output_type": "display_data"
    },
    {
     "name": "stdout",
     "output_type": "stream",
     "text": [
      "---\n",
      "frozenset({[1, 2, 3, 4], [3, 2, 1, 4]})\n"
     ]
    },
    {
     "data": {
      "image/png": "[encoded data removed]",
      "text/plain": [
       "Graphics object consisting of 12 graphics primitives"
      ]
     },
     "metadata": {},
     "output_type": "display_data"
    },
    {
     "data": {
      "image/png": "[encoded data removed]",
      "text/plain": [
       "Graphics object consisting of 18 graphics primitives"
      ]
     },
     "metadata": {},
     "output_type": "display_data"
    },
    {
     "name": "stdout",
     "output_type": "stream",
     "text": [
      "---\n",
      "frozenset({[1, 2, 3, 4], [1, 2, 4, 3], [3, 2, 4, 1], [3, 2, 1, 4]})\n"
     ]
    },
    {
     "data": {
      "image/png": "[encoded data removed]",
      "text/plain": [
       "Graphics object consisting of 13 graphics primitives"
      ]
     },
     "metadata": {},
     "output_type": "display_data"
    },
    {
     "name": "stdout",
     "output_type": "stream",
     "text": [
      "---\n",
      "frozenset({[1, 2, 3, 4], [1, 2, 4, 3], [4, 2, 1, 3], [3, 2, 1, 4]})\n"
     ]
    },
    {
     "data": {
      "image/png": "[encoded data removed]",
      "text/plain": [
       "Graphics object consisting of 13 graphics primitives"
      ]
     },
     "metadata": {},
     "output_type": "display_data"
    },
    {
     "name": "stdout",
     "output_type": "stream",
     "text": [
      "---\n",
      "frozenset({[1, 2, 3, 4], [1, 2, 4, 3], [4, 2, 1, 3], [3, 2, 4, 1], [4, 2, 3, 1], [3, 2, 1, 4]})\n"
     ]
    },
    {
     "data": {
      "image/png": "[encoded data removed]",
      "text/plain": [
       "Graphics object consisting of 14 graphics primitives"
      ]
     },
     "metadata": {},
     "output_type": "display_data"
    },
    {
     "name": "stdout",
     "output_type": "stream",
     "text": [
      "---\n",
      "frozenset({[1, 3, 2, 4], [2, 3, 1, 4], [3, 2, 1, 4], [1, 2, 3, 4]})\n"
     ]
    },
    {
     "data": {
      "image/png": "[encoded data removed]",
      "text/plain": [
       "Graphics object consisting of 13 graphics primitives"
      ]
     },
     "metadata": {},
     "output_type": "display_data"
    },
    {
     "data": {
      "image/png": "[encoded data removed]",
      "text/plain": [
       "Graphics object consisting of 19 graphics primitives"
      ]
     },
     "metadata": {},
     "output_type": "display_data"
    },
    {
     "name": "stdout",
     "output_type": "stream",
     "text": [
      "---\n",
      "frozenset({[2, 3, 4, 1], [1, 3, 4, 2], [2, 3, 1, 4], [1, 3, 2, 4], [1, 2, 3, 4], [1, 2, 4, 3], [3, 2, 4, 1], [3, 2, 1, 4]})\n"
     ]
    },
    {
     "data": {
      "image/png": "[encoded data removed]",
      "text/plain": [
       "Graphics object consisting of 14 graphics primitives"
      ]
     },
     "metadata": {},
     "output_type": "display_data"
    },
    {
     "name": "stdout",
     "output_type": "stream",
     "text": [
      "---\n",
      "frozenset({[4, 2, 1, 3], [1, 3, 4, 2], [4, 3, 1, 2], [2, 3, 1, 4], [1, 3, 2, 4], [1, 2, 3, 4], [1, 2, 4, 3], [3, 2, 1, 4]})\n"
     ]
    },
    {
     "data": {
      "image/png": "[encoded data removed]",
      "text/plain": [
       "Graphics object consisting of 14 graphics primitives"
      ]
     },
     "metadata": {},
     "output_type": "display_data"
    },
    {
     "name": "stdout",
     "output_type": "stream",
     "text": [
      "---\n",
      "frozenset({[2, 3, 4, 1], [4, 2, 1, 3], [1, 3, 4, 2], [4, 3, 1, 2], [2, 3, 1, 4], [1, 3, 2, 4], [1, 2, 3, 4], [1, 2, 4, 3], [3, 2, 4, 1], [4, 2, 3, 1], [4, 3, 2, 1], [3, 2, 1, 4]})\n"
     ]
    },
    {
     "data": {
      "image/png": "[encoded data removed]",
      "text/plain": [
       "Graphics object consisting of 15 graphics primitives"
      ]
     },
     "metadata": {},
     "output_type": "display_data"
    },
    {
     "name": "stdout",
     "output_type": "stream",
     "text": [
      "---\n",
      "frozenset({[1, 4, 2, 3], [4, 2, 1, 3], [2, 4, 1, 3], [2, 3, 1, 4], [1, 3, 2, 4], [1, 2, 3, 4], [1, 2, 4, 3], [3, 2, 1, 4]})\n"
     ]
    },
    {
     "data": {
      "image/png": "[encoded data removed]",
      "text/plain": [
       "Graphics object consisting of 14 graphics primitives"
      ]
     },
     "metadata": {},
     "output_type": "display_data"
    },
    {
     "name": "stdout",
     "output_type": "stream",
     "text": [
      "---\n",
      "frozenset({[2, 3, 4, 1], [1, 4, 2, 3], [4, 2, 1, 3], [1, 3, 4, 2], [2, 4, 1, 3], [2, 3, 1, 4], [1, 3, 2, 4], [1, 2, 3, 4], [1, 2, 4, 3], [3, 2, 4, 1], [2, 4, 3, 1], [4, 2, 3, 1], [1, 4, 3, 2], [3, 2, 1, 4]})\n"
     ]
    },
    {
     "data": {
      "image/png": "[encoded data removed]",
      "text/plain": [
       "Graphics object consisting of 15 graphics primitives"
      ]
     },
     "metadata": {},
     "output_type": "display_data"
    },
    {
     "name": "stdout",
     "output_type": "stream",
     "text": [
      "---\n",
      "frozenset({[1, 4, 2, 3], [4, 2, 1, 3], [1, 3, 4, 2], [2, 4, 1, 3], [4, 3, 1, 2], [2, 3, 1, 4], [1, 3, 2, 4], [1, 2, 3, 4], [1, 2, 4, 3], [1, 4, 3, 2], [3, 2, 1, 4], [3, 4, 1, 2]})\n"
     ]
    },
    {
     "data": {
      "image/png": "[encoded data removed]",
      "text/plain": [
       "Graphics object consisting of 15 graphics primitives"
      ]
     },
     "metadata": {},
     "output_type": "display_data"
    },
    {
     "name": "stdout",
     "output_type": "stream",
     "text": [
      "---\n",
      "frozenset({[1, 3, 4, 2], [2, 3, 1, 4], [1, 2, 3, 4], [1, 2, 4, 3], [2, 4, 3, 1], [4, 3, 2, 1], [3, 2, 1, 4], [2, 3, 4, 1], [1, 4, 2, 3], [4, 2, 1, 3], [2, 4, 1, 3], [4, 3, 1, 2], [1, 3, 2, 4], [3, 4, 2, 1], [3, 2, 4, 1], [4, 2, 3, 1], [1, 4, 3, 2], [3, 4, 1, 2]})\n"
     ]
    },
    {
     "data": {
      "image/png": "[encoded data removed]",
      "text/plain": [
       "Graphics object consisting of 16 graphics primitives"
      ]
     },
     "metadata": {},
     "output_type": "display_data"
    },
    {
     "name": "stdout",
     "output_type": "stream",
     "text": [
      "---\n",
      "frozenset({[1, 2, 3, 4], [4, 2, 3, 1]})\n"
     ]
    },
    {
     "data": {
      "image/png": "[encoded data removed]",
      "text/plain": [
       "Graphics object consisting of 14 graphics primitives"
      ]
     },
     "metadata": {},
     "output_type": "display_data"
    },
    {
     "data": {
      "image/png": "[encoded data removed]",
      "text/plain": [
       "Graphics object consisting of 16 graphics primitives"
      ]
     },
     "metadata": {},
     "output_type": "display_data"
    },
    {
     "name": "stdout",
     "output_type": "stream",
     "text": [
      "---\n",
      "frozenset({[1, 2, 3, 4], [1, 2, 4, 3], [3, 2, 4, 1], [4, 2, 3, 1]})\n"
     ]
    },
    {
     "data": {
      "image/png": "[encoded data removed]",
      "text/plain": [
       "Graphics object consisting of 15 graphics primitives"
      ]
     },
     "metadata": {},
     "output_type": "display_data"
    },
    {
     "data": {
      "image/png": "[encoded data removed]",
      "text/plain": [
       "Graphics object consisting of 17 graphics primitives"
      ]
     },
     "metadata": {},
     "output_type": "display_data"
    },
    {
     "name": "stdout",
     "output_type": "stream",
     "text": [
      "---\n",
      "frozenset({[1, 2, 3, 4], [4, 2, 3, 1], [1, 3, 2, 4], [4, 3, 2, 1]})\n"
     ]
    },
    {
     "data": {
      "image/png": "[encoded data removed]",
      "text/plain": [
       "Graphics object consisting of 15 graphics primitives"
      ]
     },
     "metadata": {},
     "output_type": "display_data"
    },
    {
     "name": "stdout",
     "output_type": "stream",
     "text": [
      "---\n",
      "frozenset({[2, 3, 4, 1], [1, 3, 4, 2], [1, 3, 2, 4], [1, 2, 3, 4], [1, 2, 4, 3], [3, 2, 4, 1], [4, 3, 2, 1], [4, 2, 3, 1]})\n"
     ]
    },
    {
     "data": {
      "image/png": "[encoded data removed]",
      "text/plain": [
       "Graphics object consisting of 16 graphics primitives"
      ]
     },
     "metadata": {},
     "output_type": "display_data"
    },
    {
     "name": "stdout",
     "output_type": "stream",
     "text": [
      "---\n",
      "frozenset({[1, 4, 2, 3], [1, 3, 2, 4], [3, 4, 2, 1], [1, 2, 3, 4], [1, 2, 4, 3], [3, 2, 4, 1], [4, 3, 2, 1], [4, 2, 3, 1]})\n"
     ]
    },
    {
     "data": {
      "image/png": "[encoded data removed]",
      "text/plain": [
       "Graphics object consisting of 16 graphics primitives"
      ]
     },
     "metadata": {},
     "output_type": "display_data"
    },
    {
     "name": "stdout",
     "output_type": "stream",
     "text": [
      "---\n",
      "frozenset({[2, 3, 4, 1], [1, 4, 2, 3], [1, 3, 4, 2], [1, 3, 2, 4], [3, 4, 2, 1], [1, 2, 3, 4], [1, 2, 4, 3], [3, 2, 4, 1], [2, 4, 3, 1], [4, 3, 2, 1], [4, 2, 3, 1], [1, 4, 3, 2]})\n"
     ]
    },
    {
     "data": {
      "image/png": "[encoded data removed]",
      "text/plain": [
       "Graphics object consisting of 17 graphics primitives"
      ]
     },
     "metadata": {},
     "output_type": "display_data"
    },
    {
     "name": "stdout",
     "output_type": "stream",
     "text": [
      "---\n",
      "frozenset({[1, 2, 3, 4], [1, 4, 3, 2]})\n"
     ]
    },
    {
     "data": {
      "image/png": "[encoded data removed]",
      "text/plain": [
       "Graphics object consisting of 14 graphics primitives"
      ]
     },
     "metadata": {},
     "output_type": "display_data"
    },
    {
     "data": {
      "image/png": "[encoded data removed]",
      "text/plain": [
       "Graphics object consisting of 16 graphics primitives"
      ]
     },
     "metadata": {},
     "output_type": "display_data"
    },
    {
     "data": {
      "image/png": "[encoded data removed]",
      "text/plain": [
       "Graphics object consisting of 18 graphics primitives"
      ]
     },
     "metadata": {},
     "output_type": "display_data"
    },
    {
     "name": "stdout",
     "output_type": "stream",
     "text": [
      "---\n",
      "frozenset({[1, 2, 3, 4], [1, 4, 3, 2], [2, 1, 3, 4], [2, 4, 3, 1]})\n"
     ]
    },
    {
     "data": {
      "image/png": "[encoded data removed]",
      "text/plain": [
       "Graphics object consisting of 15 graphics primitives"
      ]
     },
     "metadata": {},
     "output_type": "display_data"
    },
    {
     "name": "stdout",
     "output_type": "stream",
     "text": [
      "---\n",
      "frozenset({[1, 2, 3, 4], [2, 1, 3, 4], [1, 4, 3, 2], [4, 1, 3, 2]})\n"
     ]
    },
    {
     "data": {
      "image/png": "[encoded data removed]",
      "text/plain": [
       "Graphics object consisting of 15 graphics primitives"
      ]
     },
     "metadata": {},
     "output_type": "display_data"
    },
    {
     "name": "stdout",
     "output_type": "stream",
     "text": [
      "---\n",
      "frozenset({[1, 2, 3, 4], [2, 4, 3, 1], [4, 2, 3, 1], [1, 4, 3, 2], [2, 1, 3, 4], [4, 1, 3, 2]})\n"
     ]
    },
    {
     "data": {
      "image/png": "[encoded data removed]",
      "text/plain": [
       "Graphics object consisting of 16 graphics primitives"
      ]
     },
     "metadata": {},
     "output_type": "display_data"
    },
    {
     "name": "stdout",
     "output_type": "stream",
     "text": [
      "---\n",
      "frozenset({[1, 2, 3, 4], [1, 4, 3, 2], [1, 2, 4, 3], [1, 3, 4, 2]})\n"
     ]
    },
    {
     "data": {
      "image/png": "[encoded data removed]",
      "text/plain": [
       "Graphics object consisting of 15 graphics primitives"
      ]
     },
     "metadata": {},
     "output_type": "display_data"
    },
    {
     "data": {
      "image/png": "[encoded data removed]",
      "text/plain": [
       "Graphics object consisting of 17 graphics primitives"
      ]
     },
     "metadata": {},
     "output_type": "display_data"
    },
    {
     "data": {
      "image/png": "[encoded data removed]",
      "text/plain": [
       "Graphics object consisting of 19 graphics primitives"
      ]
     },
     "metadata": {},
     "output_type": "display_data"
    },
    {
     "name": "stdout",
     "output_type": "stream",
     "text": [
      "---\n",
      "frozenset({[2, 3, 4, 1], [1, 3, 4, 2], [2, 1, 3, 4], [1, 2, 3, 4], [1, 2, 4, 3], [2, 4, 3, 1], [2, 1, 4, 3], [1, 4, 3, 2]})\n"
     ]
    },
    {
     "data": {
      "image/png": "[encoded data removed]",
      "text/plain": [
       "Graphics object consisting of 16 graphics primitives"
      ]
     },
     "metadata": {},
     "output_type": "display_data"
    },
    {
     "name": "stdout",
     "output_type": "stream",
     "text": [
      "---\n",
      "frozenset({[1, 4, 3, 2], [1, 3, 4, 2], [4, 1, 3, 2], [1, 2, 3, 4], [1, 2, 4, 3], [2, 1, 4, 3], [2, 1, 3, 4], [3, 1, 4, 2]})\n"
     ]
    },
    {
     "data": {
      "image/png": "[encoded data removed]",
      "text/plain": [
       "Graphics object consisting of 16 graphics primitives"
      ]
     },
     "metadata": {},
     "output_type": "display_data"
    },
    {
     "name": "stdout",
     "output_type": "stream",
     "text": [
      "---\n",
      "frozenset({[2, 3, 4, 1], [1, 4, 3, 2], [1, 3, 4, 2], [4, 1, 3, 2], [1, 2, 3, 4], [1, 2, 4, 3], [3, 2, 4, 1], [2, 1, 4, 3], [2, 4, 3, 1], [4, 2, 3, 1], [2, 1, 3, 4], [3, 1, 4, 2]})\n"
     ]
    },
    {
     "data": {
      "image/png": "[encoded data removed]",
      "text/plain": [
       "Graphics object consisting of 17 graphics primitives"
      ]
     },
     "metadata": {},
     "output_type": "display_data"
    },
    {
     "name": "stdout",
     "output_type": "stream",
     "text": [
      "---\n",
      "frozenset({[1, 2, 3, 4], [1, 4, 3, 2], [2, 4, 3, 1], [4, 2, 3, 1]})\n"
     ]
    },
    {
     "data": {
      "image/png": "[encoded data removed]",
      "text/plain": [
       "Graphics object consisting of 17 graphics primitives"
      ]
     },
     "metadata": {},
     "output_type": "display_data"
    },
    {
     "name": "stdout",
     "output_type": "stream",
     "text": [
      "---\n",
      "frozenset({[2, 3, 4, 1], [1, 3, 4, 2], [1, 2, 3, 4], [1, 2, 4, 3], [3, 2, 4, 1], [2, 4, 3, 1], [4, 2, 3, 1], [1, 4, 3, 2]})\n"
     ]
    },
    {
     "data": {
      "image/png": "[encoded data removed]",
      "text/plain": [
       "Graphics object consisting of 18 graphics primitives"
      ]
     },
     "metadata": {},
     "output_type": "display_data"
    },
    {
     "name": "stdout",
     "output_type": "stream",
     "text": [
      "---\n"
     ]
    }
   ],
   "source": [
    "for u in dominant_elements(W): \n",
    "    for v in u.bruhat_greater():\n",
    "        interval = shifted_interval(u,v)\n",
    "\n",
    "        if interval in shifted_intervals:\n",
    "            i = shifted_intervals.index(interval)\n",
    "        else:\n",
    "            i = len(shifted_intervals) \n",
    "            pairs_grouped_by_interval[i] = [] \n",
    "            shifted_intervals.append(frozenset(interval))\n",
    "            \n",
    "        pairs_grouped_by_interval[i].append((u,v)) \n",
    "        \n",
    "c=0\n",
    "\n",
    "for i in pairs_grouped_by_interval:\n",
    "    if i > 0:\n",
    "        print(shifted_intervals[i])\n",
    "        for (u, v) in pairs_grouped_by_interval[i]:\n",
    "            show(interval_diagram(u, v, colors[c % 8]), figsize=[1,1]) \n",
    "        c=c+1\n",
    "        print(\"---\")"
   ]
  },
  {
   "cell_type": "code",
   "execution_count": 8,
   "id": "e104588d-48d2-49b4-a543-c2f72168b23c",
   "metadata": {},
   "outputs": [
    {
     "data": {
      "text/plain": [
       "7"
      ]
     },
     "execution_count": 8,
     "metadata": {},
     "output_type": "execute_result"
    }
   ],
   "source": [
    "c"
   ]
  },
  {
   "cell_type": "code",
   "execution_count": 16,
   "id": "fc637516-bfcb-4e40-9555-00b89b0f74ac",
   "metadata": {},
   "outputs": [
    {
     "data": {
      "image/png": "[encoded data removed]",
      "text/plain": [
       "Graphics object consisting of 15 graphics primitives"
      ]
     },
     "metadata": {},
     "output_type": "display_data"
    }
   ],
   "source": [
    "P = W.bruhat_poset()\n",
    "\n",
    "labels = {}\n",
    "for w in W:\n",
    "    # one-line permutation string, e.g. '213'\n",
    "    one_line = Permutation(w)\n",
    "    # reduced_word() returns a list like [1,2,1] (Sage Integers); convert to 's1*s2*s1'\n",
    "    rw = w.reduced_word()\n",
    "    rw_str = \"*\".join(\"s{}\".format(int(i)) for i in rw) if rw else \"id\"\n",
    "    # include newline so label shows two lines (depends on renderer)\n",
    "    labels[w] = \"{}\\n{}\".format(one_line, rw_str)\n",
    "\n",
    "P.show(element_labels=labels, figsize=[4,4], vertex_size=100, fontsize=10)"
   ]
  },
  {
   "cell_type": "code",
   "execution_count": 8,
   "id": "a35b1b0e-b1e9-4aba-99d5-78d5cc5f6551",
   "metadata": {},
   "outputs": [
    {
     "data": {
      "text/plain": [
       "[3, 2, 1]"
      ]
     },
     "execution_count": 8,
     "metadata": {},
     "output_type": "execute_result"
    }
   ],
   "source": [
    "Permutation(s[1]*s[2]*s[1])"
   ]
  },
  {
   "cell_type": "code",
   "execution_count": null,
   "id": "9f2b988a-ae9e-4a4f-9ec4-82d9a756515c",
   "metadata": {},
   "outputs": [],
   "source": []
  },
  {
   "cell_type": "code",
   "execution_count": null,
   "id": "855b7002-73a7-43b3-8ef4-325e93f411bf",
   "metadata": {},
   "outputs": [],
   "source": []
  },
  {
   "cell_type": "code",
   "execution_count": null,
   "id": "9137d128-986a-488b-9955-f08c23d0e09b",
   "metadata": {},
   "outputs": [],
   "source": []
  },
  {
   "cell_type": "code",
   "execution_count": null,
   "id": "189bb075-33be-4e04-8d8d-a87678408414",
   "metadata": {},
   "outputs": [],
   "source": []
  },
  {
   "cell_type": "code",
   "execution_count": 1,
   "id": "7810df03-1241-4272-9361-fb69a28e633e",
   "metadata": {},
   "outputs": [],
   "source": [
    "def all_perfect_matchings_graph(G):\n",
    "    \"\"\"\n",
    "    Return list of all perfect matchings of graph G (as lists of edges (u,v) with u<v).\n",
    "    G must have an even number of vertices.\n",
    "    Warning: exponential in size of G.\n",
    "    \"\"\"\n",
    "    V = list(G.vertices())\n",
    "    n = len(V)\n",
    "    if n % 2 == 1:\n",
    "        return []\n",
    "    # map vertex to index for consistent ordering\n",
    "    V.sort()\n",
    "    used = {v: False for v in V}\n",
    "    results = []\n",
    "\n",
    "    def backtrack(current):\n",
    "        # find first unused vertex\n",
    "        try:\n",
    "            v = next(w for w in V if not used[w])\n",
    "        except StopIteration:\n",
    "            results.append(list(current))\n",
    "            return\n",
    "        used[v] = True\n",
    "        for u in V:\n",
    "            if not used[u] and G.has_edge(v, u):\n",
    "                used[u] = True\n",
    "                a,b = (v,u) if v <= u else (u,v)\n",
    "                current.append((a,b))\n",
    "                backtrack(current)\n",
    "                current.pop()\n",
    "                used[u] = False\n",
    "        used[v] = False\n",
    "\n",
    "    backtrack([])\n",
    "    return results\n"
   ]
  },
  {
   "cell_type": "code",
   "execution_count": 2,
   "id": "45cc566d-87ab-4a4e-8b48-0dc37487bc3f",
   "metadata": {},
   "outputs": [],
   "source": [
    "n=3\n",
    "G=graphs.CompleteGraph(2*n)\n",
    "matchings = all_perfect_matchings_graph(G)"
   ]
  },
  {
   "cell_type": "code",
   "execution_count": 3,
   "id": "cdd60c1f-22d4-4bdc-8f53-c82e1eae52ef",
   "metadata": {},
   "outputs": [
    {
     "data": {
      "text/plain": [
       "True"
      ]
     },
     "execution_count": 3,
     "metadata": {},
     "output_type": "execute_result"
    }
   ],
   "source": [
    "#fact check\n",
    "len(matchings) == (2*n-1).multifactorial(2)"
   ]
  },
  {
   "cell_type": "code",
   "execution_count": 4,
   "id": "7bcb8401-4941-44cc-83af-967bf4619017",
   "metadata": {},
   "outputs": [
    {
     "data": {
      "text/plain": [
       "[[(0, 1), (2, 3), (4, 5)],\n",
       " [(0, 1), (2, 4), (3, 5)],\n",
       " [(0, 1), (2, 5), (3, 4)],\n",
       " [(0, 2), (1, 3), (4, 5)],\n",
       " [(0, 2), (1, 4), (3, 5)],\n",
       " [(0, 2), (1, 5), (3, 4)],\n",
       " [(0, 3), (1, 2), (4, 5)],\n",
       " [(0, 3), (1, 4), (2, 5)],\n",
       " [(0, 3), (1, 5), (2, 4)],\n",
       " [(0, 4), (1, 2), (3, 5)],\n",
       " [(0, 4), (1, 3), (2, 5)],\n",
       " [(0, 4), (1, 5), (2, 3)],\n",
       " [(0, 5), (1, 2), (3, 4)],\n",
       " [(0, 5), (1, 3), (2, 4)],\n",
       " [(0, 5), (1, 4), (2, 3)]]"
      ]
     },
     "execution_count": 4,
     "metadata": {},
     "output_type": "execute_result"
    }
   ],
   "source": [
    "matchings"
   ]
  },
  {
   "cell_type": "code",
   "execution_count": null,
   "id": "26a09082-697f-4ee6-b9c7-00cef87114f1",
   "metadata": {},
   "outputs": [],
   "source": []
  }
 ],
 "metadata": {
  "kernelspec": {
   "display_name": "SageMath 10.6",
   "language": "sage",
   "name": "sagemath-10.6"
  },
  "language_info": {
   "codemirror_mode": {
    "name": "ipython",
    "version": 3
   },
   "file_extension": ".py",
   "mimetype": "text/x-python",
   "name": "python",
   "nbconvert_exporter": "python",
   "pygments_lexer": "ipython3",
   "version": "3.12.5"
  }
 },
 "nbformat": 4,
 "nbformat_minor": 5
}
