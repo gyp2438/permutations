{
 "cells": [
  {
   "cell_type": "code",
   "execution_count": 367,
   "id": "17216baa-2e85-42fc-8ffa-e2a64bbd6d94",
   "metadata": {},
   "outputs": [],
   "source": [
    "#Set the Group and the size n\n",
    "n=3\n",
    "W = Permutations(n);"
   ]
  },
  {
   "cell_type": "code",
   "execution_count": 368,
   "id": "a455d4e7-775d-45d8-b9c6-3ceee95a0418",
   "metadata": {},
   "outputs": [],
   "source": [
    "def dominant_elements(W): \n",
    "    for u in W:\n",
    "        if u.avoids([1,3,2]): \n",
    "            yield u\n",
    "            \n",
    "def square (x, y, s, color = \"black\"):\n",
    "    return polygon([[x,y], [x+s,y],[x+s,y+s],[x,y+s]], color = color)\n",
    "\n",
    "def lehmer_diagram(w): \n",
    "    out = []\n",
    "    \n",
    "    for i in range(0, len(w)):\n",
    "        for j in range(i + 1, len(w)):\n",
    "            if w[i] > w[j]: \n",
    "                out.append((i, w[j] - 1))\n",
    "    \n",
    "    return out;\n",
    "\n",
    "def interval_diagram (u, v, color): \n",
    "    n = len(u)\n",
    "    out = [polygon([[0,0], [n,0],[n,n],[0,n]], color = \"#EEEEEE\", axes = False)];\n",
    "    \n",
    "    for (x, y) in lehmer_diagram(v):\n",
    "        out.append(square(x, n - y - 1, 1, color));\n",
    "\n",
    "    for i in range(0, len(u)):\n",
    "        out.append(circle((i + .5, n - (u[i] + .5) + 1),.1, color=\"grey\", thickness=3))\n",
    "        \n",
    "    for i in range(0, n):\n",
    "        out.append(circle((i + .5, n - (v[i] + .5) + 1), .08, color=color, fill= True))\n",
    "\n",
    "    for (x, y) in lehmer_diagram(u):\n",
    "        out.append(square(x, n - y - 1, 1, \"grey\")); \n",
    "    \n",
    "    return sum(out)\n",
    "\n",
    "\n",
    "colors = [\n",
    "    \"#819aff\",\n",
    "    \"#66d9ef\",\n",
    "    \"#a6e22e\",\n",
    "    \"#ae81ff\",\n",
    "    \"#f92672\",\n",
    "    \"#e2e22e\",\n",
    "    \"#56adbc\",\n",
    "    \"#86b42b\"\n",
    "]\n",
    "\n"
   ]
  },
  {
   "cell_type": "code",
   "execution_count": 369,
   "id": "7810df03-1241-4272-9361-fb69a28e633e",
   "metadata": {},
   "outputs": [],
   "source": [
    "def all_perfect_matchings_graph(G_0):\n",
    "    \"\"\"\n",
    "    Return list of all perfect matchings of graph G (as lists of edges (u,v) with u<v).\n",
    "    G must have an even number of vertices.\n",
    "    Warning: exponential in size of G.\n",
    "    \"\"\"\n",
    "    G = G_0.relabel(lambda x: x + 1, inplace=False)\n",
    "    V = list(G.vertices())\n",
    "    n = len(V)\n",
    "    if n % 2 == 1:\n",
    "        return []\n",
    "    # map vertex to index for consistent ordering\n",
    "    V.sort()\n",
    "    used = {v: False for v in V}\n",
    "    results = []\n",
    "\n",
    "    def backtrack(current):\n",
    "        # find first unused vertex\n",
    "        try:\n",
    "            v = next(w for w in V if not used[w])\n",
    "        except StopIteration:\n",
    "            results.append(list(current))\n",
    "            return\n",
    "        used[v] = True\n",
    "        for u in V:\n",
    "            if not used[u] and G.has_edge(v, u):\n",
    "                used[u] = True\n",
    "                a,b = (v,u) if v <= u else (u,v)\n",
    "                current.append((a,b))\n",
    "                backtrack(current)\n",
    "                current.pop()\n",
    "                used[u] = False\n",
    "        used[v] = False\n",
    "\n",
    "    backtrack([])\n",
    "    return results\n"
   ]
  },
  {
   "cell_type": "code",
   "execution_count": 370,
   "id": "aab20d85-f398-45fa-84c5-852211e2652e",
   "metadata": {},
   "outputs": [],
   "source": [
    "def southeast_border_path(edges):\n",
    "    \"\"\"\n",
    "    Given permutation u, return the southeast border path of its Lehmer diagram\n",
    "    in the same coordinate system used for drawing in interval_diagram.\n",
    "    \"\"\"\n",
    "    #adding borders\n",
    "    edges[-1] = 0\n",
    "    path = ''\n",
    "\n",
    "    for row_step in range(n):\n",
    "        if row_step in edges.keys():\n",
    "            path = path + 'N'* (edges[row_step] - edges[row_step-1]) + 'E'\n",
    "        else: \n",
    "            leftover_N = n-path.count('N')\n",
    "            leftover_E = n-path.count('E')\n",
    "            path = path + 'N'*leftover_N +  'E'*leftover_E\n",
    "\n",
    "    return path\n",
    "\n",
    "\n",
    "def segments_intersect(A, B, C, D):\n",
    "    \"\"\"\n",
    "    Return True if line segments AB and CD intersect.\n",
    "    Each point is a tuple (x, y).\n",
    "    \"\"\"\n",
    "\n",
    "    def ccw(X, Y, Z):\n",
    "        \"\"\"Check if the sequence of points is counter-clockwise.\"\"\"\n",
    "        return (Z[1] - X[1]) * (Y[0] - X[0]) >= (Y[1] - X[1]) * (Z[0] - X[0])\n",
    "\n",
    "    # Check if the segments straddle each other\n",
    "    return (ccw(A, C, D) != ccw(B, C, D)) and (ccw(A, B, C) != ccw(A, B, D))\n",
    "    \n",
    "\n",
    "def interval_diagram_w_lattice(u, v, color):\n",
    "    n = len(u)\n",
    "    assert u in dominant_elements(W), 'u is not dominant'\n",
    "    out = [polygon([[0,0], [n,0],[n,n],[0,n]], color=\"#EEEEEE\", axes=False)]\n",
    "    outer_edges = {}\n",
    "    s, t = 0,0\n",
    "    path = [(s,t)]\n",
    "    \n",
    "    # Squares for v's Lehmer diagram\n",
    "    for (x, y) in lehmer_diagram(v):\n",
    "        out.append(square(x, n - y - 1, 1, color))\n",
    "\n",
    "    # Grey circles for u\n",
    "    for i in range(len(u)):\n",
    "        out.append(circle((i + .5, n - (u[i] + .5) + 1), .1, color=\"grey\", thickness=3))\n",
    "        \n",
    "    # Filled circles for v\n",
    "    # for i in range(n):\n",
    "    #     out.append(circle((i + .5, n - (v[i] + .5) + 1), .08, color=color, fill=True))\n",
    "\n",
    "    # Grey boxes for u's Lehmer diagram\n",
    "    for (x, y) in lehmer_diagram(u):\n",
    "        grey = {(x, n - y - 1)}\n",
    "        out.append(square(x, n - y - 1, 1, \"grey\"))  \n",
    "        if x not in outer_edges or n-y-1 < outer_edges[x]:\n",
    "            outer_edges[x] = n-y-1\n",
    "            \n",
    "   # === Add southeast border path ===\n",
    "    border = southeast_border_path(outer_edges)\n",
    "    #print(border)\n",
    "    pts = [(0,0)]\n",
    "    x,y = 0,0\n",
    "    for ch in border:\n",
    "        if ch == 'E':\n",
    "            x += 1\n",
    "        elif ch == 'N':\n",
    "            y += 1\n",
    "        pts.append((x,y))\n",
    "\n",
    "    segments = []\n",
    "    segment_positions = []\n",
    "    label = []\n",
    "    for i in range(len(pts)-1):\n",
    "        a = pts[i]; b = pts[i+1]\n",
    "        mid_x = (a[0] + b[0]) / 2\n",
    "        mid_y = (a[1] + b[1]) / 2\n",
    "    \n",
    "        # Label with the step number\n",
    "        label.append(text(str(i+1), (mid_x, mid_y), color='blue', fontsize=10))\n",
    "        segments.append(line([a,b], thickness=2, color='red'))\n",
    "        segment_positions.append((a,b))\n",
    "\n",
    "\n",
    "    # === Add NS hooks for each element of v\n",
    "    v_lines = []\n",
    "    matching = []\n",
    "\n",
    "    for i in range(n):\n",
    "        v_position = (i + .5, n - (v[i] + .5) + 1)\n",
    "        out.append(circle((i + .5, n - (v[i] + .5) + 1), .08, color=color, fill=True))\n",
    "\n",
    "        v_lines.append(line([v_position, (v_position[0], n)], color='blue', linestyle='--'))\n",
    "        v_lines.append(line([v_position, (0, v_position[1])], color='blue', linestyle='--'))\n",
    "\n",
    "\n",
    "\n",
    "        #=== MATCHING ===\n",
    "\n",
    "        \n",
    "        for (A,B) in segment_positions: \n",
    "            #print(segments_intersect(v_position, (v_position[0], n), A, B))\n",
    "            if segments_intersect(v_position, (v_position[0], n), A, B):\n",
    "                m1= segment_positions.index((A,B)) +1\n",
    "                #print(v_position, (v_position[0], n))\n",
    "                #print(A,B)\n",
    "    \n",
    "            #print(segments_intersect(v_position, (v_position[0], n), A, B))\n",
    "            elif segments_intersect(v_position, (0, v_position[1]), A, B):\n",
    "                m0= segment_positions.index((A,B))  +1\n",
    "                # print(A,B)\n",
    "                # print(m1)\n",
    "                \n",
    "        matching.append((m0,m1))\n",
    "                \n",
    "        \n",
    " \n",
    "    \n",
    "    #----------------\n",
    "\n",
    "    \n",
    "    plot_elements = sum(out) + sum(segments) + sum(label) + sum(v_lines)\n",
    "    #print(matching)\n",
    "    return plot_elements, matching"
   ]
  },
  {
   "cell_type": "markdown",
   "id": "5c0fa165-8157-4747-aa9f-fd04d2d80ae4",
   "metadata": {},
   "source": [
    "# From Bruhat interval to matchings"
   ]
  },
  {
   "cell_type": "code",
   "execution_count": 371,
   "id": "54aa1947-cd62-4a23-a19c-192940bf2714",
   "metadata": {},
   "outputs": [
    {
     "data": {
      "text/plain": [
       "{([1, 2, 3], [1, 2, 3]): [(3, 4), (2, 5), (1, 6)],\n",
       " ([1, 2, 3], [1, 3, 2]): [(3, 4), (1, 5), (2, 6)],\n",
       " ([1, 2, 3], [2, 1, 3]): [(2, 4), (3, 5), (1, 6)],\n",
       " ([1, 2, 3], [2, 3, 1]): [(2, 4), (1, 5), (3, 6)],\n",
       " ([1, 2, 3], [3, 1, 2]): [(1, 4), (3, 5), (2, 6)],\n",
       " ([1, 2, 3], [3, 2, 1]): [(1, 4), (2, 5), (3, 6)],\n",
       " ([2, 1, 3], [2, 1, 3]): [(2, 3), (4, 5), (1, 6)],\n",
       " ([2, 1, 3], [2, 3, 1]): [(2, 3), (1, 5), (4, 6)],\n",
       " ([2, 1, 3], [3, 1, 2]): [(1, 3), (4, 5), (2, 6)],\n",
       " ([2, 1, 3], [3, 2, 1]): [(1, 3), (2, 5), (4, 6)],\n",
       " ([2, 3, 1], [2, 3, 1]): [(2, 3), (1, 4), (5, 6)],\n",
       " ([2, 3, 1], [3, 2, 1]): [(1, 3), (2, 4), (5, 6)],\n",
       " ([3, 1, 2], [3, 1, 2]): [(1, 2), (4, 5), (3, 6)],\n",
       " ([3, 1, 2], [3, 2, 1]): [(1, 2), (3, 5), (4, 6)],\n",
       " ([3, 2, 1], [3, 2, 1]): [(1, 2), (3, 4), (5, 6)]}"
      ]
     },
     "execution_count": 371,
     "metadata": {},
     "output_type": "execute_result"
    }
   ],
   "source": [
    "int_to_match_bij = {}\n",
    "for u in dominant_elements(W):\n",
    "    for v in u.bruhat_greater():\n",
    "        #print(u,v)\n",
    "        diag, matching = interval_diagram_w_lattice(u,v, colors[0])\n",
    "        int_to_match_bij[(u,v)] = matching\n",
    "        #show(diag, figsize=[1,1])\n",
    "int_to_match_bij"
   ]
  },
  {
   "cell_type": "code",
   "execution_count": 332,
   "id": "08c7728c-96e8-429d-9034-19c45448863e",
   "metadata": {},
   "outputs": [
    {
     "data": {
      "text/plain": [
       "True"
      ]
     },
     "execution_count": 332,
     "metadata": {},
     "output_type": "execute_result"
    }
   ],
   "source": [
    "#Fact check: make sure all (2n-1)!! matchings are there by comparing with the matchings we obtain from K_n graph\n",
    "K=graphs.CompleteGraph(2*n)\n",
    "match_from_K = all_perfect_matchings_graph(K)\n",
    "len(match_from_K) == (2*n-1).multifactorial(2)"
   ]
  },
  {
   "cell_type": "code",
   "execution_count": 333,
   "id": "f7431f10-99d5-4b9c-943a-b08d7175900d",
   "metadata": {},
   "outputs": [
    {
     "data": {
      "text/plain": [
       "True"
      ]
     },
     "execution_count": 333,
     "metadata": {},
     "output_type": "execute_result"
    }
   ],
   "source": [
    "match_in_CN = [Permutation(match) for match in list(int_to_match_bij.values())]\n",
    "all(Permutation(m) in match_in_CN for m in match_from_K)"
   ]
  },
  {
   "cell_type": "markdown",
   "id": "8d788e46-2292-474b-9e77-3e54a4a146f1",
   "metadata": {},
   "source": [
    "### Sidequest: what does rotating a matching corresponding to a bruhat interval do to that interval?"
   ]
  },
  {
   "cell_type": "code",
   "execution_count": 373,
   "id": "e86a23af-af39-47a3-8381-2d32ef404e27",
   "metadata": {},
   "outputs": [
    {
     "data": {
      "text/html": [
       "<div class=\"notruncate\">\n",
       "<table border=\"1\" class=\"table_form\">\n",
       "<tbody>\n",
       "<tr>\n",
       "<th style=\"text-align:left\">Bruhat interval</th>\n",
       "<th style=\"text-align:left\">Translated Class</th>\n",
       "<th style=\"text-align:left\">Matching</th>\n",
       "</tr>\n",
       "<tr class =\"row-a\">\n",
       "<td style=\"text-align:left\">\\(\\left([1, 2, 3], [1, 2, 3]\\right)\\)</td>\n",
       "<td style=\"text-align:left\">\\(0\\)</td>\n",
       "<td style=\"text-align:left\">\\(\\left[\\left(3, 4\\right), \\left(2, 5\\right), \\left(1, 6\\right)\\right]\\)</td>\n",
       "</tr>\n",
       "<tr class =\"row-b\">\n",
       "<td style=\"text-align:left\">\\(\\left([2, 1, 3], [2, 1, 3]\\right)\\)</td>\n",
       "<td style=\"text-align:left\">\\(0\\)</td>\n",
       "<td style=\"text-align:left\">\\(\\left[\\left(2, 3\\right), \\left(4, 5\\right), \\left(1, 6\\right)\\right]\\)</td>\n",
       "</tr>\n",
       "<tr class =\"row-a\">\n",
       "<td style=\"text-align:left\">\\(\\left([2, 3, 1], [2, 3, 1]\\right)\\)</td>\n",
       "<td style=\"text-align:left\">\\(0\\)</td>\n",
       "<td style=\"text-align:left\">\\(\\left[\\left(2, 3\\right), \\left(1, 4\\right), \\left(5, 6\\right)\\right]\\)</td>\n",
       "</tr>\n",
       "<tr class =\"row-b\">\n",
       "<td style=\"text-align:left\">\\(\\left([3, 1, 2], [3, 1, 2]\\right)\\)</td>\n",
       "<td style=\"text-align:left\">\\(0\\)</td>\n",
       "<td style=\"text-align:left\">\\(\\left[\\left(1, 2\\right), \\left(4, 5\\right), \\left(3, 6\\right)\\right]\\)</td>\n",
       "</tr>\n",
       "<tr class =\"row-a\">\n",
       "<td style=\"text-align:left\">\\(\\left([3, 2, 1], [3, 2, 1]\\right)\\)</td>\n",
       "<td style=\"text-align:left\">\\(0\\)</td>\n",
       "<td style=\"text-align:left\">\\(\\left[\\left(1, 2\\right), \\left(3, 4\\right), \\left(5, 6\\right)\\right]\\)</td>\n",
       "</tr>\n",
       "<tr class =\"row-b\">\n",
       "<td style=\"text-align:left\">\\(\\left([1, 2, 3], [1, 3, 2]\\right)\\)</td>\n",
       "<td style=\"text-align:left\">\\(1\\)</td>\n",
       "<td style=\"text-align:left\">\\(\\left[\\left(3, 4\\right), \\left(1, 5\\right), \\left(2, 6\\right)\\right]\\)</td>\n",
       "</tr>\n",
       "<tr class =\"row-a\">\n",
       "<td style=\"text-align:left\">\\(\\left([2, 1, 3], [3, 1, 2]\\right)\\)</td>\n",
       "<td style=\"text-align:left\">\\(1\\)</td>\n",
       "<td style=\"text-align:left\">\\(\\left[\\left(1, 3\\right), \\left(4, 5\\right), \\left(2, 6\\right)\\right]\\)</td>\n",
       "</tr>\n",
       "<tr class =\"row-b\">\n",
       "<td style=\"text-align:left\">\\(\\left([2, 3, 1], [3, 2, 1]\\right)\\)</td>\n",
       "<td style=\"text-align:left\">\\(1\\)</td>\n",
       "<td style=\"text-align:left\">\\(\\left[\\left(1, 3\\right), \\left(2, 4\\right), \\left(5, 6\\right)\\right]\\)</td>\n",
       "</tr>\n",
       "<tr class =\"row-a\">\n",
       "<td style=\"text-align:left\">\\(\\left([1, 2, 3], [2, 1, 3]\\right)\\)</td>\n",
       "<td style=\"text-align:left\">\\(2\\)</td>\n",
       "<td style=\"text-align:left\">\\(\\left[\\left(2, 4\\right), \\left(3, 5\\right), \\left(1, 6\\right)\\right]\\)</td>\n",
       "</tr>\n",
       "<tr class =\"row-b\">\n",
       "<td style=\"text-align:left\">\\(\\left([3, 1, 2], [3, 2, 1]\\right)\\)</td>\n",
       "<td style=\"text-align:left\">\\(2\\)</td>\n",
       "<td style=\"text-align:left\">\\(\\left[\\left(1, 2\\right), \\left(3, 5\\right), \\left(4, 6\\right)\\right]\\)</td>\n",
       "</tr>\n",
       "<tr class =\"row-a\">\n",
       "<td style=\"text-align:left\">\\(\\left([1, 2, 3], [2, 3, 1]\\right)\\)</td>\n",
       "<td style=\"text-align:left\">\\(3\\)</td>\n",
       "<td style=\"text-align:left\">\\(\\left[\\left(2, 4\\right), \\left(1, 5\\right), \\left(3, 6\\right)\\right]\\)</td>\n",
       "</tr>\n",
       "<tr class =\"row-b\">\n",
       "<td style=\"text-align:left\">\\(\\left([1, 2, 3], [3, 1, 2]\\right)\\)</td>\n",
       "<td style=\"text-align:left\">\\(4\\)</td>\n",
       "<td style=\"text-align:left\">\\(\\left[\\left(1, 4\\right), \\left(3, 5\\right), \\left(2, 6\\right)\\right]\\)</td>\n",
       "</tr>\n",
       "<tr class =\"row-a\">\n",
       "<td style=\"text-align:left\">\\(\\left([1, 2, 3], [3, 2, 1]\\right)\\)</td>\n",
       "<td style=\"text-align:left\">\\(5\\)</td>\n",
       "<td style=\"text-align:left\">\\(\\left[\\left(1, 4\\right), \\left(2, 5\\right), \\left(3, 6\\right)\\right]\\)</td>\n",
       "</tr>\n",
       "<tr class =\"row-b\">\n",
       "<td style=\"text-align:left\">\\(\\left([2, 1, 3], [2, 3, 1]\\right)\\)</td>\n",
       "<td style=\"text-align:left\">\\(6\\)</td>\n",
       "<td style=\"text-align:left\">\\(\\left[\\left(2, 3\\right), \\left(1, 5\\right), \\left(4, 6\\right)\\right]\\)</td>\n",
       "</tr>\n",
       "<tr class =\"row-a\">\n",
       "<td style=\"text-align:left\">\\(\\left([2, 1, 3], [3, 2, 1]\\right)\\)</td>\n",
       "<td style=\"text-align:left\">\\(7\\)</td>\n",
       "<td style=\"text-align:left\">\\(\\left[\\left(1, 3\\right), \\left(2, 5\\right), \\left(4, 6\\right)\\right]\\)</td>\n",
       "</tr>\n",
       "</tbody>\n",
       "</table>\n",
       "</div>"
      ],
      "text/plain": [
       "┌────────────────────────┬──────────────────┬──────────────────────────┐\n",
       "│ Bruhat interval        │ Translated Class │ Matching                 │\n",
       "╞════════════════════════╪══════════════════╪══════════════════════════╡\n",
       "│ ([1, 2, 3], [1, 2, 3]) │ 0                │ [(3, 4), (2, 5), (1, 6)] │\n",
       "├────────────────────────┼──────────────────┼──────────────────────────┤\n",
       "│ ([2, 1, 3], [2, 1, 3]) │ 0                │ [(2, 3), (4, 5), (1, 6)] │\n",
       "├────────────────────────┼──────────────────┼──────────────────────────┤\n",
       "│ ([2, 3, 1], [2, 3, 1]) │ 0                │ [(2, 3), (1, 4), (5, 6)] │\n",
       "├────────────────────────┼──────────────────┼──────────────────────────┤\n",
       "│ ([3, 1, 2], [3, 1, 2]) │ 0                │ [(1, 2), (4, 5), (3, 6)] │\n",
       "├────────────────────────┼──────────────────┼──────────────────────────┤\n",
       "│ ([3, 2, 1], [3, 2, 1]) │ 0                │ [(1, 2), (3, 4), (5, 6)] │\n",
       "├────────────────────────┼──────────────────┼──────────────────────────┤\n",
       "│ ([1, 2, 3], [1, 3, 2]) │ 1                │ [(3, 4), (1, 5), (2, 6)] │\n",
       "├────────────────────────┼──────────────────┼──────────────────────────┤\n",
       "│ ([2, 1, 3], [3, 1, 2]) │ 1                │ [(1, 3), (4, 5), (2, 6)] │\n",
       "├────────────────────────┼──────────────────┼──────────────────────────┤\n",
       "│ ([2, 3, 1], [3, 2, 1]) │ 1                │ [(1, 3), (2, 4), (5, 6)] │\n",
       "├────────────────────────┼──────────────────┼──────────────────────────┤\n",
       "│ ([1, 2, 3], [2, 1, 3]) │ 2                │ [(2, 4), (3, 5), (1, 6)] │\n",
       "├────────────────────────┼──────────────────┼──────────────────────────┤\n",
       "│ ([3, 1, 2], [3, 2, 1]) │ 2                │ [(1, 2), (3, 5), (4, 6)] │\n",
       "├────────────────────────┼──────────────────┼──────────────────────────┤\n",
       "│ ([1, 2, 3], [2, 3, 1]) │ 3                │ [(2, 4), (1, 5), (3, 6)] │\n",
       "├────────────────────────┼──────────────────┼──────────────────────────┤\n",
       "│ ([1, 2, 3], [3, 1, 2]) │ 4                │ [(1, 4), (3, 5), (2, 6)] │\n",
       "├────────────────────────┼──────────────────┼──────────────────────────┤\n",
       "│ ([1, 2, 3], [3, 2, 1]) │ 5                │ [(1, 4), (2, 5), (3, 6)] │\n",
       "├────────────────────────┼──────────────────┼──────────────────────────┤\n",
       "│ ([2, 1, 3], [2, 3, 1]) │ 6                │ [(2, 3), (1, 5), (4, 6)] │\n",
       "├────────────────────────┼──────────────────┼──────────────────────────┤\n",
       "│ ([2, 1, 3], [3, 2, 1]) │ 7                │ [(1, 3), (2, 5), (4, 6)] │\n",
       "└────────────────────────┴──────────────────┴──────────────────────────┘"
      ]
     },
     "execution_count": 373,
     "metadata": {},
     "output_type": "execute_result"
    }
   ],
   "source": [
    "rows = []\n",
    "rows.append(['Bruhat interval', 'Translated Class', 'Matching'])\n",
    "for (u,v) in list(bruhat_to_class.keys()):\n",
    "    rows.append([(u,v), bruhat_to_class[(u,v)], int_to_match_bij[(u,v)]])\n",
    "\n",
    "table(rows, header_row=True, frame=True)"
   ]
  },
  {
   "cell_type": "markdown",
   "id": "7077e922-fe58-47c8-8663-e8da8a2639c2",
   "metadata": {},
   "source": [
    "# Translated Bruhat Intevals"
   ]
  },
  {
   "cell_type": "code",
   "execution_count": 334,
   "id": "e5017891-42d7-4fd7-b393-e6417470184a",
   "metadata": {},
   "outputs": [
    {
     "name": "stdout",
     "output_type": "stream",
     "text": [
      "frozenset({[1, 3, 2], [1, 2, 3]})\n"
     ]
    },
    {
     "data": {
      "image/png": "[encoded data removed]",
      "text/plain": [
       "Graphics object consisting of 8 graphics primitives"
      ]
     },
     "metadata": {},
     "output_type": "display_data"
    },
    {
     "data": {
      "image/png": "[encoded data removed]",
      "text/plain": [
       "Graphics object consisting of 10 graphics primitives"
      ]
     },
     "metadata": {},
     "output_type": "display_data"
    },
    {
     "data": {
      "image/png": "[encoded data removed]",
      "text/plain": [
       "Graphics object consisting of 12 graphics primitives"
      ]
     },
     "metadata": {},
     "output_type": "display_data"
    },
    {
     "name": "stdout",
     "output_type": "stream",
     "text": [
      "---\n",
      "frozenset({[1, 2, 3], [2, 1, 3]})\n"
     ]
    },
    {
     "data": {
      "image/png": "[encoded data removed]",
      "text/plain": [
       "Graphics object consisting of 8 graphics primitives"
      ]
     },
     "metadata": {},
     "output_type": "display_data"
    },
    {
     "data": {
      "image/png": "[encoded data removed]",
      "text/plain": [
       "Graphics object consisting of 12 graphics primitives"
      ]
     },
     "metadata": {},
     "output_type": "display_data"
    },
    {
     "name": "stdout",
     "output_type": "stream",
     "text": [
      "---\n",
      "frozenset({[2, 3, 1], [1, 3, 2], [2, 1, 3], [1, 2, 3]})\n"
     ]
    },
    {
     "data": {
      "image/png": "[encoded data removed]",
      "text/plain": [
       "Graphics object consisting of 9 graphics primitives"
      ]
     },
     "metadata": {},
     "output_type": "display_data"
    },
    {
     "name": "stdout",
     "output_type": "stream",
     "text": [
      "---\n",
      "frozenset({[1, 3, 2], [2, 1, 3], [3, 1, 2], [1, 2, 3]})\n"
     ]
    },
    {
     "data": {
      "image/png": "[encoded data removed]",
      "text/plain": [
       "Graphics object consisting of 9 graphics primitives"
      ]
     },
     "metadata": {},
     "output_type": "display_data"
    },
    {
     "name": "stdout",
     "output_type": "stream",
     "text": [
      "---\n",
      "frozenset({[3, 2, 1], [1, 3, 2], [3, 1, 2], [2, 3, 1], [1, 2, 3], [2, 1, 3]})\n"
     ]
    },
    {
     "data": {
      "image/png": "[encoded data removed]",
      "text/plain": [
       "Graphics object consisting of 10 graphics primitives"
      ]
     },
     "metadata": {},
     "output_type": "display_data"
    },
    {
     "name": "stdout",
     "output_type": "stream",
     "text": [
      "---\n",
      "frozenset({[3, 2, 1], [1, 2, 3]})\n"
     ]
    },
    {
     "data": {
      "image/png": "[encoded data removed]",
      "text/plain": [
       "Graphics object consisting of 10 graphics primitives"
      ]
     },
     "metadata": {},
     "output_type": "display_data"
    },
    {
     "name": "stdout",
     "output_type": "stream",
     "text": [
      "---\n",
      "frozenset({[2, 3, 1], [3, 2, 1], [1, 3, 2], [1, 2, 3]})\n"
     ]
    },
    {
     "data": {
      "image/png": "[encoded data removed]",
      "text/plain": [
       "Graphics object consisting of 11 graphics primitives"
      ]
     },
     "metadata": {},
     "output_type": "display_data"
    },
    {
     "name": "stdout",
     "output_type": "stream",
     "text": [
      "---\n"
     ]
    }
   ],
   "source": [
    "shifted_intervals = [];\n",
    "pairs_grouped_by_interval = {}\n",
    "bruhat_to_class_presort = {}\n",
    "\n",
    "def shifted_interval (u, v): \n",
    "    W = u.parent();\n",
    "    interval = set()\n",
    "    for x in W.bruhat_interval(u, W(v)):\n",
    "        interval.add(u^(-1)*x) \n",
    "    return frozenset(interval)\n",
    "\n",
    "for u in dominant_elements(W): \n",
    "    for v in u.bruhat_greater():\n",
    "        interval = shifted_interval(u,v)\n",
    "\n",
    "        if interval in shifted_intervals:\n",
    "            i = shifted_intervals.index(interval)\n",
    "        else:\n",
    "            i = len(shifted_intervals) \n",
    "            pairs_grouped_by_interval[i] = [] \n",
    "            shifted_intervals.append(frozenset(interval))\n",
    "            \n",
    "        pairs_grouped_by_interval[i].append((u,v)) \n",
    "        bruhat_to_class_presort[(u,v)] = i\n",
    "        \n",
    "bruhat_to_class = dict(sorted(bruhat_to_class_presort.items(), key=lambda item: item[1]))\n",
    "\n",
    "c=0\n",
    "\n",
    "for i in pairs_grouped_by_interval:\n",
    "    if i > 0:\n",
    "        print(shifted_intervals[i])\n",
    "        for (u, v) in pairs_grouped_by_interval[i]:\n",
    "            show(interval_diagram(u, v, colors[c % 8]), figsize=[1,1]) \n",
    "        c=c+1\n",
    "        print(\"---\")"
   ]
  },
  {
   "cell_type": "code",
   "execution_count": 372,
   "id": "656efabf-b485-4fb8-bb4a-905920cd48a3",
   "metadata": {},
   "outputs": [],
   "source": [
    "import pandas as pd \n",
    "df= pd.DataFrame(rows)\n",
    "# TODO save diagrams to disk as html and include the html path in the dataframe\n",
    "# use HTML(pd.to_html) or similar to render the html "
   ]
  },
  {
   "cell_type": "code",
   "execution_count": 416,
   "id": "315bb7cf-9021-4e81-92df-1d9962339e27",
   "metadata": {},
   "outputs": [],
   "source": [
    "def draw_perfect_matching(matching, n):\n",
    "    \"\"\"\n",
    "    Draws a perfect matching on 2n points arranged in a circle.\n",
    "    `matching` is a list of 2-element tuples representing matched pairs.\n",
    "    Rotates the diagram 90 degrees counterclockwise.\n",
    "    \"\"\"\n",
    "    points = []\n",
    "    labels = []\n",
    "    for i in range(2 * n):\n",
    "        angle = -2 * pi * i / (2 * n) + pi/2  # 90° counter-clockwise\n",
    "        x = cos(angle)\n",
    "        y = sin(angle)\n",
    "        points.append((x, y))\n",
    "        labels.append(text(str(i + 1), (1.2 * x, 1.2 * y), fontsize=30))\n",
    "\n",
    "    G = circle((0, 0), 1, color='black', axes=False) + sum(labels)\n",
    "\n",
    "    for a, b in matching:\n",
    "        x1, y1 = points[a - 1]\n",
    "        x2, y2 = points[b - 1]\n",
    "        G += line([(x1, y1), (x2, y2)], color='blue')\n",
    "\n",
    "    return G\n",
    "\n",
    "def graphics_to_img(g,i, width=60, height=60):\n",
    "    \"\"\"\n",
    "    Convert a Sage Graphics object into an HTML <img> tag.\n",
    "    \"\"\"\n",
    "    return g.save(str(i) + \".png\", dpi=100)"
   ]
  },
  {
   "cell_type": "code",
   "execution_count": null,
   "id": "85bde759-6996-4c9c-b3a2-65e67e9f92ed",
   "metadata": {},
   "outputs": [],
   "source": []
  },
  {
   "cell_type": "code",
   "execution_count": 410,
   "id": "29664c53-9edf-40e8-894e-bd9a94078578",
   "metadata": {},
   "outputs": [],
   "source": [
    "matching = [(1, 6), (2, 5), (3, 4)]\n",
    "#draw_perfect_matching(matching, 3).axes(False)\n",
    "g=graphics_to_img(draw_perfect_matching(matching, 3),0)"
   ]
  },
  {
   "cell_type": "code",
   "execution_count": 419,
   "id": "9fad79b4-7401-4382-a78f-167262000587",
   "metadata": {},
   "outputs": [
    {
     "data": {
      "text/html": [
       "<div class=\"notruncate\">\n",
       "<table border=\"1\" class=\"table_form\">\n",
       "<tbody>\n",
       "<tr>\n",
       "<th style=\"text-align:left\">No.</th>\n",
       "<th style=\"text-align:left\">Bruhat interval</th>\n",
       "<th style=\"text-align:left\">Translated Class</th>\n",
       "<th style=\"text-align:left\">Matching</th>\n",
       "<th style=\"text-align:left\">Diagram</th>\n",
       "</tr>\n",
       "<tr class =\"row-a\">\n",
       "<td style=\"text-align:left\">1</td>\n",
       "<td style=\"text-align:left\">\\(\\left([1, 2, 3], [1, 2, 3]\\right)\\)</td>\n",
       "<td style=\"text-align:left\">\\(0\\)</td>\n",
       "<td style=\"text-align:left\">\\(\\left[\\left(3, 4\\right), \\left(2, 5\\right), \\left(1, 6\\right)\\right]\\)</td>\n",
       "<td style=\"text-align:left\"><img src=0.png width='60'/></td>\n",
       "</tr>\n",
       "<tr class =\"row-b\">\n",
       "<td style=\"text-align:left\">2</td>\n",
       "<td style=\"text-align:left\">\\(\\left([2, 1, 3], [2, 1, 3]\\right)\\)</td>\n",
       "<td style=\"text-align:left\">\\(0\\)</td>\n",
       "<td style=\"text-align:left\">\\(\\left[\\left(2, 3\\right), \\left(4, 5\\right), \\left(1, 6\\right)\\right]\\)</td>\n",
       "<td style=\"text-align:left\"><img src=1.png width='60'/></td>\n",
       "</tr>\n",
       "<tr class =\"row-a\">\n",
       "<td style=\"text-align:left\">3</td>\n",
       "<td style=\"text-align:left\">\\(\\left([2, 3, 1], [2, 3, 1]\\right)\\)</td>\n",
       "<td style=\"text-align:left\">\\(0\\)</td>\n",
       "<td style=\"text-align:left\">\\(\\left[\\left(2, 3\\right), \\left(1, 4\\right), \\left(5, 6\\right)\\right]\\)</td>\n",
       "<td style=\"text-align:left\"><img src=2.png width='60'/></td>\n",
       "</tr>\n",
       "<tr class =\"row-b\">\n",
       "<td style=\"text-align:left\">4</td>\n",
       "<td style=\"text-align:left\">\\(\\left([3, 1, 2], [3, 1, 2]\\right)\\)</td>\n",
       "<td style=\"text-align:left\">\\(0\\)</td>\n",
       "<td style=\"text-align:left\">\\(\\left[\\left(1, 2\\right), \\left(4, 5\\right), \\left(3, 6\\right)\\right]\\)</td>\n",
       "<td style=\"text-align:left\"><img src=3.png width='60'/></td>\n",
       "</tr>\n",
       "<tr class =\"row-a\">\n",
       "<td style=\"text-align:left\">5</td>\n",
       "<td style=\"text-align:left\">\\(\\left([3, 2, 1], [3, 2, 1]\\right)\\)</td>\n",
       "<td style=\"text-align:left\">\\(0\\)</td>\n",
       "<td style=\"text-align:left\">\\(\\left[\\left(1, 2\\right), \\left(3, 4\\right), \\left(5, 6\\right)\\right]\\)</td>\n",
       "<td style=\"text-align:left\"><img src=4.png width='60'/></td>\n",
       "</tr>\n",
       "<tr class =\"row-b\">\n",
       "<td style=\"text-align:left\">6</td>\n",
       "<td style=\"text-align:left\">\\(\\left([1, 2, 3], [1, 3, 2]\\right)\\)</td>\n",
       "<td style=\"text-align:left\">\\(1\\)</td>\n",
       "<td style=\"text-align:left\">\\(\\left[\\left(3, 4\\right), \\left(1, 5\\right), \\left(2, 6\\right)\\right]\\)</td>\n",
       "<td style=\"text-align:left\"><img src=5.png width='60'/></td>\n",
       "</tr>\n",
       "<tr class =\"row-a\">\n",
       "<td style=\"text-align:left\">7</td>\n",
       "<td style=\"text-align:left\">\\(\\left([2, 1, 3], [3, 1, 2]\\right)\\)</td>\n",
       "<td style=\"text-align:left\">\\(1\\)</td>\n",
       "<td style=\"text-align:left\">\\(\\left[\\left(1, 3\\right), \\left(4, 5\\right), \\left(2, 6\\right)\\right]\\)</td>\n",
       "<td style=\"text-align:left\"><img src=6.png width='60'/></td>\n",
       "</tr>\n",
       "<tr class =\"row-b\">\n",
       "<td style=\"text-align:left\">8</td>\n",
       "<td style=\"text-align:left\">\\(\\left([2, 3, 1], [3, 2, 1]\\right)\\)</td>\n",
       "<td style=\"text-align:left\">\\(1\\)</td>\n",
       "<td style=\"text-align:left\">\\(\\left[\\left(1, 3\\right), \\left(2, 4\\right), \\left(5, 6\\right)\\right]\\)</td>\n",
       "<td style=\"text-align:left\"><img src=7.png width='60'/></td>\n",
       "</tr>\n",
       "<tr class =\"row-a\">\n",
       "<td style=\"text-align:left\">9</td>\n",
       "<td style=\"text-align:left\">\\(\\left([1, 2, 3], [2, 1, 3]\\right)\\)</td>\n",
       "<td style=\"text-align:left\">\\(2\\)</td>\n",
       "<td style=\"text-align:left\">\\(\\left[\\left(2, 4\\right), \\left(3, 5\\right), \\left(1, 6\\right)\\right]\\)</td>\n",
       "<td style=\"text-align:left\"><img src=8.png width='60'/></td>\n",
       "</tr>\n",
       "<tr class =\"row-b\">\n",
       "<td style=\"text-align:left\">10</td>\n",
       "<td style=\"text-align:left\">\\(\\left([3, 1, 2], [3, 2, 1]\\right)\\)</td>\n",
       "<td style=\"text-align:left\">\\(2\\)</td>\n",
       "<td style=\"text-align:left\">\\(\\left[\\left(1, 2\\right), \\left(3, 5\\right), \\left(4, 6\\right)\\right]\\)</td>\n",
       "<td style=\"text-align:left\"><img src=9.png width='60'/></td>\n",
       "</tr>\n",
       "<tr class =\"row-a\">\n",
       "<td style=\"text-align:left\">11</td>\n",
       "<td style=\"text-align:left\">\\(\\left([1, 2, 3], [2, 3, 1]\\right)\\)</td>\n",
       "<td style=\"text-align:left\">\\(3\\)</td>\n",
       "<td style=\"text-align:left\">\\(\\left[\\left(2, 4\\right), \\left(1, 5\\right), \\left(3, 6\\right)\\right]\\)</td>\n",
       "<td style=\"text-align:left\"><img src=10.png width='60'/></td>\n",
       "</tr>\n",
       "<tr class =\"row-b\">\n",
       "<td style=\"text-align:left\">12</td>\n",
       "<td style=\"text-align:left\">\\(\\left([1, 2, 3], [3, 1, 2]\\right)\\)</td>\n",
       "<td style=\"text-align:left\">\\(4\\)</td>\n",
       "<td style=\"text-align:left\">\\(\\left[\\left(1, 4\\right), \\left(3, 5\\right), \\left(2, 6\\right)\\right]\\)</td>\n",
       "<td style=\"text-align:left\"><img src=11.png width='60'/></td>\n",
       "</tr>\n",
       "<tr class =\"row-a\">\n",
       "<td style=\"text-align:left\">13</td>\n",
       "<td style=\"text-align:left\">\\(\\left([1, 2, 3], [3, 2, 1]\\right)\\)</td>\n",
       "<td style=\"text-align:left\">\\(5\\)</td>\n",
       "<td style=\"text-align:left\">\\(\\left[\\left(1, 4\\right), \\left(2, 5\\right), \\left(3, 6\\right)\\right]\\)</td>\n",
       "<td style=\"text-align:left\"><img src=12.png width='60'/></td>\n",
       "</tr>\n",
       "<tr class =\"row-b\">\n",
       "<td style=\"text-align:left\">14</td>\n",
       "<td style=\"text-align:left\">\\(\\left([2, 1, 3], [2, 3, 1]\\right)\\)</td>\n",
       "<td style=\"text-align:left\">\\(6\\)</td>\n",
       "<td style=\"text-align:left\">\\(\\left[\\left(2, 3\\right), \\left(1, 5\\right), \\left(4, 6\\right)\\right]\\)</td>\n",
       "<td style=\"text-align:left\"><img src=13.png width='60'/></td>\n",
       "</tr>\n",
       "<tr class =\"row-a\">\n",
       "<td style=\"text-align:left\">15</td>\n",
       "<td style=\"text-align:left\">\\(\\left([2, 1, 3], [3, 2, 1]\\right)\\)</td>\n",
       "<td style=\"text-align:left\">\\(7\\)</td>\n",
       "<td style=\"text-align:left\">\\(\\left[\\left(1, 3\\right), \\left(2, 5\\right), \\left(4, 6\\right)\\right]\\)</td>\n",
       "<td style=\"text-align:left\"><img src=14.png width='60'/></td>\n",
       "</tr>\n",
       "</tbody>\n",
       "</table>\n",
       "</div>"
      ],
      "text/plain": [
       "┌─────┬────────────────────────┬──────────────────┬──────────────────────────┬──────────────────────────────┐\n",
       "│ No. │ Bruhat interval        │ Translated Class │ Matching                 │ Diagram                      │\n",
       "╞═════╪════════════════════════╪══════════════════╪══════════════════════════╪══════════════════════════════╡\n",
       "│ 1   │ ([1, 2, 3], [1, 2, 3]) │ 0                │ [(3, 4), (2, 5), (1, 6)] │ <img src=0.png width='60'/>  │\n",
       "├─────┼────────────────────────┼──────────────────┼──────────────────────────┼──────────────────────────────┤\n",
       "│ 2   │ ([2, 1, 3], [2, 1, 3]) │ 0                │ [(2, 3), (4, 5), (1, 6)] │ <img src=1.png width='60'/>  │\n",
       "├─────┼────────────────────────┼──────────────────┼──────────────────────────┼──────────────────────────────┤\n",
       "│ 3   │ ([2, 3, 1], [2, 3, 1]) │ 0                │ [(2, 3), (1, 4), (5, 6)] │ <img src=2.png width='60'/>  │\n",
       "├─────┼────────────────────────┼──────────────────┼──────────────────────────┼──────────────────────────────┤\n",
       "│ 4   │ ([3, 1, 2], [3, 1, 2]) │ 0                │ [(1, 2), (4, 5), (3, 6)] │ <img src=3.png width='60'/>  │\n",
       "├─────┼────────────────────────┼──────────────────┼──────────────────────────┼──────────────────────────────┤\n",
       "│ 5   │ ([3, 2, 1], [3, 2, 1]) │ 0                │ [(1, 2), (3, 4), (5, 6)] │ <img src=4.png width='60'/>  │\n",
       "├─────┼────────────────────────┼──────────────────┼──────────────────────────┼──────────────────────────────┤\n",
       "│ 6   │ ([1, 2, 3], [1, 3, 2]) │ 1                │ [(3, 4), (1, 5), (2, 6)] │ <img src=5.png width='60'/>  │\n",
       "├─────┼────────────────────────┼──────────────────┼──────────────────────────┼──────────────────────────────┤\n",
       "│ 7   │ ([2, 1, 3], [3, 1, 2]) │ 1                │ [(1, 3), (4, 5), (2, 6)] │ <img src=6.png width='60'/>  │\n",
       "├─────┼────────────────────────┼──────────────────┼──────────────────────────┼──────────────────────────────┤\n",
       "│ 8   │ ([2, 3, 1], [3, 2, 1]) │ 1                │ [(1, 3), (2, 4), (5, 6)] │ <img src=7.png width='60'/>  │\n",
       "├─────┼────────────────────────┼──────────────────┼──────────────────────────┼──────────────────────────────┤\n",
       "│ 9   │ ([1, 2, 3], [2, 1, 3]) │ 2                │ [(2, 4), (3, 5), (1, 6)] │ <img src=8.png width='60'/>  │\n",
       "├─────┼────────────────────────┼──────────────────┼──────────────────────────┼──────────────────────────────┤\n",
       "│ 10  │ ([3, 1, 2], [3, 2, 1]) │ 2                │ [(1, 2), (3, 5), (4, 6)] │ <img src=9.png width='60'/>  │\n",
       "├─────┼────────────────────────┼──────────────────┼──────────────────────────┼──────────────────────────────┤\n",
       "│ 11  │ ([1, 2, 3], [2, 3, 1]) │ 3                │ [(2, 4), (1, 5), (3, 6)] │ <img src=10.png width='60'/> │\n",
       "├─────┼────────────────────────┼──────────────────┼──────────────────────────┼──────────────────────────────┤\n",
       "│ 12  │ ([1, 2, 3], [3, 1, 2]) │ 4                │ [(1, 4), (3, 5), (2, 6)] │ <img src=11.png width='60'/> │\n",
       "├─────┼────────────────────────┼──────────────────┼──────────────────────────┼──────────────────────────────┤\n",
       "│ 13  │ ([1, 2, 3], [3, 2, 1]) │ 5                │ [(1, 4), (2, 5), (3, 6)] │ <img src=12.png width='60'/> │\n",
       "├─────┼────────────────────────┼──────────────────┼──────────────────────────┼──────────────────────────────┤\n",
       "│ 14  │ ([2, 1, 3], [2, 3, 1]) │ 6                │ [(2, 3), (1, 5), (4, 6)] │ <img src=13.png width='60'/> │\n",
       "├─────┼────────────────────────┼──────────────────┼──────────────────────────┼──────────────────────────────┤\n",
       "│ 15  │ ([2, 1, 3], [3, 2, 1]) │ 7                │ [(1, 3), (2, 5), (4, 6)] │ <img src=14.png width='60'/> │\n",
       "└─────┴────────────────────────┴──────────────────┴──────────────────────────┴──────────────────────────────┘"
      ]
     },
     "execution_count": 419,
     "metadata": {},
     "output_type": "execute_result"
    }
   ],
   "source": [
    "#How do the matchings of these look like?\n",
    "#Bruhat interval, Translated Class, matching, diagram\n",
    "rows = []\n",
    "rows.append(['No.', 'Bruhat interval', 'Translated Class', 'Matching', 'Diagram'])\n",
    "i=0\n",
    "for (u,v) in list(bruhat_to_class.keys()):\n",
    "    g=graphics_to_img(draw_perfect_matching(int_to_match_bij[(u,v)], n),i)\n",
    "    rows.append([str(i+1), (u,v), bruhat_to_class[(u,v)], int_to_match_bij[(u,v)], \"<img src=\" + str(i)+ \".png width='60'/>\"])\n",
    "    i+=1\n",
    "\n",
    "table(rows, header_row=True, frame=True)"
   ]
  },
  {
   "cell_type": "code",
   "execution_count": 418,
   "id": "1c04bdc0-2f61-4a52-94c4-2ee6cbc7af6f",
   "metadata": {},
   "outputs": [
    {
     "data": {
      "text/html": [
       "<img src='/files/tmp/diag.png' width=150 height=150>"
      ],
      "text/plain": [
       "<IPython.core.display.HTML object>"
      ]
     },
     "execution_count": 418,
     "metadata": {},
     "output_type": "execute_result"
    }
   ],
   "source": [
    "img_tag = f\"<img src='/files/tmp/diag.png' width=150 height=150>\"\n",
    "HTML(img_tag)"
   ]
  },
  {
   "cell_type": "code",
   "execution_count": 378,
   "id": "af11569f-61d2-4a02-846e-f8fabce69f13",
   "metadata": {},
   "outputs": [
    {
     "data": {
      "text/html": [
       "<table border='1' style='border-collapse: collapse; text-align: center;'><tr><th>Matching</th><th>Diagram</th></tr><tr><td>M1</td><td><img src='/files/tmp/diag.png' width=150 height=150></td></tr><tr><td>M2</td><td><img src='/files/tmp/diag.png' width=150 height=150></td></tr><tr><td>M3</td><td><img src='/files/tmp/diag.png' width=150 height=150></td></tr></table>"
      ],
      "text/plain": [
       "<IPython.core.display.HTML object>"
      ]
     },
     "metadata": {},
     "output_type": "display_data"
    }
   ],
   "source": [
    "def display_matchings_table(matchings, n):\n",
    "    html = \"<table border='1' style='border-collapse: collapse; text-align: center;'>\"\n",
    "    html += \"<tr><th>Matching</th><th>Diagram</th></tr>\"\n",
    "\n",
    "    for i, m in enumerate(matchings):\n",
    "        G = draw_perfect_matching(m, n)\n",
    "        # Convert graphic to PNG data URL\n",
    "        png_data = G.save('/tmp/diag.png')  # temporary file\n",
    "        # Use HTML <img> to show it\n",
    "        img_tag = f\"<img src='/files/tmp/diag.png' width=150 height=150>\"\n",
    "        html += f\"<tr><td>M{i+1}</td><td>{img_tag}</td></tr>\"\n",
    "\n",
    "    html += \"</table>\"\n",
    "    display(HTML(html))\n",
    "\n",
    "matchings = [\n",
    "    [(1,6),(2,5),(3,4)],\n",
    "    [(1,2),(3,6),(4,5)],\n",
    "    [(1,4),(2,5),(3,6)]\n",
    "]\n",
    "\n",
    "display_matchings_table(matchings, n=3)"
   ]
  },
  {
   "cell_type": "code",
   "execution_count": 354,
   "id": "0b7a1c5e-f473-4a5e-85ab-770a82c92341",
   "metadata": {},
   "outputs": [
    {
     "data": {
      "text/html": [
       "<div class=\"notruncate\">\n",
       "<table border=\"1\" class=\"table_form\">\n",
       "<tbody>\n",
       "<tr>\n",
       "<th style=\"text-align:left\">Matching</th>\n",
       "<th style=\"text-align:left\">Diagram</th>\n",
       "</tr>\n",
       "<tr class =\"row-a\">\n",
       "<td style=\"text-align:left\">M1</td>\n",
       "<td style=\"text-align:left\">\\(\\mathrm{None}\\)</td>\n",
       "</tr>\n",
       "<tr class =\"row-b\">\n",
       "<td style=\"text-align:left\">M2</td>\n",
       "<td style=\"text-align:left\">\\(\\mathrm{None}\\)</td>\n",
       "</tr>\n",
       "<tr class =\"row-a\">\n",
       "<td style=\"text-align:left\">M3</td>\n",
       "<td style=\"text-align:left\">\\(\\mathrm{None}\\)</td>\n",
       "</tr>\n",
       "</tbody>\n",
       "</table>\n",
       "</div>"
      ],
      "text/plain": [
       "┌──────────┬─────────┐\n",
       "│ Matching │ Diagram │\n",
       "╞══════════╪═════════╡\n",
       "│ M1       │ None    │\n",
       "├──────────┼─────────┤\n",
       "│ M2       │ None    │\n",
       "├──────────┼─────────┤\n",
       "│ M3       │ None    │\n",
       "└──────────┴─────────┘"
      ]
     },
     "execution_count": 354,
     "metadata": {},
     "output_type": "execute_result"
    }
   ],
   "source": [
    "matchings = [\n",
    "    [(1,6),(2,5),(3,4)],\n",
    "    [(1,2),(3,6),(4,5)],\n",
    "    [(1,4),(2,5),(3,6)]\n",
    "]\n",
    "\n",
    "n = 3\n",
    "\n",
    "# Create a list of diagrams\n",
    "diagrams = [graphics_to_img(draw_perfect_matching(m, n=3)) for m in matchings]\n",
    "\n",
    "# Prepare table data: header row + diagram rows\n",
    "table_data = [[\"Matching\", \"Diagram\"]]\n",
    "for i, diag in enumerate(diagrams):\n",
    "    table_data.append([f\"M{i+1}\", diag])\n",
    "\n",
    "# Display the table\n",
    "table(table_data, header_row=True, frame=True)"
   ]
  },
  {
   "cell_type": "code",
   "execution_count": 273,
   "id": "fc637516-bfcb-4e40-9555-00b89b0f74ac",
   "metadata": {},
   "outputs": [
    {
     "data": {
      "image/png": "[encoded data removed]",
      "text/plain": [
       "Graphics object consisting of 15 graphics primitives"
      ]
     },
     "metadata": {},
     "output_type": "display_data"
    }
   ],
   "source": [
    "P = W.bruhat_poset()\n",
    "\n",
    "labels = {}\n",
    "for w in W:\n",
    "    # one-line permutation string, e.g. '213'\n",
    "    one_line = Permutation(w)\n",
    "    # reduced_word() returns a list like [1,2,1] (Sage Integers); convert to 's1*s2*s1'\n",
    "    rw = w.reduced_word()\n",
    "    rw_str = \"*\".join(\"s{}\".format(int(i)) for i in rw) if rw else \"id\"\n",
    "    # include newline so label shows two lines (depends on renderer)\n",
    "    labels[w] = \"{}\\n{}\".format(one_line, rw_str)\n",
    "\n",
    "P.show(element_labels=labels, figsize=[4,4], vertex_size=100, fontsize=10)"
   ]
  },
  {
   "cell_type": "code",
   "execution_count": 274,
   "id": "45cc566d-87ab-4a4e-8b48-0dc37487bc3f",
   "metadata": {},
   "outputs": [],
   "source": [
    "n=3\n",
    "G=graphs.CompleteGraph(2*n)\n",
    "matchings = all_perfect_matchings_graph(G)"
   ]
  },
  {
   "cell_type": "code",
   "execution_count": 198,
   "id": "cdd60c1f-22d4-4bdc-8f53-c82e1eae52ef",
   "metadata": {},
   "outputs": [
    {
     "data": {
      "text/plain": [
       "True"
      ]
     },
     "execution_count": 198,
     "metadata": {},
     "output_type": "execute_result"
    }
   ],
   "source": [
    "#fact check\n",
    "len(matchings) == (2*n-1).multifactorial(2)"
   ]
  },
  {
   "cell_type": "code",
   "execution_count": 199,
   "id": "7bcb8401-4941-44cc-83af-967bf4619017",
   "metadata": {},
   "outputs": [
    {
     "data": {
      "text/plain": [
       "[[(0, 1), (2, 3), (4, 5)],\n",
       " [(0, 1), (2, 4), (3, 5)],\n",
       " [(0, 1), (2, 5), (3, 4)],\n",
       " [(0, 2), (1, 3), (4, 5)],\n",
       " [(0, 2), (1, 4), (3, 5)],\n",
       " [(0, 2), (1, 5), (3, 4)],\n",
       " [(0, 3), (1, 2), (4, 5)],\n",
       " [(0, 3), (1, 4), (2, 5)],\n",
       " [(0, 3), (1, 5), (2, 4)],\n",
       " [(0, 4), (1, 2), (3, 5)],\n",
       " [(0, 4), (1, 3), (2, 5)],\n",
       " [(0, 4), (1, 5), (2, 3)],\n",
       " [(0, 5), (1, 2), (3, 4)],\n",
       " [(0, 5), (1, 3), (2, 4)],\n",
       " [(0, 5), (1, 4), (2, 3)]]"
      ]
     },
     "execution_count": 199,
     "metadata": {},
     "output_type": "execute_result"
    }
   ],
   "source": [
    "matchings"
   ]
  },
  {
   "cell_type": "code",
   "execution_count": null,
   "id": "26a09082-697f-4ee6-b9c7-00cef87114f1",
   "metadata": {
    "collapsed": true,
    "jupyter": {
     "outputs_hidden": true
    }
   },
   "outputs": [],
   "source": []
  }
 ],
 "metadata": {
  "kernelspec": {
   "display_name": "SageMath 10.6",
   "language": "sage",
   "name": "sagemath-10.6"
  },
  "language_info": {
   "codemirror_mode": {
    "name": "ipython",
    "version": 3
   },
   "file_extension": ".py",
   "mimetype": "text/x-python",
   "name": "python",
   "nbconvert_exporter": "python",
   "pygments_lexer": "ipython3",
   "version": "3.12.5"
  }
 },
 "nbformat": 4,
 "nbformat_minor": 5
}
