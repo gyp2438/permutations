{
 "cells": [
  {
   "cell_type": "code",
   "execution_count": 8,
   "id": "17216baa-2e85-42fc-8ffa-e2a64bbd6d94",
   "metadata": {},
   "outputs": [],
   "source": [
    "#Set the Group and the size n\n",
    "n=3\n",
    "W = Permutations(n);"
   ]
  },
  {
   "cell_type": "code",
   "execution_count": 9,
   "id": "a455d4e7-775d-45d8-b9c6-3ceee95a0418",
   "metadata": {},
   "outputs": [],
   "source": [
    "def dominant_elements(W): \n",
    "    for u in W:\n",
    "        if u.avoids([1,3,2]): \n",
    "            yield u\n",
    "            \n",
    "def square (x, y, s, color = \"black\"):\n",
    "    return polygon([[x,y], [x+s,y],[x+s,y+s],[x,y+s]], color = color)\n",
    "\n",
    "def lehmer_diagram(w): \n",
    "    out = []\n",
    "    \n",
    "    for i in range(0, len(w)):\n",
    "        for j in range(i + 1, len(w)):\n",
    "            if w[i] > w[j]: \n",
    "                out.append((i, w[j] - 1))\n",
    "    \n",
    "    return out;\n",
    "\n",
    "def interval_diagram (u, v, color): \n",
    "    n = len(u)\n",
    "    out = [polygon([[0,0], [n,0],[n,n],[0,n]], color = \"#EEEEEE\", axes = False)];\n",
    "    \n",
    "    for (x, y) in lehmer_diagram(v):\n",
    "        out.append(square(x, n - y - 1, 1, color));\n",
    "\n",
    "    for i in range(0, len(u)):\n",
    "        out.append(circle((i + .5, n - (u[i] + .5) + 1),.1, color=\"grey\", thickness=3))\n",
    "        \n",
    "    for i in range(0, n):\n",
    "        out.append(circle((i + .5, n - (v[i] + .5) + 1), .08, color=color, fill= True))\n",
    "\n",
    "    for (x, y) in lehmer_diagram(u):\n",
    "        out.append(square(x, n - y - 1, 1, \"grey\")); \n",
    "    \n",
    "    return sum(out)\n",
    "\n",
    "\n",
    "colors = [\n",
    "    \"#819aff\",\n",
    "    \"#66d9ef\",\n",
    "    \"#a6e22e\",\n",
    "    \"#ae81ff\",\n",
    "    \"#f92672\",\n",
    "    \"#e2e22e\",\n",
    "    \"#56adbc\",\n",
    "    \"#86b42b\"\n",
    "]\n",
    "\n"
   ]
  },
  {
   "cell_type": "code",
   "execution_count": 10,
   "id": "7810df03-1241-4272-9361-fb69a28e633e",
   "metadata": {},
   "outputs": [],
   "source": [
    "def all_perfect_matchings_graph(G_0):\n",
    "    \"\"\"\n",
    "    Return list of all perfect matchings of graph G (as lists of edges (u,v) with u<v).\n",
    "    G must have an even number of vertices.\n",
    "    Warning: exponential in size of G.\n",
    "    \"\"\"\n",
    "    G = G_0.relabel(lambda x: x + 1, inplace=False)\n",
    "    V = list(G.vertices())\n",
    "    n = len(V)\n",
    "    if n % 2 == 1:\n",
    "        return []\n",
    "    # map vertex to index for consistent ordering\n",
    "    V.sort()\n",
    "    used = {v: False for v in V}\n",
    "    results = []\n",
    "\n",
    "    def backtrack(current):\n",
    "        # find first unused vertex\n",
    "        try:\n",
    "            v = next(w for w in V if not used[w])\n",
    "        except StopIteration:\n",
    "            results.append(list(current))\n",
    "            return\n",
    "        used[v] = True\n",
    "        for u in V:\n",
    "            if not used[u] and G.has_edge(v, u):\n",
    "                used[u] = True\n",
    "                a,b = (v,u) if v <= u else (u,v)\n",
    "                current.append((a,b))\n",
    "                backtrack(current)\n",
    "                current.pop()\n",
    "                used[u] = False\n",
    "        used[v] = False\n",
    "\n",
    "    backtrack([])\n",
    "    return results\n"
   ]
  },
  {
   "cell_type": "code",
   "execution_count": 11,
   "id": "aab20d85-f398-45fa-84c5-852211e2652e",
   "metadata": {},
   "outputs": [],
   "source": [
    "def southeast_border_path(edges):\n",
    "    \"\"\"\n",
    "    Given permutation u, return the southeast border path of its Lehmer diagram\n",
    "    in the same coordinate system used for drawing in interval_diagram.\n",
    "    \"\"\"\n",
    "    #adding borders\n",
    "    edges[-1] = 0\n",
    "    path = ''\n",
    "\n",
    "    for row_step in range(n):\n",
    "        if row_step in edges.keys():\n",
    "            path = path + 'N'* (edges[row_step] - edges[row_step-1]) + 'E'\n",
    "        else: \n",
    "            leftover_N = n-path.count('N')\n",
    "            leftover_E = n-path.count('E')\n",
    "            path = path + 'N'*leftover_N +  'E'*leftover_E\n",
    "\n",
    "    return path\n",
    "\n",
    "\n",
    "def segments_intersect(A, B, C, D):\n",
    "    \"\"\"\n",
    "    Return True if line segments AB and CD intersect.\n",
    "    Each point is a tuple (x, y).\n",
    "    \"\"\"\n",
    "\n",
    "    def ccw(X, Y, Z):\n",
    "        \"\"\"Check if the sequence of points is counter-clockwise.\"\"\"\n",
    "        return (Z[1] - X[1]) * (Y[0] - X[0]) >= (Y[1] - X[1]) * (Z[0] - X[0])\n",
    "\n",
    "    # Check if the segments straddle each other\n",
    "    return (ccw(A, C, D) != ccw(B, C, D)) and (ccw(A, B, C) != ccw(A, B, D))\n",
    "    \n",
    "\n",
    "def interval_diagram_w_lattice(u, v, color):\n",
    "    n = len(u)\n",
    "    assert u in dominant_elements(W), 'u is not dominant'\n",
    "    out = [polygon([[0,0], [n,0],[n,n],[0,n]], color=\"#EEEEEE\", axes=False)]\n",
    "    outer_edges = {}\n",
    "    s, t = 0,0\n",
    "    path = [(s,t)]\n",
    "    \n",
    "    # Squares for v's Lehmer diagram\n",
    "    for (x, y) in lehmer_diagram(v):\n",
    "        out.append(square(x, n - y - 1, 1, color))\n",
    "\n",
    "    # Grey circles for u\n",
    "    for i in range(len(u)):\n",
    "        out.append(circle((i + .5, n - (u[i] + .5) + 1), .1, color=\"grey\", thickness=3))\n",
    "        \n",
    "    # Filled circles for v\n",
    "    # for i in range(n):\n",
    "    #     out.append(circle((i + .5, n - (v[i] + .5) + 1), .08, color=color, fill=True))\n",
    "\n",
    "    # Grey boxes for u's Lehmer diagram\n",
    "    for (x, y) in lehmer_diagram(u):\n",
    "        grey = {(x, n - y - 1)}\n",
    "        out.append(square(x, n - y - 1, 1, \"grey\"))  \n",
    "        if x not in outer_edges or n-y-1 < outer_edges[x]:\n",
    "            outer_edges[x] = n-y-1\n",
    "            \n",
    "   # === Add southeast border path ===\n",
    "    border = southeast_border_path(outer_edges)\n",
    "    #print(border)\n",
    "    pts = [(0,0)]\n",
    "    x,y = 0,0\n",
    "    for ch in border:\n",
    "        if ch == 'E':\n",
    "            x += 1\n",
    "        elif ch == 'N':\n",
    "            y += 1\n",
    "        pts.append((x,y))\n",
    "\n",
    "    segments = []\n",
    "    segment_positions = []\n",
    "    label = []\n",
    "    for i in range(len(pts)-1):\n",
    "        a = pts[i]; b = pts[i+1]\n",
    "        mid_x = (a[0] + b[0]) / 2\n",
    "        mid_y = (a[1] + b[1]) / 2\n",
    "    \n",
    "        # Label with the step number\n",
    "        label.append(text(str(i+1), (mid_x, mid_y), color='blue', fontsize=10))\n",
    "        segments.append(line([a,b], thickness=2, color='red'))\n",
    "        segment_positions.append((a,b))\n",
    "\n",
    "\n",
    "    # === Add NS hooks for each element of v\n",
    "    v_lines = []\n",
    "    matching = []\n",
    "\n",
    "    for i in range(n):\n",
    "        v_position = (i + .5, n - (v[i] + .5) + 1)\n",
    "        out.append(circle((i + .5, n - (v[i] + .5) + 1), .08, color=color, fill=True))\n",
    "\n",
    "        v_lines.append(line([v_position, (v_position[0], n)], color='blue', linestyle='--'))\n",
    "        v_lines.append(line([v_position, (0, v_position[1])], color='blue', linestyle='--'))\n",
    "\n",
    "\n",
    "\n",
    "        #=== MATCHING ===\n",
    "\n",
    "        \n",
    "        for (A,B) in segment_positions: \n",
    "            #print(segments_intersect(v_position, (v_position[0], n), A, B))\n",
    "            if segments_intersect(v_position, (v_position[0], n), A, B):\n",
    "                m1= segment_positions.index((A,B)) +1\n",
    "                #print(v_position, (v_position[0], n))\n",
    "                #print(A,B)\n",
    "    \n",
    "            #print(segments_intersect(v_position, (v_position[0], n), A, B))\n",
    "            elif segments_intersect(v_position, (0, v_position[1]), A, B):\n",
    "                m0= segment_positions.index((A,B))  +1\n",
    "                # print(A,B)\n",
    "                # print(m1)\n",
    "                \n",
    "        matching.append((m0,m1))\n",
    "                \n",
    "        \n",
    " \n",
    "    \n",
    "    #----------------\n",
    "\n",
    "    \n",
    "    plot_elements = sum(out) + sum(segments) + sum(label) + sum(v_lines)\n",
    "    #print(matching)\n",
    "    return plot_elements, matching"
   ]
  },
  {
   "cell_type": "code",
   "execution_count": 12,
   "id": "76b89d31-e579-46f4-a3fb-0cfda07d5adf",
   "metadata": {},
   "outputs": [],
   "source": [
    "#From matching to circular diagram\n",
    "\n",
    "def draw_perfect_matching(matching, n):\n",
    "    \"\"\"\n",
    "    Draws a perfect matching on 2n points arranged in a circle.\n",
    "    `matching` is a list of 2-element tuples representing matched pairs.\n",
    "    Rotates the diagram 90 degrees counterclockwise.\n",
    "    \"\"\"\n",
    "    points = []\n",
    "    labels = []\n",
    "    for i in range(2 * n):\n",
    "        angle = -2 * pi * i / (2 * n) + pi/2  # 90° counter-clockwise\n",
    "        x = cos(angle)\n",
    "        y = sin(angle)\n",
    "        points.append((x, y))\n",
    "        labels.append(text(str(i + 1), (1.2 * x, 1.2 * y), fontsize=30))\n",
    "\n",
    "    G = circle((0, 0), 1, color='black', axes=False) + sum(labels)\n",
    "\n",
    "    for a, b in matching:\n",
    "        x1, y1 = points[a - 1]\n",
    "        x2, y2 = points[b - 1]\n",
    "        G += line([(x1, y1), (x2, y2)], color='blue')\n",
    "\n",
    "    return G\n",
    "\n",
    "def graphics_to_img(g,i, width=60, height=60):\n",
    "    \"\"\"\n",
    "    Convert a Sage Graphics object into an HTML <img> tag.\n",
    "    \"\"\"\n",
    "    return g.save(str(i) + \".png\", dpi=100)"
   ]
  },
  {
   "cell_type": "markdown",
   "id": "5c0fa165-8157-4747-aa9f-fd04d2d80ae4",
   "metadata": {},
   "source": [
    "# From Bruhat interval to matchings (bijective dictionary)"
   ]
  },
  {
   "cell_type": "code",
   "execution_count": 13,
   "id": "54aa1947-cd62-4a23-a19c-192940bf2714",
   "metadata": {},
   "outputs": [
    {
     "name": "stdout",
     "output_type": "stream",
     "text": [
      "([1, 2, 3], [1, 2, 3])\n"
     ]
    },
    {
     "data": {
      "image/png": "[encoded data removed]",
      "text/plain": [
       "Graphics object consisting of 25 graphics primitives"
      ]
     },
     "metadata": {},
     "output_type": "display_data"
    },
    {
     "name": "stdout",
     "output_type": "stream",
     "text": [
      "([1, 2, 3], [1, 3, 2])\n"
     ]
    },
    {
     "data": {
      "image/png": "[encoded data removed]",
      "text/plain": [
       "Graphics object consisting of 26 graphics primitives"
      ]
     },
     "metadata": {},
     "output_type": "display_data"
    },
    {
     "name": "stdout",
     "output_type": "stream",
     "text": [
      "([1, 2, 3], [2, 1, 3])\n"
     ]
    },
    {
     "data": {
      "image/png": "[encoded data removed]",
      "text/plain": [
       "Graphics object consisting of 26 graphics primitives"
      ]
     },
     "metadata": {},
     "output_type": "display_data"
    },
    {
     "name": "stdout",
     "output_type": "stream",
     "text": [
      "([1, 2, 3], [2, 3, 1])\n"
     ]
    },
    {
     "data": {
      "image/png": "[encoded data removed]",
      "text/plain": [
       "Graphics object consisting of 27 graphics primitives"
      ]
     },
     "metadata": {},
     "output_type": "display_data"
    },
    {
     "name": "stdout",
     "output_type": "stream",
     "text": [
      "([1, 2, 3], [3, 1, 2])\n"
     ]
    },
    {
     "data": {
      "image/png": "[encoded data removed]",
      "text/plain": [
       "Graphics object consisting of 27 graphics primitives"
      ]
     },
     "metadata": {},
     "output_type": "display_data"
    },
    {
     "name": "stdout",
     "output_type": "stream",
     "text": [
      "([1, 2, 3], [3, 2, 1])\n"
     ]
    },
    {
     "data": {
      "image/png": "[encoded data removed]",
      "text/plain": [
       "Graphics object consisting of 28 graphics primitives"
      ]
     },
     "metadata": {},
     "output_type": "display_data"
    },
    {
     "name": "stdout",
     "output_type": "stream",
     "text": [
      "([2, 1, 3], [2, 1, 3])\n"
     ]
    },
    {
     "data": {
      "image/png": "[encoded data removed]",
      "text/plain": [
       "Graphics object consisting of 27 graphics primitives"
      ]
     },
     "metadata": {},
     "output_type": "display_data"
    },
    {
     "name": "stdout",
     "output_type": "stream",
     "text": [
      "([2, 1, 3], [2, 3, 1])\n"
     ]
    },
    {
     "data": {
      "image/png": "[encoded data removed]",
      "text/plain": [
       "Graphics object consisting of 28 graphics primitives"
      ]
     },
     "metadata": {},
     "output_type": "display_data"
    },
    {
     "name": "stdout",
     "output_type": "stream",
     "text": [
      "([2, 1, 3], [3, 1, 2])\n"
     ]
    },
    {
     "data": {
      "image/png": "[encoded data removed]",
      "text/plain": [
       "Graphics object consisting of 28 graphics primitives"
      ]
     },
     "metadata": {},
     "output_type": "display_data"
    },
    {
     "name": "stdout",
     "output_type": "stream",
     "text": [
      "([2, 1, 3], [3, 2, 1])\n"
     ]
    },
    {
     "data": {
      "image/png": "[encoded data removed]",
      "text/plain": [
       "Graphics object consisting of 29 graphics primitives"
      ]
     },
     "metadata": {},
     "output_type": "display_data"
    },
    {
     "name": "stdout",
     "output_type": "stream",
     "text": [
      "([2, 3, 1], [2, 3, 1])\n"
     ]
    },
    {
     "data": {
      "image/png": "[encoded data removed]",
      "text/plain": [
       "Graphics object consisting of 29 graphics primitives"
      ]
     },
     "metadata": {},
     "output_type": "display_data"
    },
    {
     "name": "stdout",
     "output_type": "stream",
     "text": [
      "([2, 3, 1], [3, 2, 1])\n"
     ]
    },
    {
     "data": {
      "image/png": "[encoded data removed]",
      "text/plain": [
       "Graphics object consisting of 30 graphics primitives"
      ]
     },
     "metadata": {},
     "output_type": "display_data"
    },
    {
     "name": "stdout",
     "output_type": "stream",
     "text": [
      "([3, 1, 2], [3, 1, 2])\n"
     ]
    },
    {
     "data": {
      "image/png": "[encoded data removed]",
      "text/plain": [
       "Graphics object consisting of 29 graphics primitives"
      ]
     },
     "metadata": {},
     "output_type": "display_data"
    },
    {
     "name": "stdout",
     "output_type": "stream",
     "text": [
      "([3, 1, 2], [3, 2, 1])\n"
     ]
    },
    {
     "data": {
      "image/png": "[encoded data removed]",
      "text/plain": [
       "Graphics object consisting of 30 graphics primitives"
      ]
     },
     "metadata": {},
     "output_type": "display_data"
    },
    {
     "name": "stdout",
     "output_type": "stream",
     "text": [
      "([3, 2, 1], [3, 2, 1])\n"
     ]
    },
    {
     "data": {
      "image/png": "[encoded data removed]",
      "text/plain": [
       "Graphics object consisting of 31 graphics primitives"
      ]
     },
     "metadata": {},
     "output_type": "display_data"
    }
   ],
   "source": [
    "match_to_int_bij = {}\n",
    "int_to_match_bij = {}\n",
    "for u in dominant_elements(W):\n",
    "    for v in u.bruhat_greater():\n",
    "        #print(u,v)\n",
    "        diag, matching = interval_diagram_w_lattice(u,v, colors[0])\n",
    "        int_to_match_bij[(u,v)] = matching\n",
    "        match_to_int_bij[Permutation(matching)] = (u,v)\n",
    "        #if u == [2,1,3,4]:\n",
    "        print((u,v))\n",
    "        show(diag, figsize=[1,1])\n",
    "#int_to_match_bij\n",
    "#match_to_int_bij"
   ]
  },
  {
   "cell_type": "code",
   "execution_count": 14,
   "id": "08c7728c-96e8-429d-9034-19c45448863e",
   "metadata": {},
   "outputs": [
    {
     "data": {
      "text/plain": [
       "True"
      ]
     },
     "execution_count": 14,
     "metadata": {},
     "output_type": "execute_result"
    }
   ],
   "source": [
    "#Fact check: make sure all (2n-1)!! matchings are there by comparing with the matchings we obtain from K_n graph\n",
    "#To make sure we are encoding the matchings correctly, convert matching to involutions (cycle notation)\n",
    "K=graphs.CompleteGraph(2*n)\n",
    "match_from_K = all_perfect_matchings_graph(K)\n",
    "len(match_from_K) == (2*n-1).multifactorial(2)"
   ]
  },
  {
   "cell_type": "code",
   "execution_count": 15,
   "id": "f7431f10-99d5-4b9c-943a-b08d7175900d",
   "metadata": {},
   "outputs": [
    {
     "data": {
      "text/plain": [
       "True"
      ]
     },
     "execution_count": 15,
     "metadata": {},
     "output_type": "execute_result"
    }
   ],
   "source": [
    "#match in Cylce Notaiton = converting regular shmegular matchings into cycle notation \n",
    "match_in_CN = [Permutation(match) for match in list(int_to_match_bij.values())]\n",
    "all(Permutation(m) in match_in_CN for m in match_from_K)"
   ]
  },
  {
   "cell_type": "markdown",
   "id": "7077e922-fe58-47c8-8663-e8da8a2639c2",
   "metadata": {},
   "source": [
    "# Translated Bruhat Intevals"
   ]
  },
  {
   "cell_type": "code",
   "execution_count": 14,
   "id": "0e81d397-dbb1-4038-96f2-e11814b4a660",
   "metadata": {},
   "outputs": [
    {
     "ename": "NameError",
     "evalue": "name 'bruhat_to_class' is not defined",
     "output_type": "error",
     "traceback": [
      "\u001b[31m---------------------------------------------------------------------------\u001b[39m",
      "\u001b[31mNameError\u001b[39m                                 Traceback (most recent call last)",
      "\u001b[36mCell\u001b[39m\u001b[36m \u001b[39m\u001b[32mIn[14]\u001b[39m\u001b[32m, line 3\u001b[39m\n\u001b[32m      1\u001b[39m \u001b[38;5;66;03m#saving diagrams\u001b[39;00m\n\u001b[32m      2\u001b[39m i=Integer(\u001b[32m0\u001b[39m)\n\u001b[32m----> \u001b[39m\u001b[32m3\u001b[39m \u001b[38;5;28;01mfor\u001b[39;00m (u,v) \u001b[38;5;129;01min\u001b[39;00m \u001b[38;5;28mlist\u001b[39m(\u001b[43mbruhat_to_class\u001b[49m.keys()):\n\u001b[32m      4\u001b[39m     g=graphics_to_img(draw_perfect_matching(int_to_match_bij[(u,v)], n),i)\n",
      "\u001b[31mNameError\u001b[39m: name 'bruhat_to_class' is not defined"
     ]
    }
   ],
   "source": [
    "#saving diagrams\n",
    "i=0\n",
    "for (u,v) in list(bruhat_to_class.keys()):\n",
    "    g=graphics_to_img(draw_perfect_matching(int_to_match_bij[(u,v)], n),i)"
   ]
  },
  {
   "cell_type": "code",
   "execution_count": 86,
   "id": "76d36b3e-3ec8-4375-bce2-b165c9f7936b",
   "metadata": {},
   "outputs": [],
   "source": [
    "shifted_intervals = [];\n",
    "pairs_grouped_by_interval = {}\n",
    "bruhat_to_class_presort = {}\n",
    "\n",
    "def shifted_interval (u, v): \n",
    "    W = u.parent();\n",
    "    interval = set()\n",
    "    for x in W.bruhat_interval(u, W(v)):\n",
    "        interval.add((u^(-1)).left_action_product(x)) \n",
    "    return frozenset(interval)\n",
    "\n",
    "for u in dominant_elements(W): \n",
    "    for v in u.bruhat_greater():\n",
    "        interval = shifted_interval(u,v)\n",
    "\n",
    "        if interval in shifted_intervals:\n",
    "            i = shifted_intervals.index(interval)\n",
    "        else:\n",
    "            i = len(shifted_intervals) \n",
    "            pairs_grouped_by_interval[i] = [] \n",
    "            shifted_intervals.append(frozenset(interval))\n",
    "            \n",
    "        pairs_grouped_by_interval[i].append((u,v)) \n",
    "        bruhat_to_class_presort[(u,v)] = i\n",
    "        \n",
    "bruhat_to_class = dict(sorted(bruhat_to_class_presort.items(), key=lambda item: item[1]))\n",
    "\n",
    "##Print outs of interval diagrams of translated (u,v)\n",
    "# c=0\n",
    "\n",
    "# for i in pairs_grouped_by_interval:\n",
    "#     if i > 0:\n",
    "#         print(shifted_intervals[i])\n",
    "#         for (u, v) in pairs_grouped_by_interval[i]:\n",
    "#             show(interval_diagram(u, v, colors[c % 8]), figsize=[1,1]) \n",
    "#         c=c+1\n",
    "#         print(\"---\")"
   ]
  },
  {
   "cell_type": "code",
   "execution_count": 89,
   "id": "9fad79b4-7401-4382-a78f-167262000587",
   "metadata": {},
   "outputs": [
    {
     "data": {
      "text/html": [
       "<div class=\"notruncate\">\n",
       "<table border=\"1\" class=\"table_form\">\n",
       "<tbody>\n",
       "<tr>\n",
       "<th style=\"text-align:left\">No.</th>\n",
       "<th style=\"text-align:left\">Bruhat interval</th>\n",
       "<th style=\"text-align:left\">Translated Class</th>\n",
       "<th style=\"text-align:left\">Matching</th>\n",
       "<th style=\"text-align:left\">Diagram</th>\n",
       "</tr>\n",
       "<tr class =\"row-a\">\n",
       "<td style=\"text-align:left\">1</td>\n",
       "<td style=\"text-align:left\">\\(\\left([1, 2, 3], [1, 2, 3]\\right)\\)</td>\n",
       "<td style=\"text-align:left\">\\(0\\)</td>\n",
       "<td style=\"text-align:left\">\\(\\left[\\left(3, 4\\right), \\left(2, 5\\right), \\left(1, 6\\right)\\right]\\)</td>\n",
       "<td style=\"text-align:left\"><img src=0.png width='60'/></td>\n",
       "</tr>\n",
       "<tr class =\"row-b\">\n",
       "<td style=\"text-align:left\">2</td>\n",
       "<td style=\"text-align:left\">\\(\\left([2, 1, 3], [2, 1, 3]\\right)\\)</td>\n",
       "<td style=\"text-align:left\">\\(0\\)</td>\n",
       "<td style=\"text-align:left\">\\(\\left[\\left(2, 3\\right), \\left(4, 5\\right), \\left(1, 6\\right)\\right]\\)</td>\n",
       "<td style=\"text-align:left\"><img src=1.png width='60'/></td>\n",
       "</tr>\n",
       "<tr class =\"row-a\">\n",
       "<td style=\"text-align:left\">3</td>\n",
       "<td style=\"text-align:left\">\\(\\left([2, 3, 1], [2, 3, 1]\\right)\\)</td>\n",
       "<td style=\"text-align:left\">\\(0\\)</td>\n",
       "<td style=\"text-align:left\">\\(\\left[\\left(2, 3\\right), \\left(1, 4\\right), \\left(5, 6\\right)\\right]\\)</td>\n",
       "<td style=\"text-align:left\"><img src=2.png width='60'/></td>\n",
       "</tr>\n",
       "<tr class =\"row-b\">\n",
       "<td style=\"text-align:left\">4</td>\n",
       "<td style=\"text-align:left\">\\(\\left([3, 1, 2], [3, 1, 2]\\right)\\)</td>\n",
       "<td style=\"text-align:left\">\\(0\\)</td>\n",
       "<td style=\"text-align:left\">\\(\\left[\\left(1, 2\\right), \\left(4, 5\\right), \\left(3, 6\\right)\\right]\\)</td>\n",
       "<td style=\"text-align:left\"><img src=3.png width='60'/></td>\n",
       "</tr>\n",
       "<tr class =\"row-a\">\n",
       "<td style=\"text-align:left\">5</td>\n",
       "<td style=\"text-align:left\">\\(\\left([3, 2, 1], [3, 2, 1]\\right)\\)</td>\n",
       "<td style=\"text-align:left\">\\(0\\)</td>\n",
       "<td style=\"text-align:left\">\\(\\left[\\left(1, 2\\right), \\left(3, 4\\right), \\left(5, 6\\right)\\right]\\)</td>\n",
       "<td style=\"text-align:left\"><img src=4.png width='60'/></td>\n",
       "</tr>\n",
       "<tr class =\"row-b\">\n",
       "<td style=\"text-align:left\">6</td>\n",
       "<td style=\"text-align:left\">\\(\\left([1, 2, 3], [1, 3, 2]\\right)\\)</td>\n",
       "<td style=\"text-align:left\">\\(1\\)</td>\n",
       "<td style=\"text-align:left\">\\(\\left[\\left(3, 4\\right), \\left(1, 5\\right), \\left(2, 6\\right)\\right]\\)</td>\n",
       "<td style=\"text-align:left\"><img src=5.png width='60'/></td>\n",
       "</tr>\n",
       "<tr class =\"row-a\">\n",
       "<td style=\"text-align:left\">7</td>\n",
       "<td style=\"text-align:left\">\\(\\left([2, 1, 3], [2, 3, 1]\\right)\\)</td>\n",
       "<td style=\"text-align:left\">\\(1\\)</td>\n",
       "<td style=\"text-align:left\">\\(\\left[\\left(2, 3\\right), \\left(1, 5\\right), \\left(4, 6\\right)\\right]\\)</td>\n",
       "<td style=\"text-align:left\"><img src=6.png width='60'/></td>\n",
       "</tr>\n",
       "<tr class =\"row-b\">\n",
       "<td style=\"text-align:left\">8</td>\n",
       "<td style=\"text-align:left\">\\(\\left([3, 1, 2], [3, 2, 1]\\right)\\)</td>\n",
       "<td style=\"text-align:left\">\\(1\\)</td>\n",
       "<td style=\"text-align:left\">\\(\\left[\\left(1, 2\\right), \\left(3, 5\\right), \\left(4, 6\\right)\\right]\\)</td>\n",
       "<td style=\"text-align:left\"><img src=7.png width='60'/></td>\n",
       "</tr>\n",
       "<tr class =\"row-a\">\n",
       "<td style=\"text-align:left\">9</td>\n",
       "<td style=\"text-align:left\">\\(\\left([1, 2, 3], [2, 1, 3]\\right)\\)</td>\n",
       "<td style=\"text-align:left\">\\(2\\)</td>\n",
       "<td style=\"text-align:left\">\\(\\left[\\left(2, 4\\right), \\left(3, 5\\right), \\left(1, 6\\right)\\right]\\)</td>\n",
       "<td style=\"text-align:left\"><img src=8.png width='60'/></td>\n",
       "</tr>\n",
       "<tr class =\"row-b\">\n",
       "<td style=\"text-align:left\">10</td>\n",
       "<td style=\"text-align:left\">\\(\\left([2, 3, 1], [3, 2, 1]\\right)\\)</td>\n",
       "<td style=\"text-align:left\">\\(2\\)</td>\n",
       "<td style=\"text-align:left\">\\(\\left[\\left(1, 3\\right), \\left(2, 4\\right), \\left(5, 6\\right)\\right]\\)</td>\n",
       "<td style=\"text-align:left\"><img src=9.png width='60'/></td>\n",
       "</tr>\n",
       "<tr class =\"row-a\">\n",
       "<td style=\"text-align:left\">11</td>\n",
       "<td style=\"text-align:left\">\\(\\left([1, 2, 3], [2, 3, 1]\\right)\\)</td>\n",
       "<td style=\"text-align:left\">\\(3\\)</td>\n",
       "<td style=\"text-align:left\">\\(\\left[\\left(2, 4\\right), \\left(1, 5\\right), \\left(3, 6\\right)\\right]\\)</td>\n",
       "<td style=\"text-align:left\"><img src=10.png width='60'/></td>\n",
       "</tr>\n",
       "<tr class =\"row-b\">\n",
       "<td style=\"text-align:left\">12</td>\n",
       "<td style=\"text-align:left\">\\(\\left([1, 2, 3], [3, 1, 2]\\right)\\)</td>\n",
       "<td style=\"text-align:left\">\\(4\\)</td>\n",
       "<td style=\"text-align:left\">\\(\\left[\\left(1, 4\\right), \\left(3, 5\\right), \\left(2, 6\\right)\\right]\\)</td>\n",
       "<td style=\"text-align:left\"><img src=11.png width='60'/></td>\n",
       "</tr>\n",
       "<tr class =\"row-a\">\n",
       "<td style=\"text-align:left\">13</td>\n",
       "<td style=\"text-align:left\">\\(\\left([1, 2, 3], [3, 2, 1]\\right)\\)</td>\n",
       "<td style=\"text-align:left\">\\(5\\)</td>\n",
       "<td style=\"text-align:left\">\\(\\left[\\left(1, 4\\right), \\left(2, 5\\right), \\left(3, 6\\right)\\right]\\)</td>\n",
       "<td style=\"text-align:left\"><img src=12.png width='60'/></td>\n",
       "</tr>\n",
       "<tr class =\"row-b\">\n",
       "<td style=\"text-align:left\">14</td>\n",
       "<td style=\"text-align:left\">\\(\\left([2, 1, 3], [3, 1, 2]\\right)\\)</td>\n",
       "<td style=\"text-align:left\">\\(6\\)</td>\n",
       "<td style=\"text-align:left\">\\(\\left[\\left(1, 3\\right), \\left(4, 5\\right), \\left(2, 6\\right)\\right]\\)</td>\n",
       "<td style=\"text-align:left\"><img src=13.png width='60'/></td>\n",
       "</tr>\n",
       "<tr class =\"row-a\">\n",
       "<td style=\"text-align:left\">15</td>\n",
       "<td style=\"text-align:left\">\\(\\left([2, 1, 3], [3, 2, 1]\\right)\\)</td>\n",
       "<td style=\"text-align:left\">\\(7\\)</td>\n",
       "<td style=\"text-align:left\">\\(\\left[\\left(1, 3\\right), \\left(2, 5\\right), \\left(4, 6\\right)\\right]\\)</td>\n",
       "<td style=\"text-align:left\"><img src=14.png width='60'/></td>\n",
       "</tr>\n",
       "</tbody>\n",
       "</table>\n",
       "</div>"
      ],
      "text/plain": [
       "┌─────┬────────────────────────┬──────────────────┬──────────────────────────┬──────────────────────────────┐\n",
       "│ No. │ Bruhat interval        │ Translated Class │ Matching                 │ Diagram                      │\n",
       "╞═════╪════════════════════════╪══════════════════╪══════════════════════════╪══════════════════════════════╡\n",
       "│ 1   │ ([1, 2, 3], [1, 2, 3]) │ 0                │ [(3, 4), (2, 5), (1, 6)] │ <img src=0.png width='60'/>  │\n",
       "├─────┼────────────────────────┼──────────────────┼──────────────────────────┼──────────────────────────────┤\n",
       "│ 2   │ ([2, 1, 3], [2, 1, 3]) │ 0                │ [(2, 3), (4, 5), (1, 6)] │ <img src=1.png width='60'/>  │\n",
       "├─────┼────────────────────────┼──────────────────┼──────────────────────────┼──────────────────────────────┤\n",
       "│ 3   │ ([2, 3, 1], [2, 3, 1]) │ 0                │ [(2, 3), (1, 4), (5, 6)] │ <img src=2.png width='60'/>  │\n",
       "├─────┼────────────────────────┼──────────────────┼──────────────────────────┼──────────────────────────────┤\n",
       "│ 4   │ ([3, 1, 2], [3, 1, 2]) │ 0                │ [(1, 2), (4, 5), (3, 6)] │ <img src=3.png width='60'/>  │\n",
       "├─────┼────────────────────────┼──────────────────┼──────────────────────────┼──────────────────────────────┤\n",
       "│ 5   │ ([3, 2, 1], [3, 2, 1]) │ 0                │ [(1, 2), (3, 4), (5, 6)] │ <img src=4.png width='60'/>  │\n",
       "├─────┼────────────────────────┼──────────────────┼──────────────────────────┼──────────────────────────────┤\n",
       "│ 6   │ ([1, 2, 3], [1, 3, 2]) │ 1                │ [(3, 4), (1, 5), (2, 6)] │ <img src=5.png width='60'/>  │\n",
       "├─────┼────────────────────────┼──────────────────┼──────────────────────────┼──────────────────────────────┤\n",
       "│ 7   │ ([2, 1, 3], [2, 3, 1]) │ 1                │ [(2, 3), (1, 5), (4, 6)] │ <img src=6.png width='60'/>  │\n",
       "├─────┼────────────────────────┼──────────────────┼──────────────────────────┼──────────────────────────────┤\n",
       "│ 8   │ ([3, 1, 2], [3, 2, 1]) │ 1                │ [(1, 2), (3, 5), (4, 6)] │ <img src=7.png width='60'/>  │\n",
       "├─────┼────────────────────────┼──────────────────┼──────────────────────────┼──────────────────────────────┤\n",
       "│ 9   │ ([1, 2, 3], [2, 1, 3]) │ 2                │ [(2, 4), (3, 5), (1, 6)] │ <img src=8.png width='60'/>  │\n",
       "├─────┼────────────────────────┼──────────────────┼──────────────────────────┼──────────────────────────────┤\n",
       "│ 10  │ ([2, 3, 1], [3, 2, 1]) │ 2                │ [(1, 3), (2, 4), (5, 6)] │ <img src=9.png width='60'/>  │\n",
       "├─────┼────────────────────────┼──────────────────┼──────────────────────────┼──────────────────────────────┤\n",
       "│ 11  │ ([1, 2, 3], [2, 3, 1]) │ 3                │ [(2, 4), (1, 5), (3, 6)] │ <img src=10.png width='60'/> │\n",
       "├─────┼────────────────────────┼──────────────────┼──────────────────────────┼──────────────────────────────┤\n",
       "│ 12  │ ([1, 2, 3], [3, 1, 2]) │ 4                │ [(1, 4), (3, 5), (2, 6)] │ <img src=11.png width='60'/> │\n",
       "├─────┼────────────────────────┼──────────────────┼──────────────────────────┼──────────────────────────────┤\n",
       "│ 13  │ ([1, 2, 3], [3, 2, 1]) │ 5                │ [(1, 4), (2, 5), (3, 6)] │ <img src=12.png width='60'/> │\n",
       "├─────┼────────────────────────┼──────────────────┼──────────────────────────┼──────────────────────────────┤\n",
       "│ 14  │ ([2, 1, 3], [3, 1, 2]) │ 6                │ [(1, 3), (4, 5), (2, 6)] │ <img src=13.png width='60'/> │\n",
       "├─────┼────────────────────────┼──────────────────┼──────────────────────────┼──────────────────────────────┤\n",
       "│ 15  │ ([2, 1, 3], [3, 2, 1]) │ 7                │ [(1, 3), (2, 5), (4, 6)] │ <img src=14.png width='60'/> │\n",
       "└─────┴────────────────────────┴──────────────────┴──────────────────────────┴──────────────────────────────┘"
      ]
     },
     "execution_count": 89,
     "metadata": {},
     "output_type": "execute_result"
    }
   ],
   "source": [
    "#How do the matchings of these look like?\n",
    "#Bruhat interval, Translated Class, matching, diagram\n",
    "rows = []\n",
    "rows.append(['No.', 'Bruhat interval', 'Translated Class', 'Matching', 'Diagram'])\n",
    "i=0\n",
    "for (u,v) in list(bruhat_to_class.keys()):\n",
    "    g=graphics_to_img(draw_perfect_matching(int_to_match_bij[(u,v)], n),i)\n",
    "    rows.append([str(i+1), (u,v), bruhat_to_class[(u,v)], int_to_match_bij[(u,v)], \"<img src=\" + str(i)+ \".png width='60'/>\"])\n",
    "    i+=1\n",
    "\n",
    "table(rows, header_row=True, frame=True)"
   ]
  },
  {
   "cell_type": "code",
   "execution_count": 88,
   "id": "fc637516-bfcb-4e40-9555-00b89b0f74ac",
   "metadata": {},
   "outputs": [
    {
     "data": {
      "image/png": "[encoded data removed]",
      "text/plain": [
       "Graphics object consisting of 15 graphics primitives"
      ]
     },
     "metadata": {},
     "output_type": "display_data"
    }
   ],
   "source": [
    "P = W.bruhat_poset()\n",
    "\n",
    "labels = {}\n",
    "for w in W:\n",
    "    # one-line permutation string, e.g. '213'\n",
    "    one_line = Permutation(w)\n",
    "    # reduced_word() returns a list like [1,2,1] (Sage Integers); convert to 's1*s2*s1'\n",
    "    rw = w.reduced_word()\n",
    "    rw_str = \"*\".join(\"s{}\".format(int(i)) for i in rw) if rw else \"id\"\n",
    "    # include newline so label shows two lines (depends on renderer)\n",
    "    labels[w] = \"{}\\n{}\".format(one_line, rw_str)\n",
    "\n",
    "P.show(element_labels=labels, figsize=[4,4], vertex_size=100, fontsize=10)"
   ]
  },
  {
   "cell_type": "markdown",
   "id": "18a68681-26bb-490d-b402-edefa415c3b4",
   "metadata": {
    "collapsed": true,
    "jupyter": {
     "outputs_hidden": true
    }
   },
   "source": [
    "## Sidequest: what does rotating a matching corresponding to a bruhat interval do to that interval?"
   ]
  },
  {
   "cell_type": "code",
   "execution_count": 362,
   "id": "b26e3a91-449c-4900-a546-f677bbc7dad5",
   "metadata": {},
   "outputs": [],
   "source": [
    " #Plan: take a matching, convert it to a cycle notation permutation, conjugate by a shifting permutation (long cycle)\n",
    "#Then print out the corresponding bruhat interval"
   ]
  },
  {
   "cell_type": "code",
   "execution_count": 363,
   "id": "07e2d1d1-686f-4006-b055-1e0947f81923",
   "metadata": {},
   "outputs": [],
   "source": [
    "def graphics_to_img_shifted(g,i, width=60, height=60):\n",
    "    \"\"\"\n",
    "    Convert a Sage Graphics object into an HTML <img> tag.\n",
    "    \"\"\"\n",
    "    return g.save(str(i)+\"shifted\" + \".png\", dpi=100)"
   ]
  },
  {
   "cell_type": "code",
   "execution_count": 18,
   "id": "2d9b84c9-e5b0-4915-99b8-4ec09bad6bfd",
   "metadata": {},
   "outputs": [],
   "source": [
    "c = Permutation([tuple(range(1, 2*n + 1))])\n",
    "k=1\n",
    "rows = []\n",
    "rows.append(['No.', 'Bruhat interval', 'Translated Class', 'Matching', 'Diagram', \n",
    "             'Shifted Matching', 'Corresponding interval', 'Corresponding class'])\n",
    "i=0\n",
    "for (u,v) in list(bruhat_to_class.keys()):\n",
    "    shifted = ((c^k).inverse()* Permutation(int_to_match_bij[(u,v)])*(c^k))\n",
    "    #g_shifted = graphics_to_img_shifted(draw_perfect_matching(shifted, n),i)\n",
    "    #g=graphics_to_img(draw_perfect_matching(int_to_match_bij[(u,v)], n),i)\n",
    "    rows.append([str(i), (u,v), bruhat_to_class[(u,v)], int_to_match_bij[(u,v)], \"<img src=\" + str(i)+ \".png width='60'/>\", \n",
    "                 shifted.to_cycles(), match_to_int_bij[shifted], bruhat_to_class[match_to_int_bij[shifted]]])\n",
    "    i+=1\n",
    "\n",
    "table(rows, header_row=True, frame=True);"
   ]
  },
  {
   "cell_type": "code",
   "execution_count": null,
   "id": "8f97b361-b4a4-4a69-b6cb-8e752f3766c8",
   "metadata": {},
   "outputs": [],
   "source": []
  },
  {
   "cell_type": "code",
   "execution_count": 22,
   "id": "05c01d49-e4fb-4983-a781-6800fb82da31",
   "metadata": {},
   "outputs": [],
   "source": [
    "# c = Permutation([tuple(range(1, 2*n + 1))])\n",
    "# k=1\n",
    "# rows = []\n",
    "# rows.append(['No.', 'Bruhat interval', 'Translated Class', 'Matching', 'Diagram', \n",
    "#              'Shifted Matching', 'Corresponding interval', 'Corresponding class'])\n",
    "\n",
    "# for (u,v) in list(bruhat_to_class)[68:71]:\n",
    "#     shifted = ((c^k).inverse()* Permutation(int_to_match_bij[(u,v)])*(c^k))\n",
    "#     #g_shifted = graphics_to_img_shifted(draw_perfect_matching(shifted, n),i)\n",
    "#     g=graphics_to_img(draw_perfect_matching(int_to_match_bij[(u,v)], n),i)\n",
    "#     rows.append([str(i), (u,v), bruhat_to_class[(u,v)], int_to_match_bij[(u,v)], \"<img src=\" + str(i)+ \".png width='60'/>\", \n",
    "#                  shifted.to_cycles(), match_to_int_bij[shifted], bruhat_to_class[match_to_int_bij[shifted]]])\n",
    "    \n",
    "\n",
    "# table(rows, header_row=True, frame=True)"
   ]
  },
  {
   "cell_type": "code",
   "execution_count": 24,
   "id": "b6aaf146-4864-4db6-aac1-d82c90edb31a",
   "metadata": {},
   "outputs": [],
   "source": [
    "c = Permutation([tuple(range(1, 2*n + 1))])\n",
    "k=1\n",
    "rows = []\n",
    "rows.append(['No.', 'Bruhat interval', 'Translated Class', 'Matching', 'Diagram', \n",
    "             'Shifted Matching', 'Corresponding interval', 'Corresponding class'])\n",
    "\n",
    "for (u,v) in list(bruhat_to_class)[68:71]:\n",
    "    shifted = ((c^k).inverse()* Permutation(int_to_match_bij[(u,v)])*(c^k))\n",
    "    #g_shifted = graphics_to_img_shifted(draw_perfect_matching(shifted, n),i)\n",
    "    g=graphics_to_img(draw_perfect_matching(int_to_match_bij[(u,v)], n),i)\n",
    "    rows.append([str(i), (u,v), bruhat_to_class[(u,v)], int_to_match_bij[(u,v)], \"<img src=\" + str(i)+ \".png width='60'/>\", \n",
    "                 shifted.to_cycles(), match_to_int_bij[shifted], bruhat_to_class[match_to_int_bij[shifted]]])\n",
    "    \n",
    "\n",
    "table(rows, header_row=True, frame=True);"
   ]
  },
  {
   "cell_type": "code",
   "execution_count": 25,
   "id": "c48ab5f9-daa9-4b24-a0ba-427bfec87968",
   "metadata": {},
   "outputs": [],
   "source": [
    "# Full matchings on a circular diagram (Sage/Python)\n",
    "# --------------------------------------------------\n",
    "# Vertices 1..2n on a circle in clockwise order.\n",
    "# Extra points sit just clockwise of each odd vertex: positions 1.5, 3.5, ..., (2n-1)+0.5.\n",
    "# A perfect matching M is \"full\" iff for every pair of extra points p<q,\n",
    "# the chord (p,q) crosses at least one edge of M.\n",
    "\n",
    "from itertools import combinations\n",
    "\n",
    "def all_perfect_matchings(labels):\n",
    "    \"\"\"\n",
    "    Generate all perfect matchings on 'labels' (an even-sized iterable of ints).\n",
    "    Each matching is a tuple of 2-tuples (i,j) with i<j, sorted by first then second.\n",
    "    \"\"\"\n",
    "    labels = tuple(sorted(labels))\n",
    "    if not labels:\n",
    "        yield tuple()\n",
    "        return\n",
    "    a = labels[0]\n",
    "    for b in labels[1:]:\n",
    "        pair = (a, b)\n",
    "        rest = tuple(x for x in labels if x not in pair)\n",
    "        for sub in all_perfect_matchings(rest):\n",
    "            M = tuple(sorted(((min(x,y), max(x,y)) for (x,y) in (sub + (pair,))), key=lambda e:(e[0],e[1])))\n",
    "            yield M\n",
    "\n",
    "def chord_crosses(a, b, c, d):\n",
    "    \"\"\"\n",
    "    Return True iff chords (a,b) and (c,d) cross when points lie on a circle\n",
    "    with cyclic order labeled by their numeric values and chords drawn as straight segments in the convex polygon.\n",
    "    Assumes all endpoints are distinct and a<b, c<d (works with non-integers too).\n",
    "    Crossing condition (convex n-gon): a<c<b<d or c<a<d<b.\n",
    "    \"\"\"\n",
    "    if a > b: a, b = b, a\n",
    "    if c > d: c, d = d, c\n",
    "    return (a < c < b < d) or (c < a < d < b)\n",
    "\n",
    "def is_full_matching(M, n):\n",
    "    \"\"\"\n",
    "    Check if perfect matching M on {1..2n} is 'full' given extra points at odd+.5.\n",
    "    For every pair of extra points p<q among {1.5, 3.5, ..., (2n-1)+0.5},\n",
    "    require that the chord (p,q) crosses at least one matching edge in M.\n",
    "    \"\"\"\n",
    "    extras = [k - 0.5 for k in range(1, 2*n, 2)]  # 1.5, 3.5, ..., (2n-1)+0.5\n",
    "    for p, q in combinations(extras, 2):\n",
    "        # Does (p,q) cross at least one matching edge?\n",
    "        crosses_any = any(chord_crosses(p, q, i, j) for (i, j) in M)\n",
    "        if not crosses_any:\n",
    "            return False\n",
    "    return True\n",
    "\n",
    "def full_matchings(n):\n",
    "    \"\"\"\n",
    "    Enumerate all 'full' perfect matchings for size n.\n",
    "    Returns a list of matchings; each matching is a tuple of pairs (i,j) with i<j.\n",
    "    \"\"\"\n",
    "    labels = range(1, 2*n + 1)\n",
    "    out = []\n",
    "    for M in all_perfect_matchings(labels):\n",
    "        if is_full_matching(M, n):\n",
    "            out.append(M)\n",
    "    return out\n",
    "\n",
    "def pretty_matching(M):\n",
    "    return \"{\" + \", \".join(f\"({i},{j})\" for (i,j) in M) + \"}\"\n",
    "\n",
    "# -------------------------\n",
    "# Demo / Example for n = 3:\n",
    "# -------------------------"
   ]
  },
  {
   "cell_type": "code",
   "execution_count": null,
   "id": "91b0a54c-a846-4d8b-8762-bbe15be5334d",
   "metadata": {},
   "outputs": [],
   "source": []
  },
  {
   "cell_type": "code",
   "execution_count": 454,
   "id": "6c7b0f50-5eab-4d9a-a059-34bf6ad453d6",
   "metadata": {},
   "outputs": [
    {
     "data": {
      "text/html": [
       "<div class=\"notruncate\">\n",
       "<table border=\"1\" class=\"table_form\">\n",
       "<tbody>\n",
       "<tr>\n",
       "<th style=\"text-align:left\">No.</th>\n",
       "<th style=\"text-align:left\">Bruhat interval</th>\n",
       "<th style=\"text-align:left\">Translated Class</th>\n",
       "<th style=\"text-align:left\">Matching</th>\n",
       "<th style=\"text-align:left\">Diagram</th>\n",
       "<th style=\"text-align:left\">Shifted Matching</th>\n",
       "<th style=\"text-align:left\">Corresponding interval</th>\n",
       "<th style=\"text-align:left\">Corresponding class</th>\n",
       "</tr>\n",
       "<tr class =\"row-a\">\n",
       "<td style=\"text-align:left\">0</td>\n",
       "<td style=\"text-align:left\">\\(\\left([1, 2, 3, 4], [4, 3, 2, 1]\\right)\\)</td>\n",
       "<td style=\"text-align:left\">\\(23\\)</td>\n",
       "<td style=\"text-align:left\">\\(\\left[\\left(1, 5\\right), \\left(2, 6\\right), \\left(3, 7\\right), \\left(4, 8\\right)\\right]\\)</td>\n",
       "<td style=\"text-align:left\"><img src=0.png width='60'/></td>\n",
       "<td style=\"text-align:left\">\\(\\left[\\left(1, 5\\right), \\left(2, 6\\right), \\left(3, 7\\right), \\left(4, 8\\right)\\right]\\)</td>\n",
       "<td style=\"text-align:left\">\\(\\left([1, 2, 3, 4], [4, 3, 2, 1]\\right)\\)</td>\n",
       "<td style=\"text-align:left\">\\(23\\)</td>\n",
       "</tr>\n",
       "<tr class =\"row-b\">\n",
       "<td style=\"text-align:left\">0</td>\n",
       "<td style=\"text-align:left\">\\(\\left([2, 1, 3, 4], [2, 3, 1, 4]\\right)\\)</td>\n",
       "<td style=\"text-align:left\">\\(24\\)</td>\n",
       "<td style=\"text-align:left\">\\(\\left[\\left(3, 4\\right), \\left(2, 6\\right), \\left(5, 7\\right), \\left(1, 8\\right)\\right]\\)</td>\n",
       "<td style=\"text-align:left\"><img src=0.png width='60'/></td>\n",
       "<td style=\"text-align:left\">\\(\\left[\\left(1, 2\\right), \\left(3, 7\\right), \\left(4, 5\\right), \\left(6, 8\\right)\\right]\\)</td>\n",
       "<td style=\"text-align:left\">\\(\\left([4, 2, 1, 3], [4, 2, 3, 1]\\right)\\)</td>\n",
       "<td style=\"text-align:left\">\\(24\\)</td>\n",
       "</tr>\n",
       "<tr class =\"row-a\">\n",
       "<td style=\"text-align:left\">0</td>\n",
       "<td style=\"text-align:left\">\\(\\left([4, 2, 1, 3], [4, 2, 3, 1]\\right)\\)</td>\n",
       "<td style=\"text-align:left\">\\(24\\)</td>\n",
       "<td style=\"text-align:left\">\\(\\left[\\left(1, 2\\right), \\left(4, 5\\right), \\left(3, 7\\right), \\left(6, 8\\right)\\right]\\)</td>\n",
       "<td style=\"text-align:left\"><img src=0.png width='60'/></td>\n",
       "<td style=\"text-align:left\">\\(\\left[\\left(1, 7\\right), \\left(2, 3\\right), \\left(4, 8\\right), \\left(5, 6\\right)\\right]\\)</td>\n",
       "<td style=\"text-align:left\">\\(\\left([3, 1, 2, 4], [3, 1, 4, 2]\\right)\\)</td>\n",
       "<td style=\"text-align:left\">\\(42\\)</td>\n",
       "</tr>\n",
       "</tbody>\n",
       "</table>\n",
       "</div>"
      ],
      "text/plain": [
       "┌─────┬──────────────────────────────┬──────────────────┬──────────────────────────────────┬─────────────────────────────┬──────────────────────────────────┬──────────────────────────────┬─────────────────────┐\n",
       "│ No. │ Bruhat interval              │ Translated Class │ Matching                         │ Diagram                     │ Shifted Matching                 │ Corresponding interval       │ Corresponding class │\n",
       "╞═════╪══════════════════════════════╪══════════════════╪══════════════════════════════════╪═════════════════════════════╪══════════════════════════════════╪══════════════════════════════╪═════════════════════╡\n",
       "│ 0   │ ([1, 2, 3, 4], [4, 3, 2, 1]) │ 23               │ [(1, 5), (2, 6), (3, 7), (4, 8)] │ <img src=0.png width='60'/> │ [(1, 5), (2, 6), (3, 7), (4, 8)] │ ([1, 2, 3, 4], [4, 3, 2, 1]) │ 23                  │\n",
       "├─────┼──────────────────────────────┼──────────────────┼──────────────────────────────────┼─────────────────────────────┼──────────────────────────────────┼──────────────────────────────┼─────────────────────┤\n",
       "│ 0   │ ([2, 1, 3, 4], [2, 3, 1, 4]) │ 24               │ [(3, 4), (2, 6), (5, 7), (1, 8)] │ <img src=0.png width='60'/> │ [(1, 2), (3, 7), (4, 5), (6, 8)] │ ([4, 2, 1, 3], [4, 2, 3, 1]) │ 24                  │\n",
       "├─────┼──────────────────────────────┼──────────────────┼──────────────────────────────────┼─────────────────────────────┼──────────────────────────────────┼──────────────────────────────┼─────────────────────┤\n",
       "│ 0   │ ([4, 2, 1, 3], [4, 2, 3, 1]) │ 24               │ [(1, 2), (4, 5), (3, 7), (6, 8)] │ <img src=0.png width='60'/> │ [(1, 7), (2, 3), (4, 8), (5, 6)] │ ([3, 1, 2, 4], [3, 1, 4, 2]) │ 42                  │\n",
       "└─────┴──────────────────────────────┴──────────────────┴──────────────────────────────────┴─────────────────────────────┴──────────────────────────────────┴──────────────────────────────┴─────────────────────┘"
      ]
     },
     "execution_count": 454,
     "metadata": {},
     "output_type": "execute_result"
    }
   ],
   "source": [
    "c = Permutation([tuple(range(1, 2*n + 1))])\n",
    "k=1\n",
    "rows = []\n",
    "rows.append(['No.', 'Bruhat interval', 'Translated Class', 'Matching', 'Diagram', \n",
    "             'Shifted Matching', 'Corresponding interval', 'Corresponding class'])\n",
    "\n",
    "for (u,v) in list(bruhat_to_class)[68:71]:\n",
    "    shifted = ((c^k).inverse()* Permutation(int_to_match_bij[(u,v)])*(c^k))\n",
    "    #g_shifted = graphics_to_img_shifted(draw_perfect_matching(shifted, n),i)\n",
    "    g=graphics_to_img(draw_perfect_matching(int_to_match_bij[(u,v)], n),i)\n",
    "    rows.append([str(i), (u,v), bruhat_to_class[(u,v)], int_to_match_bij[(u,v)], \"<img src=\" + str(i)+ \".png width='60'/>\", \n",
    "                 shifted.to_cycles(), match_to_int_bij[shifted], bruhat_to_class[match_to_int_bij[shifted]]])\n",
    "    \n",
    "\n",
    "table(rows, header_row=True, frame=True)"
   ]
  },
  {
   "cell_type": "code",
   "execution_count": 422,
   "id": "e0a6ecf2-e704-40b7-ab53-43abc759d1f1",
   "metadata": {},
   "outputs": [
    {
     "name": "stdout",
     "output_type": "stream",
     "text": [
      "n=4: found 52 full matching(s).\n",
      "{(1,3), (2,5), (4,7), (6,8)}\n",
      "{(1,3), (2,5), (4,8), (6,7)}\n",
      "{(1,3), (2,6), (4,7), (5,8)}\n",
      "{(1,3), (2,6), (4,8), (5,7)}\n",
      "{(1,3), (2,7), (4,5), (6,8)}\n",
      "{(1,3), (2,7), (4,6), (5,8)}\n",
      "{(1,3), (2,8), (4,5), (6,7)}\n",
      "{(1,3), (2,8), (4,6), (5,7)}\n",
      "{(1,4), (2,5), (3,7), (6,8)}\n",
      "{(1,4), (2,5), (3,8), (6,7)}\n",
      "{(1,4), (2,6), (3,7), (5,8)}\n",
      "{(1,4), (2,6), (3,8), (5,7)}\n",
      "{(1,4), (2,7), (3,5), (6,8)}\n",
      "{(1,4), (2,7), (3,6), (5,8)}\n",
      "{(1,4), (2,8), (3,5), (6,7)}\n",
      "{(1,4), (2,8), (3,6), (5,7)}\n",
      "{(1,5), (2,3), (4,7), (6,8)}\n",
      "{(1,5), (2,3), (4,8), (6,7)}\n",
      "{(1,5), (2,4), (3,7), (6,8)}\n",
      "{(1,5), (2,4), (3,8), (6,7)}\n",
      "{(1,5), (2,6), (3,7), (4,8)}\n",
      "{(1,5), (2,6), (3,8), (4,7)}\n",
      "{(1,5), (2,7), (3,6), (4,8)}\n",
      "{(1,5), (2,7), (3,8), (4,6)}\n",
      "{(1,5), (2,8), (3,6), (4,7)}\n",
      "{(1,5), (2,8), (3,7), (4,6)}\n",
      "{(1,6), (2,3), (4,7), (5,8)}\n",
      "{(1,6), (2,3), (4,8), (5,7)}\n",
      "{(1,6), (2,4), (3,7), (5,8)}\n",
      "{(1,6), (2,4), (3,8), (5,7)}\n",
      "{(1,6), (2,5), (3,7), (4,8)}\n",
      "{(1,6), (2,5), (3,8), (4,7)}\n",
      "{(1,6), (2,7), (3,5), (4,8)}\n",
      "{(1,6), (2,7), (3,8), (4,5)}\n",
      "{(1,6), (2,8), (3,5), (4,7)}\n",
      "{(1,6), (2,8), (3,7), (4,5)}\n",
      "{(1,7), (2,3), (4,5), (6,8)}\n",
      "{(1,7), (2,3), (4,6), (5,8)}\n",
      "{(1,7), (2,4), (3,5), (6,8)}\n",
      "{(1,7), (2,4), (3,6), (5,8)}\n",
      "{(1,7), (2,5), (3,6), (4,8)}\n",
      "{(1,7), (2,5), (3,8), (4,6)}\n",
      "{(1,7), (2,6), (3,5), (4,8)}\n",
      "{(1,7), (2,6), (3,8), (4,5)}\n",
      "{(1,8), (2,3), (4,5), (6,7)}\n",
      "{(1,8), (2,3), (4,6), (5,7)}\n",
      "{(1,8), (2,4), (3,5), (6,7)}\n",
      "{(1,8), (2,4), (3,6), (5,7)}\n",
      "{(1,8), (2,5), (3,6), (4,7)}\n",
      "{(1,8), (2,5), (3,7), (4,6)}\n",
      "{(1,8), (2,6), (3,5), (4,7)}\n",
      "{(1,8), (2,6), (3,7), (4,5)}\n"
     ]
    }
   ],
   "source": [
    "n = 4\n",
    "F = full_matchings(n)\n",
    "print(f\"n={n}: found {len(F)} full matching(s).\")\n",
    "for M in F:\n",
    "    print(pretty_matching(M))"
   ]
  },
  {
   "cell_type": "code",
   "execution_count": 423,
   "id": "86cb850e-a9e1-4f90-b08d-e6f29f24b771",
   "metadata": {},
   "outputs": [
    {
     "name": "stdout",
     "output_type": "stream",
     "text": [
      "51\n",
      "46\n",
      "49\n",
      "48\n",
      "37\n",
      "47\n",
      "1\n",
      "7\n",
      "41\n",
      "5\n",
      "35\n",
      "34\n",
      "40\n",
      "33\n",
      "4\n",
      "32\n",
      "50\n",
      "42\n",
      "39\n",
      "3\n",
      "23\n",
      "22\n",
      "21\n",
      "19\n",
      "20\n",
      "18\n",
      "45\n",
      "44\n",
      "31\n",
      "30\n",
      "17\n",
      "16\n",
      "11\n",
      "5\n",
      "10\n",
      "4\n",
      "36\n",
      "43\n",
      "38\n",
      "29\n",
      "15\n",
      "13\n",
      "9\n",
      "3\n",
      "0\n",
      "6\n",
      "2\n",
      "28\n",
      "14\n",
      "12\n",
      "8\n",
      "2\n"
     ]
    }
   ],
   "source": [
    "for M in F:\n",
    "    corr_int = match_to_int_bij[Permutation(M)]\n",
    "    print(bruhat_to_class[corr_int])\n"
   ]
  },
  {
   "cell_type": "code",
   "execution_count": 447,
   "id": "d17ab971-19a5-4c56-96dd-a8af70d8e0b5",
   "metadata": {},
   "outputs": [
    {
     "data": {
      "text/plain": [
       "[([4, 2, 1, 3], [4, 2, 3, 1]),\n",
       " ([2, 1, 3, 4], [2, 3, 4, 1]),\n",
       " ([2, 1, 3, 4], [2, 4, 1, 3]),\n",
       " ([2, 1, 3, 4], [2, 4, 3, 1]),\n",
       " ([2, 1, 3, 4], [3, 2, 1, 4]),\n",
       " ([4, 2, 1, 3], [4, 3, 2, 1]),\n",
       " ([2, 1, 3, 4], [3, 2, 4, 1]),\n",
       " ([2, 1, 3, 4], [3, 4, 1, 2]),\n",
       " ([2, 1, 3, 4], [3, 4, 2, 1]),\n",
       " ([2, 1, 3, 4], [4, 2, 1, 3]),\n",
       " ([2, 1, 3, 4], [4, 2, 3, 1]),\n",
       " ([2, 1, 3, 4], [4, 3, 1, 2]),\n",
       " ([2, 1, 3, 4], [4, 3, 2, 1]),\n",
       " ([2, 3, 1, 4], [2, 3, 4, 1]),\n",
       " ([3, 2, 1, 4], [3, 2, 4, 1]),\n",
       " ([2, 3, 1, 4], [2, 4, 3, 1]),\n",
       " ([3, 2, 1, 4], [4, 2, 3, 1]),\n",
       " ([2, 3, 1, 4], [3, 2, 4, 1]),\n",
       " ([2, 3, 1, 4], [3, 4, 2, 1]),\n",
       " ([2, 3, 1, 4], [4, 2, 3, 1]),\n",
       " ([2, 3, 1, 4], [4, 3, 2, 1]),\n",
       " ([3, 1, 2, 4], [3, 1, 4, 2]),\n",
       " ([3, 2, 1, 4], [3, 4, 1, 2]),\n",
       " ([3, 2, 4, 1], [3, 4, 2, 1]),\n",
       " ([3, 1, 2, 4], [3, 2, 4, 1]),\n",
       " ([3, 1, 2, 4], [3, 4, 1, 2]),\n",
       " ([3, 1, 2, 4], [3, 4, 2, 1]),\n",
       " ([3, 1, 2, 4], [4, 1, 3, 2]),\n",
       " ([3, 2, 1, 4], [4, 3, 1, 2]),\n",
       " ([3, 2, 4, 1], [4, 3, 2, 1]),\n",
       " ([3, 1, 2, 4], [4, 2, 3, 1]),\n",
       " ([3, 1, 2, 4], [4, 3, 1, 2]),\n",
       " ([3, 1, 2, 4], [4, 3, 2, 1]),\n",
       " ([3, 2, 1, 4], [3, 4, 2, 1]),\n",
       " ([3, 2, 1, 4], [4, 3, 2, 1])]"
      ]
     },
     "execution_count": 447,
     "metadata": {},
     "output_type": "execute_result"
    }
   ],
   "source": [
    "list(bruhat_to_class)[70:]"
   ]
  },
  {
   "cell_type": "code",
   "execution_count": 438,
   "id": "526fca40-f990-4fa8-909e-c8be4f33ea30",
   "metadata": {},
   "outputs": [
    {
     "data": {
      "text/plain": [
       "24"
      ]
     },
     "execution_count": 438,
     "metadata": {},
     "output_type": "execute_result"
    }
   ],
   "source": [
    "bruhat_to_class[list(bruhat_to_class)[70]]"
   ]
  },
  {
   "cell_type": "code",
   "execution_count": 403,
   "id": "fe2d1e3b-f784-4a3b-a0a3-987607f714b5",
   "metadata": {},
   "outputs": [
    {
     "data": {
      "text/plain": [
       "[((1, 3), (2, 5), (4, 6)),\n",
       " ((1, 3), (2, 6), (4, 5)),\n",
       " ((1, 4), (2, 5), (3, 6)),\n",
       " ((1, 4), (2, 6), (3, 5)),\n",
       " ((1, 5), (2, 3), (4, 6)),\n",
       " ((1, 5), (2, 4), (3, 6)),\n",
       " ((1, 6), (2, 3), (4, 5)),\n",
       " ((1, 6), (2, 4), (3, 5))]"
      ]
     },
     "execution_count": 403,
     "metadata": {},
     "output_type": "execute_result"
    }
   ],
   "source": [
    "for M in F:\n",
    "    print("
   ]
  },
  {
   "cell_type": "code",
   "execution_count": 350,
   "id": "e9530b54-6280-4ae8-aa7b-0829a6554767",
   "metadata": {},
   "outputs": [
    {
     "data": {
      "text/plain": [
       "[[(1, 2), (3, 4), (5, 6)],\n",
       " [(1, 2), (3, 5), (4, 6)],\n",
       " [(1, 2), (3, 6), (4, 5)],\n",
       " [(1, 3), (2, 4), (5, 6)],\n",
       " [(1, 3), (2, 5), (4, 6)],\n",
       " [(1, 3), (2, 6), (4, 5)],\n",
       " [(1, 4), (2, 3), (5, 6)],\n",
       " [(1, 4), (2, 5), (3, 6)],\n",
       " [(1, 4), (2, 6), (3, 5)],\n",
       " [(1, 5), (2, 3), (4, 6)],\n",
       " [(1, 5), (2, 4), (3, 6)],\n",
       " [(1, 5), (2, 6), (3, 4)],\n",
       " [(1, 6), (2, 3), (4, 5)],\n",
       " [(1, 6), (2, 4), (3, 5)],\n",
       " [(1, 6), (2, 5), (3, 4)]]"
      ]
     },
     "execution_count": 350,
     "metadata": {},
     "output_type": "execute_result"
    }
   ],
   "source": [
    "list(generate_perfect_matchings(list(range(1,7))))"
   ]
  },
  {
   "cell_type": "markdown",
   "id": "7f6efa8a-1fac-4944-9376-8c7c01ee70ce",
   "metadata": {
    "vscode": {
     "languageId": "python"
    }
   },
   "source": [
    "# New poset & interval - Middle order"
   ]
  },
  {
   "cell_type": "code",
   "execution_count": 80,
   "id": "ca6997bc",
   "metadata": {},
   "outputs": [],
   "source": [
    "def inversion_sequence_by_value(w):\n",
    "    n = len(w)\n",
    "    winv = ~w\n",
    "    return vector([sum(1 for j in range(1, i) if winv(j) > winv(i)) for i in range(1, n+1)])\n",
    "\n",
    "\n",
    "def build_inversion_poset(n):\n",
    "    perms = list(Permutations(n))\n",
    "    cover_relations = []\n",
    "    inv_seqs = {p: inversion_sequence_by_value(p) for p in perms}\n",
    "    for v in perms:\n",
    "        for w in perms:\n",
    "            if v == w:\n",
    "                continue\n",
    "            diff = inv_seqs[w] - inv_seqs[v]\n",
    "            if all(d in (0,1) for d in diff) and sum(diff) == 1:\n",
    "                cover_relations.append((v, w))\n",
    "\n",
    "    return Poset((perms, cover_relations), cover_relations=True)\n",
    "\n",
    "def find_boolean_intervals(G):\n",
    "    \"\"\"\n",
    "    Given a Poset P, return a list of intervals [x, y] that are Boolean lattices. \n",
    "    Theorem 1.9: An interval [v,w] is Booelean iff for I(v) = (x1,...,xn) and I(w) = (y1,...,yn), yi in {xi,xi +1} for all i\n",
    "    \"\"\"\n",
    "\n",
    "    boolean_intervals = []\n",
    "    inv_seqs = {p: inversion_sequence_by_value(p) for p in list(G)}\n",
    "    \n",
    "    for v in list(G):\n",
    "        middle_greater = [w for w in list(G) if G.is_lequal(v,w)]\n",
    "        for w in middle_greater:\n",
    "            diff = inv_seqs[w] - inv_seqs[v]\n",
    "            if all(i in (0,1) for i in diff):\n",
    "                boolean_intervals.append((v,w))\n",
    "    return boolean_intervals"
   ]
  },
  {
   "cell_type": "code",
   "execution_count": 84,
   "id": "f17f4485",
   "metadata": {},
   "outputs": [],
   "source": [
    "G = build_inversion_poset(n)\n",
    "G.plot(vertex_size=300)\n",
    "boolean_int = find_boolean_intervals(G)\n",
    "\n"
   ]
  },
  {
   "cell_type": "code",
   "execution_count": null,
   "id": "68de60cb",
   "metadata": {},
   "outputs": [],
   "source": []
  },
  {
   "cell_type": "markdown",
   "id": "5abae178",
   "metadata": {},
   "source": [
    "# Middle Order"
   ]
  },
  {
   "cell_type": "code",
   "execution_count": 85,
   "id": "be733a37",
   "metadata": {},
   "outputs": [
    {
     "name": "stdout",
     "output_type": "stream",
     "text": [
      "[1, 2, 3] [1, 2, 3]\n",
      "([1, 2, 3], [1, 2, 3])\n"
     ]
    },
    {
     "data": {
      "image/png": "[encoded data removed]",
      "text/plain": [
       "Graphics object consisting of 25 graphics primitives"
      ]
     },
     "metadata": {},
     "output_type": "display_data"
    },
    {
     "name": "stdout",
     "output_type": "stream",
     "text": [
      "[1, 2, 3] [1, 3, 2]\n",
      "([1, 2, 3], [1, 3, 2])\n"
     ]
    },
    {
     "data": {
      "image/png": "[encoded data removed]",
      "text/plain": [
       "Graphics object consisting of 26 graphics primitives"
      ]
     },
     "metadata": {},
     "output_type": "display_data"
    },
    {
     "name": "stdout",
     "output_type": "stream",
     "text": [
      "[1, 2, 3] [2, 1, 3]\n",
      "([1, 2, 3], [2, 1, 3])\n"
     ]
    },
    {
     "data": {
      "image/png": "[encoded data removed]",
      "text/plain": [
       "Graphics object consisting of 26 graphics primitives"
      ]
     },
     "metadata": {},
     "output_type": "display_data"
    },
    {
     "name": "stdout",
     "output_type": "stream",
     "text": [
      "[1, 2, 3] [2, 3, 1]\n",
      "([1, 2, 3], [2, 3, 1])\n"
     ]
    },
    {
     "data": {
      "image/png": "[encoded data removed]",
      "text/plain": [
       "Graphics object consisting of 27 graphics primitives"
      ]
     },
     "metadata": {},
     "output_type": "display_data"
    },
    {
     "name": "stdout",
     "output_type": "stream",
     "text": [
      "[1, 3, 2] [1, 3, 2]\n"
     ]
    },
    {
     "ename": "AssertionError",
     "evalue": "u is not dominant",
     "output_type": "error",
     "traceback": [
      "\u001b[31m---------------------------------------------------------------------------\u001b[39m",
      "\u001b[31mAssertionError\u001b[39m                            Traceback (most recent call last)",
      "\u001b[36mCell\u001b[39m\u001b[36m \u001b[39m\u001b[32mIn[85]\u001b[39m\u001b[32m, line 5\u001b[39m\n\u001b[32m      3\u001b[39m \u001b[38;5;28;01mfor\u001b[39;00m (u,v) \u001b[38;5;129;01min\u001b[39;00m boolean_int:\n\u001b[32m      4\u001b[39m         \u001b[38;5;28mprint\u001b[39m(u,v)\n\u001b[32m----> \u001b[39m\u001b[32m5\u001b[39m         diag, matching = \u001b[43minterval_diagram_w_lattice\u001b[49m\u001b[43m(\u001b[49m\u001b[43mu\u001b[49m\u001b[43m,\u001b[49m\u001b[43mv\u001b[49m\u001b[43m,\u001b[49m\u001b[43m \u001b[49m\u001b[43mcolors\u001b[49m\u001b[43m[\u001b[49m\u001b[43mInteger\u001b[49m\u001b[43m(\u001b[49m\u001b[32;43m0\u001b[39;49m\u001b[43m)\u001b[49m\u001b[43m]\u001b[49m\u001b[43m)\u001b[49m\n\u001b[32m      6\u001b[39m         int_to_match_bij_mid[(u,v)] = matching\n\u001b[32m      7\u001b[39m         match_to_int_bij_mid[Permutation(matching)] = (u,v)\n",
      "\u001b[36mCell\u001b[39m\u001b[36m \u001b[39m\u001b[32mIn[11]\u001b[39m\u001b[32m, line 37\u001b[39m, in \u001b[36minterval_diagram_w_lattice\u001b[39m\u001b[34m(u, v, color)\u001b[39m\n\u001b[32m     35\u001b[39m \u001b[38;5;28;01mdef\u001b[39;00m\u001b[38;5;250m \u001b[39m\u001b[34minterval_diagram_w_lattice\u001b[39m(u, v, color):\n\u001b[32m     36\u001b[39m     n = \u001b[38;5;28mlen\u001b[39m(u)\n\u001b[32m---> \u001b[39m\u001b[32m37\u001b[39m     \u001b[38;5;28;01massert\u001b[39;00m u \u001b[38;5;129;01min\u001b[39;00m dominant_elements(W), \u001b[33m'\u001b[39m\u001b[33mu is not dominant\u001b[39m\u001b[33m'\u001b[39m\n\u001b[32m     38\u001b[39m     out = [polygon([[Integer(\u001b[32m0\u001b[39m),Integer(\u001b[32m0\u001b[39m)], [n,Integer(\u001b[32m0\u001b[39m)],[n,n],[Integer(\u001b[32m0\u001b[39m),n]], color=\u001b[33m\"\u001b[39m\u001b[33m#EEEEEE\u001b[39m\u001b[33m\"\u001b[39m, axes=\u001b[38;5;28;01mFalse\u001b[39;00m)]\n\u001b[32m     39\u001b[39m     outer_edges = {}\n",
      "\u001b[31mAssertionError\u001b[39m: u is not dominant"
     ]
    }
   ],
   "source": [
    "match_to_int_bij_mid = {}\n",
    "int_to_match_bij_mid = {}\n",
    "for (u,v) in boolean_int:\n",
    "        print(u,v)\n",
    "        diag, matching = interval_diagram_w_lattice(u,v, colors[0])\n",
    "        int_to_match_bij_mid[(u,v)] = matching\n",
    "        match_to_int_bij_mid[Permutation(matching)] = (u,v)\n",
    "        #if u == [2,1,3,4]:\n",
    "        print((u,v))\n",
    "        show(diag, figsize=[1,1])\n",
    "#int_to_match_bij\n",
    "#match_to_int_bij"
   ]
  },
  {
   "cell_type": "code",
   "execution_count": 91,
   "id": "d9d237c7",
   "metadata": {},
   "outputs": [
    {
     "name": "stdout",
     "output_type": "stream",
     "text": [
      "24\n",
      "True\n",
      "0\n",
      "6\n"
     ]
    },
    {
     "data": {
      "image/png": "[encoded data removed]",
      "text/plain": [
       "Graphics object consisting of 14 graphics primitives"
      ]
     },
     "metadata": {},
     "output_type": "display_data"
    }
   ],
   "source": [
    "# SageMath code\n",
    "\n",
    "def inversion_sequence_from_perm(perm):\n",
    "    \"\"\"\n",
    "    perm: a Sage permutation object (values 1..n)\n",
    "    returns tuple (x1,...,xn) where xi counts how many j<i occur to the right of i (in value-sense)\n",
    "    \"\"\"\n",
    "    n = len(perm)\n",
    "    pos = [0]*(n+1)\n",
    "    # positions by VALUE: pos[value] = index (0-based)\n",
    "    for idx, v in enumerate(perm):\n",
    "        pos[v] = idx\n",
    "    seq = []\n",
    "    for i in range(1, n+1):\n",
    "        pi = pos[i]\n",
    "        c = sum(1 for j in range(1, i) if pos[j] > pi)\n",
    "        seq.append(c)\n",
    "    return tuple(seq)\n",
    "\n",
    "def middle_order_poset(n):\n",
    "    \"\"\"\n",
    "    Return the middle-order poset P_n on permutations of size n.\n",
    "    Elements are Sage permutations; order defined by coordinatewise ≤ on inversion sequences.\n",
    "    \"\"\"\n",
    "    from sage.combinat.permutation import Permutations\n",
    "    perms = list(Permutations(n))\n",
    "    invseq = {p: inversion_sequence_from_perm(p) for p in perms}\n",
    "\n",
    "    def leq(p, q):\n",
    "        a, b = invseq[p], invseq[q]\n",
    "        return all(x <= y for x, y in zip(a, b))\n",
    "\n",
    "    P = Poset((perms, leq))\n",
    "    # optional: a rank function = total number of inversions (sum of the inversion-sequence entries)\n",
    "    P._rank_function = lambda p: sum(invseq[p])  # graded; equals classical inversion number\n",
    "    return P\n",
    "\n",
    "# --- demo / usage ---\n",
    "P3 = middle_order_poset(3)\n",
    "print(P4.cardinality())      # should be 24\n",
    "print(P4.is_lattice())       # True (finite distributive lattice)\n",
    "print(P4.rank_function()(Permutations(4)([1,2,3,4])))  # 0\n",
    "print(P4.rank_function()(Permutations(4)([4,3,2,1])))  # 6\n",
    "\n",
    "# plot (labels as one-line notation)\n",
    "lab = {p: ''.join(map(str, list(p))) for p in P3.list()}\n",
    "G = P3.plot(element_labels=lab)\n",
    "G.show()  # or save: G.save('P4_middle_order.png')\n"
   ]
  },
  {
   "cell_type": "code",
   "execution_count": null,
   "id": "aaa723b7",
   "metadata": {},
   "outputs": [],
   "source": []
  }
 ],
 "metadata": {
  "kernelspec": {
   "display_name": "SageMath 10.6",
   "language": "sage",
   "name": "SageMath-10.6"
  },
  "language_info": {
   "codemirror_mode": {
    "name": "ipython",
    "version": 3
   },
   "file_extension": ".py",
   "mimetype": "text/x-python",
   "name": "python",
   "nbconvert_exporter": "python",
   "pygments_lexer": "ipython3",
   "version": "3.12.5"
  }
 },
 "nbformat": 4,
 "nbformat_minor": 5
}
