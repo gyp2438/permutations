{
 "cells": [
  {
   "cell_type": "code",
   "execution_count": 12,
   "id": "2b747676-f32f-4ef7-a171-1b2ce3f12465",
   "metadata": {},
   "outputs": [
    {
     "data": {
      "text/plain": [
       "[1, 2, 3, 4]"
      ]
     },
     "execution_count": 12,
     "metadata": {},
     "output_type": "execute_result"
    }
   ],
   "source": [
    " PF = ParkingFunction([1,1,1,1])\n",
    " PF.cars_permutation()\n"
   ]
  },
  {
   "cell_type": "code",
   "execution_count": 29,
   "id": "cce55be7-5c61-4146-a1e7-97dbc54b3c1e",
   "metadata": {},
   "outputs": [],
   "source": [
    "def Lucky_arrangements(n,I):\n",
    "    arr = []\n",
    "    for pf in ParkingFunctions(n):\n",
    "        cars = pf.cars_permutation()\n",
    "        lucky=[]\n",
    "        for i in range(n):\n",
    "            if pf[i] == cars.index(i+1)+1:\n",
    "                lucky.append(i+1)\n",
    "        if lucky == I and cars not in arr:\n",
    "            arr.append(cars)\n",
    "    return arr"
   ]
  },
  {
   "cell_type": "code",
   "execution_count": 50,
   "id": "7b328d19-fcba-404e-b3a0-e8526b5524cf",
   "metadata": {},
   "outputs": [
    {
     "data": {
      "text/plain": [
       "[[1, 2, 3, 4, 5],\n",
       " [1, 2, 3, 5, 4],\n",
       " [1, 2, 4, 3, 5],\n",
       " [1, 2, 5, 3, 4],\n",
       " [1, 2, 4, 5, 3],\n",
       " [1, 2, 5, 4, 3],\n",
       " [1, 3, 2, 4, 5],\n",
       " [1, 3, 2, 5, 4],\n",
       " [1, 4, 2, 3, 5],\n",
       " [1, 5, 2, 3, 4],\n",
       " [1, 4, 2, 5, 3],\n",
       " [1, 5, 2, 4, 3],\n",
       " [1, 3, 4, 2, 5],\n",
       " [1, 3, 5, 2, 4],\n",
       " [1, 4, 3, 2, 5],\n",
       " [1, 5, 3, 2, 4],\n",
       " [1, 4, 5, 2, 3],\n",
       " [1, 5, 4, 2, 3],\n",
       " [1, 3, 4, 5, 2],\n",
       " [1, 3, 5, 4, 2],\n",
       " [1, 4, 3, 5, 2],\n",
       " [1, 5, 3, 4, 2],\n",
       " [1, 4, 5, 3, 2],\n",
       " [1, 5, 4, 3, 2],\n",
       " [2, 1, 3, 4, 5],\n",
       " [2, 1, 3, 5, 4],\n",
       " [2, 1, 4, 3, 5],\n",
       " [2, 1, 5, 3, 4],\n",
       " [2, 1, 4, 5, 3],\n",
       " [2, 1, 5, 4, 3],\n",
       " [3, 1, 2, 4, 5],\n",
       " [3, 1, 2, 5, 4],\n",
       " [4, 1, 2, 3, 5],\n",
       " [5, 1, 2, 3, 4],\n",
       " [4, 1, 2, 5, 3],\n",
       " [5, 1, 2, 4, 3],\n",
       " [3, 1, 4, 2, 5],\n",
       " [3, 1, 5, 2, 4],\n",
       " [4, 1, 3, 2, 5],\n",
       " [5, 1, 3, 2, 4],\n",
       " [4, 1, 5, 2, 3],\n",
       " [5, 1, 4, 2, 3],\n",
       " [3, 1, 4, 5, 2],\n",
       " [3, 1, 5, 4, 2],\n",
       " [4, 1, 3, 5, 2],\n",
       " [5, 1, 3, 4, 2],\n",
       " [4, 1, 5, 3, 2],\n",
       " [5, 1, 4, 3, 2],\n",
       " [2, 3, 1, 4, 5],\n",
       " [2, 3, 1, 5, 4],\n",
       " [2, 4, 1, 3, 5],\n",
       " [2, 5, 1, 3, 4],\n",
       " [2, 4, 1, 5, 3],\n",
       " [2, 5, 1, 4, 3],\n",
       " [3, 2, 1, 4, 5],\n",
       " [3, 2, 1, 5, 4],\n",
       " [4, 2, 1, 3, 5],\n",
       " [5, 2, 1, 3, 4],\n",
       " [4, 2, 1, 5, 3],\n",
       " [5, 2, 1, 4, 3],\n",
       " [3, 4, 1, 2, 5],\n",
       " [3, 5, 1, 2, 4],\n",
       " [4, 3, 1, 2, 5],\n",
       " [5, 3, 1, 2, 4],\n",
       " [4, 5, 1, 2, 3],\n",
       " [5, 4, 1, 2, 3],\n",
       " [3, 4, 1, 5, 2],\n",
       " [3, 5, 1, 4, 2],\n",
       " [4, 3, 1, 5, 2],\n",
       " [5, 3, 1, 4, 2],\n",
       " [4, 5, 1, 3, 2],\n",
       " [5, 4, 1, 3, 2],\n",
       " [2, 3, 4, 1, 5],\n",
       " [2, 3, 5, 1, 4],\n",
       " [2, 4, 3, 1, 5],\n",
       " [2, 5, 3, 1, 4],\n",
       " [2, 4, 5, 1, 3],\n",
       " [2, 5, 4, 1, 3],\n",
       " [3, 2, 4, 1, 5],\n",
       " [3, 2, 5, 1, 4],\n",
       " [4, 2, 3, 1, 5],\n",
       " [5, 2, 3, 1, 4],\n",
       " [4, 2, 5, 1, 3],\n",
       " [5, 2, 4, 1, 3],\n",
       " [3, 4, 2, 1, 5],\n",
       " [3, 5, 2, 1, 4],\n",
       " [4, 3, 2, 1, 5],\n",
       " [5, 3, 2, 1, 4],\n",
       " [4, 5, 2, 1, 3],\n",
       " [5, 4, 2, 1, 3],\n",
       " [3, 4, 5, 1, 2],\n",
       " [3, 5, 4, 1, 2],\n",
       " [4, 3, 5, 1, 2],\n",
       " [5, 3, 4, 1, 2],\n",
       " [4, 5, 3, 1, 2],\n",
       " [5, 4, 3, 1, 2],\n",
       " [2, 3, 4, 5, 1],\n",
       " [2, 3, 5, 4, 1],\n",
       " [2, 4, 3, 5, 1],\n",
       " [2, 5, 3, 4, 1],\n",
       " [2, 4, 5, 3, 1],\n",
       " [2, 5, 4, 3, 1],\n",
       " [3, 2, 4, 5, 1],\n",
       " [3, 2, 5, 4, 1],\n",
       " [4, 2, 3, 5, 1],\n",
       " [5, 2, 3, 4, 1],\n",
       " [4, 2, 5, 3, 1],\n",
       " [5, 2, 4, 3, 1],\n",
       " [3, 4, 2, 5, 1],\n",
       " [3, 5, 2, 4, 1],\n",
       " [4, 3, 2, 5, 1],\n",
       " [5, 3, 2, 4, 1],\n",
       " [4, 5, 2, 3, 1],\n",
       " [5, 4, 2, 3, 1],\n",
       " [3, 4, 5, 2, 1],\n",
       " [3, 5, 4, 2, 1],\n",
       " [4, 3, 5, 2, 1],\n",
       " [5, 3, 4, 2, 1],\n",
       " [4, 5, 3, 2, 1],\n",
       " [5, 4, 3, 2, 1]]"
      ]
     },
     "execution_count": 50,
     "metadata": {},
     "output_type": "execute_result"
    }
   ],
   "source": [
    "Lucky_arrangements(5,[1,2,3,4,5])"
   ]
  },
  {
   "cell_type": "code",
   "execution_count": 51,
   "id": "2064da8b-eb00-4d29-81db-695127e71d0d",
   "metadata": {},
   "outputs": [
    {
     "data": {
      "text/plain": [
       "120"
      ]
     },
     "execution_count": 51,
     "metadata": {},
     "output_type": "execute_result"
    }
   ],
   "source": [
    "len(_)"
   ]
  },
  {
   "cell_type": "code",
   "execution_count": 7,
   "id": "44d9d2b4-9745-4ab0-8fae-d8709351fc56",
   "metadata": {},
   "outputs": [],
   "source": [
    "#I is some subset of [n] that includes 1 that represents the index of lucky cars\n",
    "n=4\n",
    "I = [1]\n",
    "for w in Permutations(n):\n",
    "    if all(w[i]>w[i+1] and w[i+1] in I for i in range(n-1)) == True:\n",
    "        print(w)\n",
    "    if a\n",
    "    # for i in range(n-1):\n",
    "    #     if w[i]>w[i+1] and w[i+1] in I:\n",
    "    #         print(w)"
   ]
  },
  {
   "cell_type": "code",
   "execution_count": null,
   "id": "373aeb59-023d-4e43-a98b-e6e32b1cf88d",
   "metadata": {},
   "outputs": [],
   "source": [
    "'''if w[i]>w[i+1] then w[i+1] is in I'''\n",
    "'''if w[i+1] is not in I then w[i+1]>w[i]'''"
   ]
  }
 ],
 "metadata": {
  "kernelspec": {
   "display_name": "SageMath 10.1",
   "language": "sage",
   "name": "sagemath-10.1"
  },
  "language_info": {
   "codemirror_mode": {
    "name": "ipython",
    "version": 3
   },
   "file_extension": ".py",
   "mimetype": "text/x-python",
   "name": "python",
   "nbconvert_exporter": "python",
   "pygments_lexer": "ipython3",
   "version": "3.11.1"
  }
 },
 "nbformat": 4,
 "nbformat_minor": 5
}
