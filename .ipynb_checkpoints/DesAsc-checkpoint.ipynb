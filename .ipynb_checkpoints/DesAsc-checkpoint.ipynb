{
 "cells": [
  {
   "cell_type": "code",
   "execution_count": 52,
   "id": "4d3e2297-bb5f-423d-aed7-ce43d1f60d62",
   "metadata": {},
   "outputs": [
    {
     "ename": "ModuleNotFoundError",
     "evalue": "No module named 'pandas'",
     "output_type": "error",
     "traceback": [
      "\u001b[0;31m---------------------------------------------------------------------------\u001b[0m",
      "\u001b[0;31mModuleNotFoundError\u001b[0m                       Traceback (most recent call last)",
      "Cell \u001b[0;32mIn[52], line 1\u001b[0m\n\u001b[0;32m----> 1\u001b[0m \u001b[38;5;28;01mimport\u001b[39;00m \u001b[38;5;21;01mpandas\u001b[39;00m \u001b[38;5;28;01mas\u001b[39;00m \u001b[38;5;21;01mpd\u001b[39;00m\n",
      "\u001b[0;31mModuleNotFoundError\u001b[0m: No module named 'pandas'"
     ]
    }
   ],
   "source": [
    "import pandas as pd"
   ]
  },
  {
   "cell_type": "code",
   "execution_count": 30,
   "id": "757dbf54-1121-4edd-853a-662ea81265ee",
   "metadata": {},
   "outputs": [
    {
     "data": {
      "text/plain": [
       "True"
      ]
     },
     "execution_count": 30,
     "metadata": {},
     "output_type": "execute_result"
    }
   ],
   "source": [
    "n=2\n",
    "even_cycles = [sigma for sigma in Permutations(2*n) if all(cycle % 2 == 0 for cycle in sigma.cycle_type()) == True]\n",
    "odd_cycles = [sigma for sigma in Permutations(2*n) if all(cycle % 2 == 1 for cycle in sigma.cycle_type()) == True]\n",
    "\n",
    "len(even_cycles) == len(odd_cycles)"
   ]
  },
  {
   "cell_type": "code",
   "execution_count": 31,
   "id": "5db9ebc6-6c71-4685-836f-41a57933efa8",
   "metadata": {},
   "outputs": [],
   "source": [
    "# descent_sets_even = [sigma.descents() for sigma in even_cycles]\n",
    "# Des_even = [len(des) for des in descent_sets_even]\n",
    "# ascent_sets_odd = [[i for i in range(len(sigma) - 1) if sigma[i] < sigma[i + 1]] for sigma in odd_cycles]\n",
    "# Asc_odd = [len(asc) for asc in ascent_sets_odd]\n",
    "    "
   ]
  },
  {
   "cell_type": "code",
   "execution_count": 44,
   "id": "f8969667-d5ec-47e4-b7e4-7bb03632daf7",
   "metadata": {},
   "outputs": [],
   "source": [
    "Des_even = {}\n",
    "for sigma in even_cycles:\n",
    "    des = sigma.descents()\n",
    "    Des_even[sigma] = [des, len(des)]\n",
    "\n",
    "Asc_odd = {}\n",
    "for sigma in odd_cycles:\n",
    "    asc = [i for i in range(len(sigma) - 1) if sigma[i] < sigma[i + 1]]\n",
    "    Asc_odd[sigma] = [asc, len(asc)]"
   ]
  },
  {
   "cell_type": "code",
   "execution_count": 45,
   "id": "a2e84f4a-b3fc-49aa-8158-46662ae4701b",
   "metadata": {},
   "outputs": [],
   "source": [
    "Des_dist = sorted([val[1] for val in Des_even.values()])\n",
    "Asc_dist = sorted([val[1] for val in Asc_odd.values()])"
   ]
  },
  {
   "cell_type": "code",
   "execution_count": 48,
   "id": "d3d6aceb-6db4-4545-bbb9-629d3f5b11d2",
   "metadata": {},
   "outputs": [
    {
     "data": {
      "text/plain": [
       "True"
      ]
     },
     "execution_count": 48,
     "metadata": {},
     "output_type": "execute_result"
    }
   ],
   "source": [
    "sorted(Des_dist) == sorted(Asc_dist)"
   ]
  },
  {
   "cell_type": "code",
   "execution_count": 36,
   "id": "d5cd89f5-9175-4e51-ab8e-029e605eaa9c",
   "metadata": {},
   "outputs": [
    {
     "data": {
      "text/plain": [
       "{[2, 1, 4, 3]: [[1, 3], 2],\n",
       " [2, 3, 4, 1]: [[3], 1],\n",
       " [2, 4, 1, 3]: [[2], 1],\n",
       " [3, 1, 4, 2]: [[1, 3], 2],\n",
       " [3, 4, 1, 2]: [[2], 1],\n",
       " [3, 4, 2, 1]: [[2, 3], 2],\n",
       " [4, 1, 2, 3]: [[1], 1],\n",
       " [4, 3, 1, 2]: [[1, 2], 2],\n",
       " [4, 3, 2, 1]: [[1, 2, 3], 3]}"
      ]
     },
     "execution_count": 36,
     "metadata": {},
     "output_type": "execute_result"
    }
   ],
   "source": [
    "Des_even"
   ]
  },
  {
   "cell_type": "code",
   "execution_count": 49,
   "id": "4740e066-f510-4d22-b71a-294481303e9d",
   "metadata": {},
   "outputs": [
    {
     "data": {
      "text/plain": [
       "{[1, 2, 3, 4]: [[0, 1, 2], 3],\n",
       " [1, 3, 4, 2]: [[0, 1], 2],\n",
       " [1, 4, 2, 3]: [[0, 2], 2],\n",
       " [2, 3, 1, 4]: [[0, 2], 2],\n",
       " [2, 4, 3, 1]: [[0], 1],\n",
       " [3, 1, 2, 4]: [[1, 2], 2],\n",
       " [3, 2, 4, 1]: [[1], 1],\n",
       " [4, 1, 3, 2]: [[1], 1],\n",
       " [4, 2, 1, 3]: [[2], 1]}"
      ]
     },
     "execution_count": 49,
     "metadata": {},
     "output_type": "execute_result"
    }
   ],
   "source": [
    "Asc_odd"
   ]
  },
  {
   "cell_type": "code",
   "execution_count": null,
   "id": "f82df116-66b0-4f2a-b4d8-3cd4a97df5da",
   "metadata": {},
   "outputs": [],
   "source": []
  }
 ],
 "metadata": {
  "kernelspec": {
   "display_name": "SageMath 10.3",
   "language": "sage",
   "name": "sagemath-10.3"
  },
  "language_info": {
   "codemirror_mode": {
    "name": "ipython",
    "version": 3
   },
   "file_extension": ".py",
   "mimetype": "text/x-python",
   "name": "python",
   "nbconvert_exporter": "python",
   "pygments_lexer": "ipython3",
   "version": "3.11.8"
  }
 },
 "nbformat": 4,
 "nbformat_minor": 5
}
