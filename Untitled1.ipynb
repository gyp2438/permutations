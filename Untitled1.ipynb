{
 "cells": [
  {
   "cell_type": "code",
   "execution_count": 10,
   "id": "e32e8586-c6db-47dd-b9e9-038104529d8a",
   "metadata": {},
   "outputs": [
    {
     "name": "stdout",
     "output_type": "stream",
     "text": [
      "  2  2  1\n",
      "  1  1\n",
      "  1\n"
     ]
    }
   ],
   "source": [
    "a = Tableau([[2,2,1], [1,1], [1]])\n",
    "a.pp()"
   ]
  },
  {
   "cell_type": "code",
   "execution_count": 11,
   "id": "ceac5d4a-99f5-4469-a4bd-247b91d7450b",
   "metadata": {},
   "outputs": [
    {
     "name": "stdout",
     "output_type": "stream",
     "text": [
      "  1  4  5\n",
      "  3  5\n",
      "  4\n"
     ]
    }
   ],
   "source": [
    "A = a.hillman_grassl(); A.pp()"
   ]
  },
  {
   "cell_type": "code",
   "execution_count": 9,
   "id": "547857c7-267b-4650-aa37-781cb768cd66",
   "metadata": {},
   "outputs": [
    {
     "name": "stdout",
     "output_type": "stream",
     "text": [
      "  1  1  1  1  2  2  2  2  2  2  3\n",
      "  2  2  2  3  3  3\n",
      "  3\n"
     ]
    }
   ],
   "source": [
    "RSK(a_T)[0].pp()"
   ]
  },
  {
   "cell_type": "code",
   "execution_count": 8,
   "id": "5769a254-cd8a-4f1e-bce7-d6a6b139ff57",
   "metadata": {},
   "outputs": [],
   "source": [
    "a_T = Tableau([[1,4,2],[2,2,2],[1,3,1]])"
   ]
  },
  {
   "cell_type": "code",
   "execution_count": null,
   "id": "66e1760a-3d54-4b25-a344-610bd21abd89",
   "metadata": {},
   "outputs": [],
   "source": []
  }
 ],
 "metadata": {
  "kernelspec": {
   "display_name": "SageMath 10.3",
   "language": "sage",
   "name": "sagemath-10.3"
  },
  "language_info": {
   "codemirror_mode": {
    "name": "ipython",
    "version": 3
   },
   "file_extension": ".py",
   "mimetype": "text/x-python",
   "name": "python",
   "nbconvert_exporter": "python",
   "pygments_lexer": "ipython3",
   "version": "3.11.8"
  }
 },
 "nbformat": 4,
 "nbformat_minor": 5
}
